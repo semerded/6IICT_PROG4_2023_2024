{
 "cells": [
  {
   "attachments": {},
   "cell_type": "markdown",
   "metadata": {},
   "source": [
    "<div style=\"margin-bottom:-35px;\">\n",
    "    <font color=#FFFFFF markdown=\"1\">\n",
    "        <h1> <center> Gebaseerd op een cursus van:</center> </h1> \n",
    "    </font>\n",
    "    <a href=\"https://www.aiopschool.be/chatbot/\"> \n",
    "        <img src=\"../_afbeeldingen/bannerugentdwengo.png\" alt=\"Dwengo\" style =\"display: block; margin-left: auto; margin-right: auto; margin-bottom: 30px; width:20%\"/>\n",
    "    </a>\n",
    "</div>"
   ]
  },
  {
   "cell_type": "markdown",
   "metadata": {},
   "source": [
    "# Toepassing: Chatbot "
   ]
  },
  {
   "cell_type": "markdown",
   "metadata": {},
   "source": [
    "## 1. Algemene info bij notebook"
   ]
  },
  {
   "cell_type": "markdown",
   "metadata": {},
   "source": [
    "### 1.1 Modules installeren"
   ]
  },
  {
   "cell_type": "markdown",
   "metadata": {},
   "source": [
    "Voer onderstaande code-cel uit. Deze bevat de modules noodzakelijk voor deze notebook. Dit is een eenmalige actie. Installeren kan zo'n 20 seconden duren."
   ]
  },
  {
   "cell_type": "markdown",
   "metadata": {},
   "source": [
    "<div style=\"background-color:#8B0000\"> \n",
    "Controleert eerst dat deze notebook gebruik maakt van een venv als kernel (zie rechtsboven). Vraag indien nodig aan de leerkracht om dit te controleren.</div>"
   ]
  },
  {
   "cell_type": "code",
   "execution_count": null,
   "metadata": {},
   "outputs": [],
   "source": [
    "import sys\n",
    "!{sys.executable} -m pip install Levenshtein"
   ]
  },
  {
   "cell_type": "markdown",
   "metadata": {},
   "source": [
    "### 1.2 Soorten Chatbots"
   ]
  },
  {
   "cell_type": "markdown",
   "metadata": {},
   "source": [
    "Chatbots worden opgesplitst in 2 groepen. De regelgebaseerde (`Artificial Intelligence`) en lerende systemen (`Machine Learning`).\n",
    "\n",
    "- **De regelgebaseerde chatbots** worden geprogrammeerd met een set regels, ze volgen als het ware een script. Die robots kan je vergelijken met een online enquête: nuttig en eenvoudig, maar niet heel flexibel.\n",
    "\n",
    "- **De lerende chatbots**. Deze hebben steeds een (grote) hoeveelheid voorbeeldtekst nodig die ze analyseren en waaruit ze leren hoe een conversatie werkt. Het leren zelf kan op vele manieren gebeuren. Vaak wordt `Machine Learning` gebruikt. Dit is voldoende om een simpele assistent-bot te maken voor op een website. \n",
    "\n",
    "**Opmerking**:\n",
    "Ook lerende chatbots op basis van `deep learning` komen steeds meer voor. Dit door het grote success van Chat-GPT. Dit soort chatbots slagen erin om zeer natuurlijke gesprekken te voeren. Het vereist echter een hoop extra data, waardoor niet iedereen een dergelijke chatbot kan ontwikkelen."
   ]
  },
  {
   "cell_type": "markdown",
   "metadata": {},
   "source": [
    "### 1.3 Overzicht van deze notebook"
   ]
  },
  {
   "cell_type": "markdown",
   "metadata": {},
   "source": [
    "In deze notebook programmeer je **eerst een zeer eenvoudige, regelgebaseerde (AI) chatbot** die werkt zoals een woordenboek (of *dictionary*). Voor elke vraag of zin die de gebruiker stelt, zoekt de chatbot het bijbehorende antwoord op. Staat de vraag niet in het woordenboek, dan kan de chatbot daar niet mee overweg. \n",
    "\n",
    "Nadien maak je **een lerende chatbot**. Je leert deze welke vragen ongeveer gelijk zijn. Zodat het hetzelfde antwoord hierop zal geven. De robot slaat de tekst uit een conversatie op, en zoekt dan bij elke vraag van een gebruiker in zijn database welke gekende vraag daar het meest op lijkt. Hiervoor gebruikt deze notebook het concept van de Levenshteinafstand (bepaald in *bot.py*).\n",
    "\n",
    "Tenslotte sluit je af met een praktisch voorbeeld van de **lerende chatbot**. Een **medische assistant** die mensen helpt met het halen van hun vaccinaties."
   ]
  },
  {
   "attachments": {},
   "cell_type": "markdown",
   "metadata": {},
   "source": [
    "## 2. Een simpele (AI) chatbot aanmaken"
   ]
  },
  {
   "attachments": {},
   "cell_type": "markdown",
   "metadata": {},
   "source": [
    "<div style=\"background-color:#8B8000\">\n",
    "In dit deel maak je een regelgebaseerde chatbot. Hiervoor wordt gebruik gemaakt van het datatype 'dictionary' in Python.</div>"
   ]
  },
  {
   "cell_type": "markdown",
   "metadata": {},
   "source": [
    "We willen een chatbot ontwikkelen die een simpel gesprek kan voeren. Hiervoor is onderstaande *dictionary* `conversatie` opgesteld. De *sleutels (keys)* zijn vragen aan de Chatbot. De *waarden (values)* zijn de antwoorden op deze vragen. "
   ]
  },
  {
   "cell_type": "code",
   "execution_count": null,
   "metadata": {},
   "outputs": [],
   "source": [
    "conversatie = {\n",
    "               \"Hoe gaat het met jou?\": \"Prima\",\n",
    "               \"Wie ben jij?\": \"Marvin de robot\",\n",
    "               \"Hoe oud ben je?\": \"Ik ben net gecreëerd\",\n",
    "               \"Welk weer wordt het morgen?\": \"Regen, zoals altijd\"\n",
    "              }"
   ]
  },
  {
   "cell_type": "markdown",
   "metadata": {},
   "source": [
    "#### Oefen mee 2.1"
   ]
  },
  {
   "cell_type": "markdown",
   "metadata": {},
   "source": [
    "Voeg zelf nog minstens 2 vragen & antwoorden toe aan de dictionary `conversatie`."
   ]
  },
  {
   "cell_type": "markdown",
   "metadata": {},
   "source": [
    "#### Oefen mee 2.2"
   ]
  },
  {
   "cell_type": "markdown",
   "metadata": {},
   "source": [
    "- Voer de code-cel met erin de dictionary `conversatie` uit. De dictionary is nu ingeladen en klaar voor gebruik. Test dit door onderstaande code-cel uit te voeren."
   ]
  },
  {
   "cell_type": "code",
   "execution_count": null,
   "metadata": {},
   "outputs": [],
   "source": [
    "# Indien conversatie ingeladen is, print deze code 'Prima'.\n",
    "print(conversatie[\"Hoe gaat het met jou?\"])"
   ]
  },
  {
   "cell_type": "markdown",
   "metadata": {},
   "source": [
    "- Voer nu onderstaande cel uit. Het resultaat is een foutmelding. <div style=\"background-color:#008000\">\n",
    "   - Leg uit waarom:   De tekst wordt niet gevonden in de dictionary \n",
    "</div>"
   ]
  },
  {
   "cell_type": "code",
   "execution_count": null,
   "metadata": {},
   "outputs": [],
   "source": [
    "# vraag en antwoord\n",
    "print(conversatie[\"Hoe is het moet jou?\"])"
   ]
  },
  {
   "attachments": {},
   "cell_type": "markdown",
   "metadata": {},
   "source": [
    "<div style=\"background-color:#000065\">\n",
    "    Op deze manier werken - enkel op basis van een <em>dictionary</em> - is natuurlijk zeer beperkt. Er kan enkel een antwoord gegeven worden op een vraag die letterlijk overeenkomt met een sleutel. De AI chatbot die enkel de regels van een dictionary volgt, is dan ook enkel nuttig in specifieke gevallen. Meer mogelijkheden krijg je als je een lerende chatbot maakt.\n",
    "</div>"
   ]
  },
  {
   "attachments": {},
   "cell_type": "markdown",
   "metadata": {},
   "source": [
    "## 3. Een lerende (ML) chatbot"
   ]
  },
  {
   "cell_type": "markdown",
   "metadata": {},
   "source": [
    "<div style=\"background-color:#8B8000\">\n",
    "In dit deel maak je een lerende chatbot. Dit door gebruik te maken van de chatbot ontwikkeld in bestand ml_bot.py. In deel 4 wordt uitgelegd hoe deze chatbot werkt.</div>"
   ]
  },
  {
   "attachments": {},
   "cell_type": "markdown",
   "metadata": {},
   "source": [
    "### 3.1 Modules importeren & variabelen klaarzetten "
   ]
  },
  {
   "cell_type": "markdown",
   "metadata": {},
   "source": [
    "Importeer de lerende (machine learning) chatbot uit het bestand `ml_bot.py`."
   ]
  },
  {
   "cell_type": "code",
   "execution_count": null,
   "metadata": {
    "id": "W15nnvwSyZaa"
   },
   "outputs": [],
   "source": [
    "from ml_bot import MlChatbot"
   ]
  },
  {
   "cell_type": "markdown",
   "metadata": {},
   "source": [
    "Voer hiernaast ook onderstaande cel met erin een dictionary `conversatie` uit. Je mag deze ook eerst uitbreiden met extra elementen."
   ]
  },
  {
   "cell_type": "code",
   "execution_count": null,
   "metadata": {},
   "outputs": [],
   "source": [
    "conversatie = {\n",
    "               \"Hallo\": \"Hey\",            \n",
    "               \"Hoe gaat het met jou?\": \"Prima\",\n",
    "               \"Wat ben jij?\": \"Ik ben een chatbot\",\n",
    "               \"Doei\": \"Dag\",\n",
    "               \"Wat voor weer wordt het vandaag\": \"Kijk naar buiten\",\n",
    "               \"hoeveel is 2 + 2\": \"4\"\n",
    "                # voeg hier andere vragen en antwoorden toe\n",
    "              }"
   ]
  },
  {
   "cell_type": "markdown",
   "metadata": {},
   "source": [
    "<div style=\"background-color:#8B0000\"> \n",
    "Als je deze notebook sluit, worden alle variabelen en imports vergeten. Je moet bovenstaande code-blokken dus altijd uitvoeren na het openen van deze notebook.\n",
    "</div>"
   ]
  },
  {
   "attachments": {},
   "cell_type": "markdown",
   "metadata": {},
   "source": [
    "### 3.2 Aanmaken van de chatbot"
   ]
  },
  {
   "attachments": {},
   "cell_type": "markdown",
   "metadata": {},
   "source": [
    "Voer onderstaande cel uit. Het maakt een nieuwe chatbot aan. Deze heeft de naam Marvin."
   ]
  },
  {
   "cell_type": "markdown",
   "metadata": {},
   "source": [
    "<div style=\"background-color:#000065\">\n",
    "    De chatbot wordt aangemaakt via <b>Object geOriënteerd Programmeren (OOP)</b> (zie vorig trimester).\n",
    "</div>"
   ]
  },
  {
   "cell_type": "code",
   "execution_count": null,
   "metadata": {},
   "outputs": [],
   "source": [
    "# chatbot genereren\n",
    "bot = MlChatbot(\"Marvin\")"
   ]
  },
  {
   "attachments": {},
   "cell_type": "markdown",
   "metadata": {},
   "source": [
    "Het 'brein' van de chatbot is leeg. Marvin weet dus niet hoe hij een gesprek moet voeren. Om hem dit te leren, zullen we *trainingsdata* moeten voorzien. Voer volgende cel uit om Marvin te trainen met dictionary `conversatie`. "
   ]
  },
  {
   "cell_type": "code",
   "execution_count": null,
   "metadata": {
    "colab": {
     "base_uri": "https://localhost:8080/"
    },
    "id": "bCRzKY90y0VV",
    "outputId": "8ffd87c5-9bdc-4d06-bb8c-7f58eea42f40"
   },
   "outputs": [],
   "source": [
    "# trainen van de bot\n",
    "bot.train(conversatie)"
   ]
  },
  {
   "attachments": {},
   "cell_type": "markdown",
   "metadata": {},
   "source": [
    "#### Oefen mee 3.1:"
   ]
  },
  {
   "cell_type": "markdown",
   "metadata": {},
   "source": [
    "Om te kijken of dit werkt, bekijk je hoe hij reageert als iemand \"Hallo\" zegt:"
   ]
  },
  {
   "cell_type": "code",
   "execution_count": null,
   "metadata": {},
   "outputs": [],
   "source": [
    "print(bot.zoek_antwoord(\"hoi\"))"
   ]
  },
  {
   "cell_type": "markdown",
   "metadata": {},
   "source": [
    "\"Hallo\" stond in de dictionary. Het is dan ook geen wonder dat de bot een antwoord kan geven.\n",
    "\n",
    "-  Geef eens een onbestaande, maar gelijkende vraag in. <div style=\"background-color:#008000\">\n",
    "    -  Is resultaat een gepast antwoord op vraag (hoe komt dit denk je)? Hij onderzoekt de letters in het woord en kijkt met wat het overeenkomt\n",
    "-  Geef ook eens een onbestaande en niet-gelijkende vraag in. <div style=\"background-color:#008000\">\n",
    "    -  Is resultaat een gepast antwoord op vraag (hoe komt dit denk je)? Er is te weinig data om gepaste antwoorden te geven \n",
    "</div>"
   ]
  },
  {
   "cell_type": "markdown",
   "metadata": {},
   "source": [
    "De methode `vraag_reeks` laat je meerdere zaken achtereen vragen. De methode beëindigen, doe je door **stop** in te geven."
   ]
  },
  {
   "cell_type": "code",
   "execution_count": null,
   "metadata": {},
   "outputs": [],
   "source": [
    "print(bot.vraag_reeks())"
   ]
  },
  {
   "attachments": {},
   "cell_type": "markdown",
   "metadata": {
    "id": "E2URWutU1T2m"
   },
   "source": [
    "- Stel via `vraag_reeks` nog een aantal vragen aan Marvin. Bekijk dan *dictionary* `conversatie`. <div style=\"background-color:#008000\">\n",
    "    - Waarom heeft de chatbot voor deze antwoorden gekozen?   Door de keywords die gebruikt zijn in de zinnen\n",
    "</div>"
   ]
  },
  {
   "attachments": {},
   "cell_type": "markdown",
   "metadata": {},
   "source": [
    "De chatbot zal op iedere vraag een antwoord proberen te formuleren. Hoe slecht-geschreven of onduidelijk deze ook is. Het mag duidelijk zijn dat een chatbot trainen niet zo vanzelfsprekend is!"
   ]
  },
  {
   "attachments": {},
   "cell_type": "markdown",
   "metadata": {
    "id": "E2URWutU1T2m"
   },
   "source": [
    "#### Oefen mee 3.2:\n",
    "- Voeg nog eens twee vragen en antwoorden toe aan de *dictionary* `conversatie` en train de robot opnieuw (voer de code-cel met methode *train* opnieuw uit). <div style=\"background-color:#008000\">  \n",
    "   -  Hoe controleer je of de nieuwe data is toegevoegd? De vraag stellen\n",
    "\n",
    "- Zoek 4 woorden of zinnen waarop de ChatBot deze twee nieuwe antwoorden teruggeeft. <div style=\"background-color:#008000\">\n",
    "   - Welke woorden/zinnen gaf je in? \n",
    "   <ul>\n",
    "   <li>Wat voor weer wordt het morgen</li>\n",
    "   <li>hoe warm wordt het vandaag</li>\n",
    "   <li>Hoeveel is 5+5</li>\n",
    "   <li>Wat is dit</li>\n",
    "   </ul>\n",
    "</div>"
   ]
  },
  {
   "attachments": {},
   "cell_type": "markdown",
   "metadata": {
    "id": "WnKOged92y7_"
   },
   "source": [
    "## 4. Hoe werkt de lerende (ML) chatbot?"
   ]
  },
  {
   "cell_type": "markdown",
   "metadata": {},
   "source": [
    "<div style=\"background-color:#000065\"> \n",
    "    Uit deel 3 moet duidelijk zijn wat de bot doet. Het zoekt in de ingeladen data welke vraag het meest lijkt op degene die aan hem gesteld is. De bot geeft vervolgens het overeenkomstige antwoord.\n",
    "</div>"
   ]
  },
  {
   "cell_type": "markdown",
   "metadata": {},
   "source": [
    "<div style=\"background-color:#8B8000\">\n",
    "    We hebben dus een manier nodig om kwantitatief (met getallen) vast te leggen welke vraag in de data het meest lijkt op de gestelde vraag. De bot doet dit door gebruik te maken van de <b>Levenshteinafstand</b>.\n",
    "</div>"
   ]
  },
  {
   "cell_type": "markdown",
   "metadata": {},
   "source": [
    "### 4.1 Modules importeren & variabelen klaarzetten "
   ]
  },
  {
   "cell_type": "markdown",
   "metadata": {},
   "source": [
    "Importeer de module `Levenshtein`. Importeer ook de `MlChatbot` uit `ml_bot.py`. We zullen beide gebruiken in '4.4 Levenshteinafstand in code'."
   ]
  },
  {
   "cell_type": "code",
   "execution_count": 18,
   "metadata": {},
   "outputs": [],
   "source": [
    "import Levenshtein\n",
    "from ml_bot import MlChatbot"
   ]
  },
  {
   "cell_type": "markdown",
   "metadata": {},
   "source": [
    "Voer hiernaast ook onderstaande cel met erin een dictionary `conversatie` uit. Je mag deze ook eerst uitbreiden met extra elementen."
   ]
  },
  {
   "cell_type": "code",
   "execution_count": 19,
   "metadata": {},
   "outputs": [],
   "source": [
    "conversatie = {\n",
    "               \"Hallo\": \"Hey\",            \n",
    "               \"Hoe gaat het met jou?\": \"Prima\",\n",
    "               \"Wat ben jij?\": \"Ik ben een chatbot\",\n",
    "               \"Doei\": \"Dag\"\n",
    "                # voeg hier andere vragen en antwoorden toe\n",
    "              }"
   ]
  },
  {
   "cell_type": "markdown",
   "metadata": {},
   "source": [
    "<div style=\"background-color:#8B0000\"> \n",
    "Als je deze notebook sluit, worden alle variabelen en imports vergeten. Je moet bovenstaande code-blokken dus altijd uitvoeren na het openen van deze notebook.\n",
    "</div>"
   ]
  },
  {
   "attachments": {},
   "cell_type": "markdown",
   "metadata": {},
   "source": [
    "### 4.2 Het principe van de Levenshteinafstand"
   ]
  },
  {
   "attachments": {},
   "cell_type": "markdown",
   "metadata": {
    "id": "WnKOged92y7_"
   },
   "source": [
    "De lerende bot gebruikt de <b>Levenshteinafstand</b> om te bepalen welke vraag in de *dictionary* `conversatie` het meest lijkt op de gestelde vraag. Maar hoe werkt deze techniek? <br> <br>\n",
    "Stel dat we de woorden 'kitten' en 'koken' willen vergelijken. \n",
    "Verander steeds 1 letter tot 'kitten' aangepast is naar 'koken':\n",
    " 1. kotten en koken\n",
    " 2. koten en koken\n",
    " 3. koken en koken\n",
    "\n",
    "Er waren $3$ aanpassingen nodig. De Levenshteinafstand tussen 'kitten' en 'koken' is dus $3$."
   ]
  },
  {
   "cell_type": "markdown",
   "metadata": {},
   "source": [
    "Echter zijn niet alle woorden/zinnen even lang. De woorden `kip en dam`, en de woorden `'schakelaar' en 'schakeling'` hebben beide Levenshteinafstand $3$. De langere woorden lijken echter veel meer op elkaar dan de kortere.\n",
    "\n",
    "Daarom wordt de Levenshteinafstand nog gedeeld door de lengte van het langste woord. Dit levert volgende scores op:\n",
    " - `kip en dam` (3 / 3): $1$   \n",
    " - `'schakelaar' en 'schakeling'` (3 / 10): $0.3$ \n",
    "\n",
    "Deze score is een goede indicatie van hoeveel woorden op elkaar lijken. $0$ is exact hetzelfde. $1$ is totaal verschillend."
   ]
  },
  {
   "cell_type": "markdown",
   "metadata": {},
   "source": [
    "In het kort. Gebruik deze formule om de gelijkenis tussen twee woorden/zinnen te bepalen.\n",
    "<div style=\"text-align: center; font-family: 'Arial', sans-serif; font-size: 18px;\">\n",
    "Levenshteinscore = Levenshteinafstand / (aantal letters in langste woord)\n",
    "</div"
   ]
  },
  {
   "attachments": {},
   "cell_type": "markdown",
   "metadata": {},
   "source": [
    "### 4.3 Hoe bepaald de bot het 'beste' antwoord?"
   ]
  },
  {
   "attachments": {},
   "cell_type": "markdown",
   "metadata": {},
   "source": [
    "Nu we weten hoe de Levenshteinafstand werkt. Hoe gebruikt de bot deze om het 'beste' antwoord op een vraag te bepalen?<br>\n",
    "\n",
    "De chatbot overloopt elke vraag in de trainingsdata. Het bepaalt voor iedere trainingsvraag de levenshteinscore tot de gebruikersvraag. Na het doorlopen van alle trainingsvragen, geeft het het antwoord terug bij de trainingsvraag die de kleinste score had."
   ]
  },
  {
   "cell_type": "markdown",
   "metadata": {},
   "source": [
    "<div style=\"background-color:#8B8000\"> \n",
    "    Herinner je! De gebruikte score ligt tussen 0 en 1. 0 betekent dat de twee teksten perfect overeenkomen en 1 betekent dat ze volledig verschillend zijn.\n",
    "</div>"
   ]
  },
  {
   "attachments": {},
   "cell_type": "markdown",
   "metadata": {},
   "source": [
    "### 4.4 Levenshteinafstand in code"
   ]
  },
  {
   "cell_type": "markdown",
   "metadata": {},
   "source": [
    "Bekijk onderstaande code. Het gebruikt de functie `distance` (afstand) uit de module `Levenshtein`. "
   ]
  },
  {
   "cell_type": "code",
   "execution_count": 17,
   "metadata": {},
   "outputs": [
    {
     "name": "stdout",
     "output_type": "stream",
     "text": [
      "afstand tussen PIEMEL & piemel: 1.0\n"
     ]
    }
   ],
   "source": [
    "woord_1 = \"PIEMEL\"\n",
    "woord_2 = \"piemel\"\n",
    "afstand = Levenshtein.distance(woord_1, woord_2) \n",
    "afstand /= len(woord_1) if len(woord_1) > len(woord_2) else len(woord_2)\n",
    "print(f\"afstand tussen {woord_1} & {woord_2}: {afstand}\")"
   ]
  },
  {
   "cell_type": "markdown",
   "metadata": {},
   "source": [
    "#### Oefen mee 4.1:"
   ]
  },
  {
   "cell_type": "markdown",
   "metadata": {},
   "source": [
    "- Verander woord_1 & woord_2. Probeer een afstand van 1 & 3 te bekomen. <div style=\"background-color:#008000\">\n",
    "  -  Woorden met afstand 1:  Hello\n",
    "  -  Woorden met afstand 3: hell  \n",
    "</div>\n",
    "\n",
    "- Bovenstaande code print de afstand. Deze is echter gevoelig aan de lengte van het woord (Zie `4.2 principe van Levenshteinafstand`). Pas de code aan. Bepaal en print nu ook de Levenshteinscore. Hieronder enkele voorbeelden.\n",
    "   - Score voor 'Hallo' & 'Iedereen': 1.0\n",
    "   - Score voor 'dat' & 'mag': 0.66...\n",
    "   - Score voor 'schakelaar' & 'schakeling': 0.3\n",
    "\n",
    "- Ga na of de afstand & score afhankelijk zijn van drukletters. <div style=\"background-color:#008000\">\n",
    "   -  Is dit zo (geef vb)?   Ja: PIEMEL en piemel heeft een afstand van 1.0\n",
    "   -  Indien ja, hoe los je dit in de code op?   .lower() toevoegen\n",
    "</div>"
   ]
  },
  {
   "cell_type": "markdown",
   "metadata": {},
   "source": [
    "#### Oefen mee 4.2"
   ]
  },
  {
   "cell_type": "markdown",
   "metadata": {},
   "source": [
    "Herinner je de Chatbot Marvin (zie 3. Een lerende chatbot). Aan deze kon je een vraag stellen, en hij probeert het meest gepaste antwoord terug te geven. Marvin deed dit met behulp van een dictionary `conversatie`. Onderstaande code-cel vat dit proces nog eens kort samen."
   ]
  },
  {
   "cell_type": "markdown",
   "metadata": {},
   "source": [
    "<div style=\"background-color:#8B0000\"> \n",
    "Om deze code uit te voeren moet je de modules uit deel 4.1 inladen.\n",
    "<div>"
   ]
  },
  {
   "cell_type": "code",
   "execution_count": 20,
   "metadata": {},
   "outputs": [
    {
     "data": {
      "text/plain": [
       "'Marvin zegt: Hey'"
      ]
     },
     "execution_count": 20,
     "metadata": {},
     "output_type": "execute_result"
    }
   ],
   "source": [
    "bot = MlChatbot(\"Marvin\")\n",
    "bot.train(conversatie)\n",
    "bot.zoek_antwoord(\"Hallo\")"
   ]
  },
  {
   "cell_type": "markdown",
   "metadata": {},
   "source": [
    "Je gaat de werking van de bot nu zelf nabootsen (in onderstaande code-cel). Voer hiervoor onderstaande stappen uit. Deze code moet ook werken bij gebruik van drukletters.\n",
    " - Zet een variabele *laagste_score* = 1 en een variabele *antwoord* = \" \" klaar.\n",
    " - Vraag de gebruiker om een woord.\n",
    " - Overloop iedere sleutel (key) in de dictionary `conversatie`.\n",
    "   - Bepaal de score tussen de sleutel en het woord van de gebruiker.\n",
    "   - Als deze score kleiner dan *laagste_score* is... VUL ZELF AAN.\n",
    " - Na het overlopen van iedere sleutel, print de waarde die hoort bij de laagst-scorende sleutel.<br> Print hierbij ook de score die behaald is."
   ]
  },
  {
   "cell_type": "markdown",
   "metadata": {},
   "source": [
    "<div style=\"background-color:#8B0000\"> \n",
    "Deze code is (natuurlijk) ook in ml_bot.py te vinden. Gebruik deze echter niet. Probeer de code eerst zelf te maken. Naderhand mag je natuurlijk altijd een kijkje nemen...\n",
    "<div>"
   ]
  },
  {
   "cell_type": "code",
   "execution_count": 30,
   "metadata": {},
   "outputs": [
    {
     "name": "stdout",
     "output_type": "stream",
     "text": [
      "Prima\n"
     ]
    }
   ],
   "source": [
    "# Maak hier oefen mee 4.2\n",
    "laagsteScore = 1\n",
    "antwoord = \"\"\n",
    "\n",
    "vraag = input(\"vraag: \").lower()\n",
    "for conv in conversatie.keys():\n",
    "    convL = conv.lower()\n",
    "    \n",
    "    afstand = Levenshtein.distance(vraag, convL) \n",
    "    afstand /= max(len(vraag), len(convL))\n",
    "    if afstand < laagsteScore:\n",
    "        laagsteScore = afstand\n",
    "        antwoord = conversatie[conv]\n",
    "\n",
    "print(antwoord)"
   ]
  },
  {
   "cell_type": "markdown",
   "metadata": {},
   "source": [
    "#### Oefen mee 4.3"
   ]
  },
  {
   "cell_type": "markdown",
   "metadata": {},
   "source": [
    "De chatbot Marvin had ook een methode waarin je meerdere vragen kon stellen."
   ]
  },
  {
   "cell_type": "markdown",
   "metadata": {},
   "source": [
    "<div style=\"background-color:#8B0000\"> \n",
    "Om deze code uit te voeren moet je de modules uit deel 4.1 inladen.\n",
    "<div>"
   ]
  },
  {
   "cell_type": "code",
   "execution_count": null,
   "metadata": {},
   "outputs": [],
   "source": [
    "# Geef 'stop' in om de methode vraag_reeks te stoppen.\n",
    "bot = MlChatbot(\"Marvin\")\n",
    "bot.train(conversatie)\n",
    "bot.vraag_reeks()"
   ]
  },
  {
   "cell_type": "markdown",
   "metadata": {},
   "source": [
    "Maak opnieuw code om deze methode na te bootsen. Start hiervoor met de code die je hebt opgesteld in oefen mee 4.2."
   ]
  },
  {
   "cell_type": "code",
   "execution_count": 31,
   "metadata": {},
   "outputs": [
    {
     "name": "stdout",
     "output_type": "stream",
     "text": [
      "Dag\n",
      "Prima\n",
      "Dag\n",
      "Hey\n",
      "Dag\n"
     ]
    }
   ],
   "source": [
    "# Maak hier oefen mee 4.3\n",
    "while True:\n",
    "    laagsteScore = 1\n",
    "    antwoord = \"\"\n",
    "\n",
    "    vraag = input(\"vraag: \").lower()\n",
    "    if vraag == \"stop\":\n",
    "        break \n",
    "    for conv in conversatie.keys():\n",
    "        convL = conv.lower()\n",
    "        \n",
    "        afstand = Levenshtein.distance(vraag, convL) \n",
    "        afstand /= max(len(vraag), len(convL))\n",
    "        if afstand < laagsteScore:\n",
    "            laagsteScore = afstand\n",
    "            antwoord = conversatie[conv]\n",
    "\n",
    "    print(antwoord)"
   ]
  },
  {
   "attachments": {},
   "cell_type": "markdown",
   "metadata": {},
   "source": [
    "## 5. Praktische implementatie: de Medibot"
   ]
  },
  {
   "cell_type": "markdown",
   "metadata": {},
   "source": [
    "### 5.1 Modules importeren & variabelen klaarzetten "
   ]
  },
  {
   "cell_type": "markdown",
   "metadata": {},
   "source": [
    "Importeer de module `Levenshtein`. Importeer ook de `MlChatbot` uit `ml_bot.py`."
   ]
  },
  {
   "cell_type": "code",
   "execution_count": 32,
   "metadata": {},
   "outputs": [],
   "source": [
    "import Levenshtein\n",
    "from ml_bot import MlChatbot"
   ]
  },
  {
   "cell_type": "markdown",
   "metadata": {},
   "source": [
    "Voer hiernaast ook onderstaande cel met erin een dictionary `medische_conversatie` uit."
   ]
  },
  {
   "cell_type": "code",
   "execution_count": 33,
   "metadata": {},
   "outputs": [],
   "source": [
    "# dit voorbeeld omvat een automatische vragenlijst betreffende vaccinatie\n",
    "# De items uit de dictionary zijn gerangschikt zoals de programmeur verwacht dat het gesprek kan gaan.\n",
    "medische_conversatie = {\n",
    "    \"Hallo\": \"Goeiedag, wat is uw naam?\",\n",
    "    \"Mijn naam is \": \"Wat is de code op uw vaccinatiebrief?\",\n",
    "      \"Ik heet \": \"Wat is de code op uw vaccinatiebrief?\",\n",
    "    \"Waar staat de code?\": \"De code staat rechtsboven op de brief. Wat is het cijfer?\",\n",
    "      \"Mijn code is \": \"Wilt u uw afspraak bevestigen of annuleren?\",\n",
    "      \"Mijn getal is \": \"Wilt u uw afspraak bevestigen of annuleren?\",\n",
    "    \"Annuleren\": \"Oké, bedankt voor de verwittiging. U kan altijd bellen om uw afspraak te verplaatsen.\",\n",
    "      \"Bevestigen\": \"Oké, bent u recent ziek geweest?\",\n",
    "    \"Ja\": \"Dan moet u helaas uw afspraak verplaatsen, gelieve het kantoor te bellen.\",\n",
    "      \"Neen\": \"Oké, welke medicatie neemt u? Reageer 'geen medicatie' als u geen medicatie neemt aub.\",\n",
    "    \"Geen medicatie\": \"Bedankt, ik geef het door. Een prettige dag nog.\",\n",
    "    \"Waar kan ik parkeren?\": \"Er staan pijlen naar de verschillende parkings in de buurt.\",\n",
    "}"
   ]
  },
  {
   "cell_type": "markdown",
   "metadata": {},
   "source": [
    "### 5.2 Medibot testen"
   ]
  },
  {
   "cell_type": "markdown",
   "metadata": {},
   "source": [
    "Als afsluiter toon ik een manier waarop men een lerende (ML) chatbot kan inzetten. Namelijk enkele vragen stellen aan iemand die een vaccin wil halen. De chatbot zou in dit geval ook het gesprek met de patiënt kunnen opslaan, zodat een dokter deze info later kan bekijken.\n",
    "\n",
    "Let erop dat sommige regels in `medische_conversatie` vragen zijn aan de chatbot en andere regels antwoorden op vragen van de chatbot zijn. Voor sommige antwoorden aan de chatbot zijn meerdere alternatieven voorzien."
   ]
  },
  {
   "cell_type": "markdown",
   "metadata": {},
   "source": [
    "Je maakt een nieuwe chatbot die je a.d.h.v. deze trainingsdata traint."
   ]
  },
  {
   "cell_type": "code",
   "execution_count": 34,
   "metadata": {},
   "outputs": [],
   "source": [
    "# Geef 'stop' in om de methode vraag_reeks te stoppen.\n",
    "medibot = MlChatbot(\"MediBot\")\n",
    "medibot.train(medische_conversatie)"
   ]
  },
  {
   "attachments": {},
   "cell_type": "markdown",
   "metadata": {},
   "source": [
    "<div style=\"background-color:#000065\">\n",
    "    Herinner je opnieuw dat MlChatbot een OOP klasse is. Je maakt nu dus eigenlijk een tweede bot (Medibot) aan. Deze werkt exact hetzelfde als Marvin, maar is getraind op andere data.\n",
    "</div>"
   ]
  },
  {
   "cell_type": "markdown",
   "metadata": {},
   "source": [
    "Probeer hieronder de medische chatbot eens uit. "
   ]
  },
  {
   "cell_type": "code",
   "execution_count": 35,
   "metadata": {},
   "outputs": [
    {
     "name": "stdout",
     "output_type": "stream",
     "text": [
      "Zeg 'stop' om de conversatie te stoppen.\n",
      "MediBot zegt: Goeiedag, wat is uw naam?\n",
      "MediBot zegt: Wat is de code op uw vaccinatiebrief?\n",
      "MediBot zegt: Wilt u uw afspraak bevestigen of annuleren?\n",
      "MediBot zegt: Oké, bent u recent ziek geweest?\n",
      "MediBot zegt: Oké, welke medicatie neemt u? Reageer 'geen medicatie' als u geen medicatie neemt aub.\n",
      "MediBot zegt: Bedankt, ik geef het door. Een prettige dag nog.\n",
      "MediBot zegt: Oké, bent u recent ziek geweest?\n"
     ]
    }
   ],
   "source": [
    "medibot.vraag_reeks()"
   ]
  },
  {
   "attachments": {},
   "cell_type": "markdown",
   "metadata": {},
   "source": [
    "#### Oefen mee 5.1"
   ]
  },
  {
   "cell_type": "markdown",
   "metadata": {},
   "source": [
    "-  De chatbot zal niet gepast reageren op elke gestelde vraag. <div style=\"background-color:#008000\">\n",
    "   -  Geef hiervan een voorbeeld:  hoe laat is mijn afspraak\n",
    "   -  Leg uit hoe dit komt:  omdat dit niet in de dict staat\n",
    "</div>\n",
    "\n",
    "- Voeg element(en) toe aan de dictionary `medische_code` om twee problemen op te lossen. <div style=\"background-color:#008000\">\n",
    "   - Probleem + oplossing 1: hoe laat is mijn afspraak -> de tijd staat achter op het vaccinatiebriefje\n",
    "   - Probleem + oplossing 2: zitten er chips in de vaccinatie -> nee er zitten geen chips in de vaccinatie, de vaccinaties zijn zorgvuldig getest\n",
    "</div>"
   ]
  },
  {
   "cell_type": "markdown",
   "metadata": {},
   "source": [
    "<div style=\"background-color:#8B0000\">\n",
    "    Als je de dictionary aanpast, dan moet je de bot opnieuw trainen. Doe dit door de cel met erin de methode 'train' opnieuw uit te voeren.\n",
    "</div>"
   ]
  },
  {
   "attachments": {},
   "cell_type": "markdown",
   "metadata": {},
   "source": [
    "#### Oefen mee 5.2"
   ]
  },
  {
   "cell_type": "markdown",
   "metadata": {},
   "source": [
    "- Hieronder vind je een voorbeeld van een conversatie die de mist inging. De persoon is in het blauw, de chatbot in het groen. <div style=\"background-color:#008000\">\n",
    "    - Waarom vond de robot geen goed antwoord? omdat de chatbor niet getraind is om te reageren op bepaalde type medicatie\n",
    "    - Pas (opnieuw) de trainingsdata aan om dit probleem op te lossen.\n",
    "</div>"
   ]
  },
  {
   "cell_type": "markdown",
   "metadata": {},
   "source": [
    "<font color=\"lightblue\">Hallo</font>\n",
    "\n",
    "<font color=\"green\">> goeiedag, wat is uw naam?</font>\n",
    "\n",
    "<font color=\"lightblue\">mijn naam is Stef.</font>\n",
    "\n",
    "<font color=\"green\">> Oké, welke medicatie neemt u? Reageer 'geen medicatie' als u geen medicatie neemt aub.</font>\n",
    "\n",
    "<font color=\"lightblue\">Ik neem hoestsiroop</font>\n",
    "\n",
    "<font color=\"green\">> Er staan pijlen naar de verschillende parkings in de buurt.</font>\n",
    "\n",
    "<font color=\"lightblue\">Huh?</font>\n",
    "\n",
    "<font color=\"green\">> Goeiedag, wat is uw naam </font>\n"
   ]
  },
  {
   "attachments": {},
   "cell_type": "markdown",
   "metadata": {},
   "source": [
    "## Slotvraag"
   ]
  },
  {
   "cell_type": "markdown",
   "metadata": {},
   "source": [
    "Op basis van de kennis opgedaan in deze notebook. Wat zijn drie zaken waar men op moet letten bij het ontwikkelen van een chatbot?"
   ]
  },
  {
   "cell_type": "code",
   "execution_count": null,
   "metadata": {},
   "outputs": [],
   "source": []
  },
  {
   "cell_type": "markdown",
   "metadata": {},
   "source": [
    "<div style=\"background-color:#008000\"> \n",
    "Antwoord hier:    De vragen die gegeven kunnen worden, hoofdletters, antaal data dat je geeft aan de chatbot om hem te trainen\n",
    "</div>"
   ]
  },
  {
   "attachments": {},
   "cell_type": "markdown",
   "metadata": {},
   "source": [
    "#\n",
    "  <a href=\"https://www.aiopschool.be/chatbot/\"> \n",
    "        <img src=\"../_afbeeldingen/bannerugentdwengo.png\" alt=\"Dwengo\" style =\"display: block; margin-left: auto; margin-right: auto; margin-bottom: 30px; width:20%\"/>\n",
    "    </a>\n",
    "\n",
    "Deze Notebook is gebaseerd op: Notebook Chatbot, zie <a href=\"http://www.aiopschool.be\">AI Op School</a>, van S. Pletinck , F. wyffels & N. Gesquière is in licentie gegeven volgens een <a href=\"http://creativecommons.org/licenses/by-nc-sa/4.0/\">Creative Commons Naamsvermelding-NietCommercieel-GelijkDelen 4.0 Internationaal-licentie</a>. "
   ]
  }
 ],
 "metadata": {
  "colab": {
   "name": "Untitled0.ipynb",
   "provenance": []
  },
  "kernelspec": {
   "display_name": "prog4",
   "language": "python",
   "name": "prog4"
  },
  "language_info": {
   "codemirror_mode": {
    "name": "ipython",
    "version": 3
   },
   "file_extension": ".py",
   "mimetype": "text/x-python",
   "name": "python",
   "nbconvert_exporter": "python",
   "pygments_lexer": "ipython3",
   "version": "3.12.0"
  }
 },
 "nbformat": 4,
 "nbformat_minor": 4
}
