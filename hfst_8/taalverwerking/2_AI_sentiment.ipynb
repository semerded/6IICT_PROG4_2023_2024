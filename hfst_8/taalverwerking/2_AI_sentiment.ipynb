{
 "cells": [
  {
   "attachments": {},
   "cell_type": "markdown",
   "metadata": {},
   "source": [
    "<div style=\"margin-bottom:-35px;\">\n",
    "    <font color=#FFFFFF markdown=\"1\">\n",
    "        <h1> <center> Gebaseerd op een cursus van:</center> </h1> \n",
    "    </font>\n",
    "    <a href=\"https://www.aiopschool.be/chatbot/\"> \n",
    "        <img src=\"../_afbeeldingen/bannerugentdwengo.png\" alt=\"Dwengo\" style =\"display: block; margin-left: auto; margin-right: auto; margin-bottom: 30px; width:20%\"/>\n",
    "    </a>\n",
    "</div>"
   ]
  },
  {
   "cell_type": "markdown",
   "metadata": {},
   "source": [
    "# Toepassing: AI (regelgebaseerde) Sentimentanalyse"
   ]
  },
  {
   "cell_type": "markdown",
   "metadata": {},
   "source": [
    "## 1. Algemene info bij notebook"
   ]
  },
  {
   "cell_type": "markdown",
   "metadata": {},
   "source": [
    "<div style=\"background-color:#8B8000\">\n",
    "Om deze Notebook te volgen moet je een basiskennis hebben van Strings, Lists en Dictionaries. Stel zeker vragen als je tijdens het doorlopen van deze notebook met vragen zit.\n",
    "</div>"
   ]
  },
  {
   "cell_type": "markdown",
   "metadata": {},
   "source": [
    "### 1.1 Modules installeren"
   ]
  },
  {
   "cell_type": "markdown",
   "metadata": {},
   "source": [
    "Voor deze notebook zijn geen nieuwe modules nodig."
   ]
  },
  {
   "cell_type": "markdown",
   "metadata": {},
   "source": [
    "### 1.2 Wat is Sentimentanalyse?"
   ]
  },
  {
   "cell_type": "markdown",
   "metadata": {},
   "source": [
    "Sentimentanalyse is een techniek die gebruikt wordt om het 'sentiment' van een tekst te bepalen. In simpele termen: is de emotionele toon van een tekst positief, negatief of neutraal?\n",
    "\n",
    "Sentimentanalyse kan voor verschillende zaken gebruikt worden. Bijvoorbeeld om te controleren hoe neutraal het artikel van een journalist is. Of om op basis van een hoop recensies te bepalen hoe positief klanten zijn over een bepaald product."
   ]
  },
  {
   "cell_type": "markdown",
   "metadata": {},
   "source": [
    "<div style=\"background-color:#8B8000\">\n",
    "Taaltechnologen doen steeds meer een beroep op machine learning-modellen om sentiment te onderzoeken. De basis van deze modellen is echter te vinden in de <b>regelgebaseerde (AI) sentimentanalyse</b>. In deze notebook maak je daarom kennis met de puur regelgebaseerde analyse.\n",
    "</div>"
   ]
  },
  {
   "attachments": {},
   "cell_type": "markdown",
   "metadata": {},
   "source": [
    "## 2. Stappen van Sentimentanalyse"
   ]
  },
  {
   "cell_type": "markdown",
   "metadata": {},
   "source": [
    "Volgende afbeelding vat het bepalen van het sentiment samen. De tekst eronder legt dit proces in meer detail uit.\n",
    "\n",
    "<img id=\"pre\" src=\"../_afbeeldingen/sentiment.png\" alt=\"Banner\" style =\"display: block; margin-left: auto; margin-right: auto; margin-bottom: 10px; width:90%\"/>"
   ]
  },
  {
   "cell_type": "markdown",
   "metadata": {},
   "source": [
    "### 2.1 Het lexicon (= sentimentwoordenboek)"
   ]
  },
  {
   "attachments": {},
   "cell_type": "markdown",
   "metadata": {},
   "source": [
    "Sentimentanalyse maakt gebruik van een **lexicon** (= woordenboek) met daarin woorden gekoppeld aan hun **sentiment** (positief, negatief of neutraal), dus eigenlijk een woordenboek of dictionary van sentimentwoorden (zie voorbeeld afbeelding links). \n",
    "\n",
    "'Blij' bijvoorbeeld heeft een positief sentiment, 'thuisbankieren' een neutrale en 'boos' een negatief sentiment. In het lexicon wordt het sentiment weergegeven door een kommagetal tussen -2 en 2 (zie voorbeeld afbeelding rechts). Een positief getal komt overeen met een positief sentiment, een negatief getal met een negatief sentiment en 0 met een neutraal sentiment. \n",
    "\n",
    "Het sentiment van een tekst wordt bepaald door de som te bepalen van alle sentimentwoorden in deze tekst (zie deel 2.3)."
   ]
  },
  {
   "attachments": {},
   "cell_type": "markdown",
   "metadata": {},
   "source": [
    "#### Voorbeeld:\n",
    "<style>\n",
    "    .image-container {\n",
    "        display: flex;\n",
    "        justify-content: center;\n",
    "    }\n",
    "\n",
    "    .image-container img {\n",
    "        width: 15%; /* Adjust the width as needed */\n",
    "        height: 1%; /* Maintain aspect ratio */\n",
    "        margin-right: 3%\n",
    "    }\n",
    "</style>\n",
    "</head>\n",
    "<body>\n",
    "\n",
    "<div class=\"image-container\">\n",
    "    <img src=\"..\\_afbeeldingen\\lexicon.png\">\n",
    "    <img src=\"..\\_afbeeldingen\\schaal.png\">\n",
    "</div>"
   ]
  },
  {
   "cell_type": "markdown",
   "metadata": {},
   "source": [
    "### 2.2 preprocessing (= voorverwerken)"
   ]
  },
  {
   "attachments": {},
   "cell_type": "markdown",
   "metadata": {},
   "source": [
    "Vooraleer we de tekst kunnen analyseren met het lexicon, moeten we deze eerst voorverwerken. Dit zodat deze in een vorm staat, die we makkelijk met de woorden in het lexicon kunnen vergelijken.\n",
    "\n",
    "Het voorverwerken van de tekst bestaat uit een aantal stappen.\n",
    "1. **Lowercasing**: zet de volledige tekst om naar kleine letters (waarom denk je dat dit moet?).\n",
    "2. **Tokenisering**: splits de tekst op in een lijst van individuele woorden (en verwijder leestekens).\n",
    "3. **Tagging**: geef bij ieder woord aan wat het is (adjectief, werkwoord, naamwoord, ...). Denk bijvoorbeeld aan het woord 'lam'. Dit is 'jong schaap' als zelfstandig naamwoord, maar als bijvoeglijk naamwoord betekent het 'verlamd'.\n",
    "4. **Lemmatisering**: zet alle woorden om naar hun meest algemene vorm (= de lemma). Zo wordt 'katten'-->'kat' en 'gekund'-->'kunnen'. Dit is de vorm zoals ze ook in het lexicon voorkomen."
   ]
  },
  {
   "attachments": {},
   "cell_type": "markdown",
   "metadata": {},
   "source": [
    "#### Voorbeeld:\n",
    "Gegeven zin: De spelletjes waren toffe ijsbrekers.\n",
    "\n",
    "1. Lowercasing: de spelletjes waren toffe ijsbrekers.\n",
    "\n",
    "2. Tokens: 'de' 'spelletjes' 'waren' 'toffe' 'ijsbrekers'\n",
    "\n",
    "3. Woordsoort: \n",
    "    -  'de': lidwoord (DET);\n",
    "    -  'spelletjes': naamwoord (NOUN); \n",
    "    -  'waren': hulpwerkwoord (AUX);\n",
    "    -  'toffe': adjectief (ADJ);\n",
    "    -  'ijsbrekers': naamwoord (NOUN);\n",
    "    \n",
    "4. Lemma's: 'de', 'spel', 'zijn', 'tof', 'ijsbreker'"
   ]
  },
  {
   "cell_type": "markdown",
   "metadata": {},
   "source": [
    "### 2.3 Sentiment bepalen"
   ]
  },
  {
   "cell_type": "markdown",
   "metadata": {},
   "source": [
    "Iedere lemma (met woordsoort) uit de voorverwerking wordt overlopen. Staat deze in het lexicon? Tel zijn score dan op bij een teller. Het eindtotaal van deze teller geeft het sentiment (positief, negatief, neutraal) van de tekst aan."
   ]
  },
  {
   "cell_type": "markdown",
   "metadata": {},
   "source": [
    "#### Voorbeeld:\n",
    "\n",
    "Sentiment van de tekst bepalen...\n",
    "-  Overloop de lemma's: 'de' (DET), 'spel' (NOUN), 'zijn' (AUX), 'tof' (ADJ), 'ijsbreker' (NOUN)\n",
    "    - (DET) 'de' zit niet in lexicon, we geven deze waarde 0.\n",
    "    - (NOUN) 'spel' zit in lexicon met waarde 1.\n",
    "    - (AUX) 'zijn' zit in lexicon met waarde 0. \n",
    "    - (ADJ) 'tof' zit in lexicon met waarde 0.8. Verhoog de teller met 0.8.\n",
    "    - (NOUN) 'ijsbreker' zit in lexicon met waarde 0. Verhoog de teller met 0.\n",
    "-  Het sentiment van de gegeven zin is de som van deze sentimenten, dus 1,8. Dit is een positief sentiment!"
   ]
  },
  {
   "cell_type": "markdown",
   "metadata": {},
   "source": [
    "## 3. Lexicon inlezen"
   ]
  },
  {
   "cell_type": "markdown",
   "metadata": {},
   "source": [
    "### 3.1 Modules importeren & lexicon klaarzetten"
   ]
  },
  {
   "cell_type": "markdown",
   "metadata": {},
   "source": [
    "Importeer onderstaande modules."
   ]
  },
  {
   "cell_type": "code",
   "execution_count": 1,
   "metadata": {},
   "outputs": [],
   "source": [
    "import json # voor lexicon"
   ]
  },
  {
   "cell_type": "markdown",
   "metadata": {},
   "source": [
    "Zet hiernaast ook het lexicon klaar. Dit door deze in te laden uit lexicondict.json"
   ]
  },
  {
   "cell_type": "code",
   "execution_count": 2,
   "metadata": {},
   "outputs": [],
   "source": [
    "# Lexicon inlezen. Deze bevindt zich in lexicondict.json.\n",
    "with open(\"lexicondict.json\", \"rb\") as file:\n",
    "    lexicon = json.load(file)"
   ]
  },
  {
   "cell_type": "markdown",
   "metadata": {},
   "source": [
    "### 3.2 Opbouw Lexicon"
   ]
  },
  {
   "cell_type": "markdown",
   "metadata": {},
   "source": [
    "Je kan het lexicon weergeven in de vorm van een tabel. Zoals je ziet heeft ieder woord een woordsoort, en een sentimentscore. Merk zeker het woord fout op. Dit kan zowel een adjectief als naamwoord zijn. Afhankelijk hiervan krijgt het woord een andere score.<br><br>\n",
    "\n",
    "<table align=\"center\">\n",
    " <thead align=\"center\">\n",
    "    <tr>\n",
    "      <td>woord</td>\n",
    "      <td>postag</td>\n",
    "      <td>sentiment</td>\n",
    "     </tr>    \n",
    "  </thead>\n",
    "  <tbody align=\"center\">  \n",
    "      <tr> <td> retorisch </td>   <td> ADJ </td> <td> 0.0 </td>  </tr> \n",
    "      <tr> <td> gezwind </td>     <td> ADJ </td> <td> 0.6 </td>  </tr> \n",
    "      <tr> <td> evenwichtig </td> <td> ADJ </td> <td> 1.25 </td>  </tr> \n",
    "      <tr> <td> fout </td>        <td> ADJ </td> <td> -0.5 </td> </tr> \n",
    "      <tr> <td> fout </td>        <td> NOUN </td> <td> -2.0 </td> </tr> \n",
    "    </tbody>           \n",
    "</table>"
   ]
  },
  {
   "attachments": {},
   "cell_type": "markdown",
   "metadata": {},
   "source": [
    "Voer de code-cellen hieronder uit. Dit verschaft je meer info over de opmaak van het Lexicon."
   ]
  },
  {
   "cell_type": "code",
   "execution_count": 3,
   "metadata": {},
   "outputs": [
    {
     "name": "stdout",
     "output_type": "stream",
     "text": [
      "<class 'dict'>\n"
     ]
    }
   ],
   "source": [
    "# datatype van lexicon\n",
    "print(type(lexicon))"
   ]
  },
  {
   "cell_type": "code",
   "execution_count": 4,
   "metadata": {
    "scrolled": true
   },
   "outputs": [
    {
     "name": "stdout",
     "output_type": "stream",
     "text": [
      "10939\n"
     ]
    }
   ],
   "source": [
    "# aantal woorden in lexicon\n",
    "print(len(lexicon))"
   ]
  },
  {
   "cell_type": "code",
   "execution_count": 5,
   "metadata": {
    "scrolled": false
   },
   "outputs": [
    {
     "name": "stdout",
     "output_type": "stream",
     "text": [
      "retorisch: {'ADJ': 0.0}\n",
      "fout: {'ADJ': -0.5, 'NOUN': -2.0}\n",
      "gezwind: {'ADJ': 0.6}\n",
      "evenwichtig: {'ADJ': 1.25}\n",
      "modaal: {'ADJ': 0.4}\n",
      "digitaal: {'ADJ': 0.0}\n",
      "onverdeeld: {'ADJ': 0.1}\n",
      "wulps: {'ADJ': 0.7}\n",
      "bemoeiziek: {'ADJ': -1.35}\n"
     ]
    }
   ],
   "source": [
    "# toon tien elementen van lexicon\n",
    "lijst_keys = list(lexicon)[0:9]\n",
    "for key in lijst_keys:\n",
    "    print(f\"{key}: {lexicon[key]}\")"
   ]
  },
  {
   "cell_type": "markdown",
   "metadata": {},
   "source": [
    "#### Oefen mee 3.1"
   ]
  },
  {
   "cell_type": "markdown",
   "metadata": {},
   "source": [
    "- Beantwoord volgende vragen over het lexicon. <div style=\"background-color:#008000\">\n",
    "    - Welk datatype is het lexicon?  een dict\n",
    "    - Hoeveel woorden zitten er in het lexicon?  10939\n",
    "    - Ieder element in het lexicon heeft als datatype?  string\n",
    "    - Welke informatie vind je in ieder element?  woordsoorten\n",
    "</div>"
   ]
  },
  {
   "cell_type": "markdown",
   "metadata": {},
   "source": [
    "- Open lexicondict.json, bepaal de woordsoort en het sentiment af van volgende woorden. <div style=\"background-color:#008000\">\n",
    "    - retorisch: \"ADJ\": 0.0\n",
    "    - gezwind:   \"ADJ\": 0.6\n",
    "    - evenwichtig:   \"ADJ\": 1.25\n",
    "    - fout: \"ADJ\": -0.5,\n",
    "            \"NOUN\": -2.0   \n",
    "</div>"
   ]
  },
  {
   "cell_type": "markdown",
   "metadata": {},
   "source": [
    "<div style=\"background-color:#8B0000\">\n",
    "de woordsoorten van de lexicons staan in het Engels. Zoek online de vertaling op indien nodig.\n",
    "</div>"
   ]
  },
  {
   "cell_type": "markdown",
   "metadata": {},
   "source": [
    "- Zoek in lexicondict.json twee woorden met meerdere woordsoorten. <div style=\"background-color:#008000\"> \n",
    "    - Woord + woordsoorten: fout\n",
    "    - Woord + woordsoorten: schoon\n",
    "</div>"
   ]
  },
  {
   "attachments": {},
   "cell_type": "markdown",
   "metadata": {},
   "source": [
    "<div style=\"background-color:#000065\"> \n",
    "    Het lexicon is een <b>dictionary</b> met 10938 woorden. Het lexicon geeft de woordsoort (adjectief, lidwoord, ...) en het sentiment (score) van de woorden in het lexicon.<br><br>\n",
    "    De woorden in het lexicon zijn de <b>keys</b> van de dictionary.\n",
    "    De <b>values</b> van deze dictionary zijn opnieuw een dictionary met als <b>key</b> de \"woordsoort\" en overeenkomstige <b>value</b> de \"sentimentscore\". Sommige woorden hebben meerdere woordsoorten. Zo is <b>fout</b> zowel een adjectief (ADJ) als naamwoord (NOUN). Dit betekent dus dat ze meerdere subelementen hebben.\n",
    "</div>"
   ]
  },
  {
   "attachments": {},
   "cell_type": "markdown",
   "metadata": {},
   "source": [
    "### 3.3 Info ophalen uit Lexicon (via Python)\n"
   ]
  },
  {
   "attachments": {},
   "cell_type": "markdown",
   "metadata": {},
   "source": [
    "Het lexicon is eigenlijk gewoon een geneste dictionary. De hoofd-dictionary (rood) heeft als sleutel de woorden. De sub-dictionaries (groen) bevatten voor ieder woord als sleutel de woordsoort en als waarde de sentimentscore.\n",
    "\n",
    "<div>\n",
    "<img src=\"../_afbeeldingen/lexicon_opbouw.png\" alt=\"Banner\" style =\"display: block; margin-left: auto; margin-right: auto; margin-bottom: 10px; width:35%\"/>\n",
    "</div>"
   ]
  },
  {
   "cell_type": "markdown",
   "metadata": {},
   "source": [
    "Aangezien de lexicon een geneste dictionary is, kunnen we deze met Python manipuleren. Laad het lexicon opnieuw in, ga vervolgens door naar de oefen mee's."
   ]
  },
  {
   "cell_type": "markdown",
   "metadata": {},
   "source": [
    "#### Oefen mee 3.2"
   ]
  },
  {
   "cell_type": "markdown",
   "metadata": {},
   "source": [
    " - Wat printen onderstaande regels code (eerst aanvullen, vervolgens pas uitvoeren)."
   ]
  },
  {
   "cell_type": "code",
   "execution_count": 6,
   "metadata": {},
   "outputs": [
    {
     "name": "stdout",
     "output_type": "stream",
     "text": [
      "dict_keys(['ADJ'])\n",
      "dict_values([0.0])\n",
      "dict_keys(['ADJ', 'NOUN'])\n",
      "dict_values([-0.5, -2.0])\n"
     ]
    }
   ],
   "source": [
    "# Haal sleutel(s) uit sub-dict van retorisch. --> Zijn dit woordsoorten of scoren?\n",
    "print(lexicon[\"retorisch\"].keys())   # VUL AAN: ADJ\n",
    "\n",
    "# Haal waarde(n) uit sub-dict van retorisch.  --> Zijn dit woordsoorten of scoren?\n",
    "print(lexicon[\"retorisch\"].values()) # VUL AAN: 0.0\n",
    "\n",
    "# Haal sleutel(s) uit sub-dict van fout.      --> Zijn dit woordsoorten of scoren?\n",
    "print(lexicon[\"fout\"].keys())        # VUL AAN: ADJ, NOUN\n",
    "\n",
    "# Haal waarde(n) uit sub-dict van fout.       --> Zijn dit woordsoorten of scoren?\n",
    "print(lexicon[\"fout\"].values())      # VUL AAN: -0.5, -2.0"
   ]
  },
  {
   "cell_type": "markdown",
   "metadata": {},
   "source": [
    "- Print via Python volgende zaken van het lexicon (gebruik onderstaande code-cel)\n",
    "    - de woordsoort(en) van 'tussenliggend'.\n",
    "    - de woordsoort(en) van 'consistent'.\n",
    "    - de woordsoort(en) van 'schoon'.\n",
    "\n",
    "<div style=\"background-color:#8B0000\"> Tip! Bekijk bovenstaande code. </div>"
   ]
  },
  {
   "cell_type": "code",
   "execution_count": 7,
   "metadata": {},
   "outputs": [
    {
     "name": "stdout",
     "output_type": "stream",
     "text": [
      "dict_keys(['ADJ'])\n",
      "dict_keys(['ADJ'])\n",
      "dict_keys(['ADJ', 'NOUN'])\n"
     ]
    }
   ],
   "source": [
    "# Stel hier de gevraagde code van oefen mee 3.2 op.\n",
    "print(lexicon[\"tussenliggend\"].keys())\n",
    "print(lexicon[\"consistent\"].keys())\n",
    "print(lexicon[\"schoon\"].keys())"
   ]
  },
  {
   "attachments": {},
   "cell_type": "markdown",
   "metadata": {},
   "source": [
    "#### Oefen mee 3.3:"
   ]
  },
  {
   "cell_type": "markdown",
   "metadata": {},
   "source": [
    "Wij zijn voornamelijk geïnteresseerd in de sentimentscore. Om deze te bereiken zijn er 2 springen nodig. De eerste in het woord, de tweede in de woordsoort."
   ]
  },
  {
   "cell_type": "code",
   "execution_count": 8,
   "metadata": {},
   "outputs": [
    {
     "name": "stdout",
     "output_type": "stream",
     "text": [
      "-0.1\n"
     ]
    }
   ],
   "source": [
    "# Score van ADJ 'tussenliggend' ophalen.\n",
    "print( lexicon['tussenliggend']['ADJ'] ) "
   ]
  },
  {
   "cell_type": "markdown",
   "metadata": {},
   "source": [
    "- Print via Python volgende zaken van het lexicon (gebruik onderstaande code-cel)\n",
    "    - de sentimentscore van NOUN 'schoon'.\n",
    "    - de sentimentscore van ADJ 'schoon'.\n",
    "    - de sentimentscore van 'consistent'. <-- Zoek woordsoort zelf in lexicon op\n",
    "\n",
    "<div style=\"background-color:#8B0000\"> Tip! Bekijk bovenstaande code. </div>"
   ]
  },
  {
   "cell_type": "code",
   "execution_count": 9,
   "metadata": {},
   "outputs": [
    {
     "name": "stdout",
     "output_type": "stream",
     "text": [
      "1.0\n",
      "0.466666666667\n",
      "1.0\n"
     ]
    }
   ],
   "source": [
    "# Stel hier de gevraagde code van oefen mee 3.3 op.\n",
    "print(lexicon[\"schoon\"][\"NOUN\"])\n",
    "print(lexicon[\"schoon\"][\"ADJ\"])\n",
    "print(lexicon[\"consistent\"][\"ADJ\"])"
   ]
  },
  {
   "cell_type": "markdown",
   "metadata": {},
   "source": [
    "####\n",
    "Niet ieder woord staat in de lexicon. Indien je een onbestaand woord opzoekt krijg je een KeyError."
   ]
  },
  {
   "cell_type": "code",
   "execution_count": 10,
   "metadata": {},
   "outputs": [
    {
     "ename": "KeyError",
     "evalue": "'chatbot'",
     "output_type": "error",
     "traceback": [
      "\u001b[1;31m---------------------------------------------------------------------------\u001b[0m",
      "\u001b[1;31mKeyError\u001b[0m                                  Traceback (most recent call last)",
      "Cell \u001b[1;32mIn[10], line 2\u001b[0m\n\u001b[0;32m      1\u001b[0m \u001b[38;5;66;03m# KeyError: 'chatbot' zit niet in lexicon.\u001b[39;00m\n\u001b[1;32m----> 2\u001b[0m \u001b[38;5;28mprint\u001b[39m(\u001b[43mlexicon\u001b[49m\u001b[43m[\u001b[49m\u001b[38;5;124;43m'\u001b[39;49m\u001b[38;5;124;43mchatbot\u001b[39;49m\u001b[38;5;124;43m'\u001b[39;49m\u001b[43m]\u001b[49m)\n",
      "\u001b[1;31mKeyError\u001b[0m: 'chatbot'"
     ]
    }
   ],
   "source": [
    "# KeyError: 'chatbot' zit niet in lexicon.\n",
    "print(lexicon['chatbot'])"
   ]
  },
  {
   "cell_type": "markdown",
   "metadata": {},
   "source": [
    "Je zal hiermee rekening moeten houden. Dit kan op 2 manieren...\n",
    "<div style=\"background-color:#8B0000\">Voor meer info hierover, ga terug naar Hfst 2: dictionaries.</div>"
   ]
  },
  {
   "cell_type": "markdown",
   "metadata": {},
   "source": [
    "1. Controleer op voorhand of woord IN lexicon zit.\n",
    "    "
   ]
  },
  {
   "cell_type": "code",
   "execution_count": 11,
   "metadata": {},
   "outputs": [
    {
     "name": "stdout",
     "output_type": "stream",
     "text": [
      "chatbot zit niet in lexicon!\n"
     ]
    }
   ],
   "source": [
    "woord = \"chatbot\"\n",
    "if woord in lexicon:\n",
    "    print(lexicon[woord])\n",
    "else:\n",
    "    print(woord + \" zit niet in lexicon!\")"
   ]
  },
  {
   "cell_type": "markdown",
   "metadata": {},
   "source": [
    "2. Gebruik methode get."
   ]
  },
  {
   "cell_type": "code",
   "execution_count": 12,
   "metadata": {},
   "outputs": [
    {
     "name": "stdout",
     "output_type": "stream",
     "text": [
      "chatbot staat niet in lexicon\n"
     ]
    }
   ],
   "source": [
    "woord = \"chatbot\"\n",
    "print(lexicon.get(woord, woord + \" staat niet in lexicon\"))"
   ]
  },
  {
   "attachments": {},
   "cell_type": "markdown",
   "metadata": {},
   "source": [
    "#### Oefen mee 3.4:"
   ]
  },
  {
   "cell_type": "markdown",
   "metadata": {},
   "source": [
    "- Zoek een woord dat niet in het lexicon staat. <div style=\"background-color:#008000\">\n",
    "    -  Woord: bananenfiets\n",
    "</div>"
   ]
  },
  {
   "cell_type": "markdown",
   "metadata": {},
   "source": [
    "- Schrijf code die het volgende doet (in onderstaande code-cel).\n",
    "    - Vraag de gebruik om een woord.\n",
    "    - Vraag de gebruiker om een woordsoort.\n",
    "    - Zoek de combinatie van woord & woordsoort op in het lexicon.\n",
    "        - Bestaat deze? Print dan de sentimentscore.\n",
    "        - Bestaat deze niet? Print dan welk van de twee (woord of woordsoort) fout is.\n",
    "<div style=\"background-color:#8B0000\">Controleer of het woord bestaat in de hoofd-dict en hierna als de woordsoort bestaat in de sub-dict.</div>"
   ]
  },
  {
   "cell_type": "code",
   "execution_count": 22,
   "metadata": {},
   "outputs": [
    {
     "name": "stdout",
     "output_type": "stream",
     "text": [
      "dlkfj komt niet voor in lexicon\n"
     ]
    }
   ],
   "source": [
    "\"\"\" Voorbeelden:\n",
    "    - woord='behulpzaam', soort='ADJ' --> 1.0\n",
    "    - woord='chatbot', soort='NOUN'   --> chatbot komt niet voor in lexicon.\n",
    "    - woord='helpen', soort='NOUN'    --> helpen heeft geen NOUN in lexicon.\n",
    "\"\"\"\n",
    "woord = input(\"woord: \")\n",
    "soort = input(\"soort: \")\n",
    "if woord in lexicon:\n",
    "    if (soort.upper()) in lexicon[woord]:\n",
    "        print(lexicon[woord][soort.upper()])\n",
    "    else:\n",
    "        print(f\"{woord} heeft geen {soort} in lexicon\")\n",
    "else:\n",
    "    print(f\"{woord} komt niet voor in lexicon\")\n",
    "\n",
    "# Stel hier de gevraagde code van oefen mee 3.4 op."
   ]
  },
  {
   "attachments": {},
   "cell_type": "markdown",
   "metadata": {},
   "source": [
    "## 4. Preprocessing"
   ]
  },
  {
   "attachments": {},
   "cell_type": "markdown",
   "metadata": {},
   "source": [
    "Nu het lexicon begrepen is, is het tijd om de tekst zelf te verwerken (preprocessen). Ga naar **'2.2 preprocessing'** als je meer uitgebreid wilt herhalen wat dit is. In het kort zijn er 4 stappen.\n",
    "\n",
    "1. **Lowercasing**: zet alles in kleine letters.\n",
    "2. **Tokenisering**: scheid alle woorden (en verwijder leestekens).\n",
    "3. **woordsoort tagging**: bepaal de woordsoort (naamwoord, adjectief, ...) van ieder woord.\n",
    "4. **Lemmatisering**: vorm ieder woord om naar zijn basisvorm.\n",
    "\n",
    "We zullen deze stappen doorlopen met behulp van de tekst in `review`."
   ]
  },
  {
   "attachments": {},
   "cell_type": "markdown",
   "metadata": {},
   "source": [
    "### 4.1 Modules & variabelen klaarzetten\n"
   ]
  },
  {
   "cell_type": "markdown",
   "metadata": {},
   "source": [
    "Voer onderstaande code-cel om module `string` en variabele `review` klaar te zetten."
   ]
  },
  {
   "cell_type": "code",
   "execution_count": 23,
   "metadata": {},
   "outputs": [],
   "source": [
    "import string # voor opsomming leestekens  \n",
    "\n",
    "review = \"Nieuw concept in Gent, maar dat kan volgens mij toch beter. De meeste cornflakes waren gewoon de basic soorten. Ook wat duur voor de hoeveelheid die je krijgt, vooral met de toppings zijn ze zuinig. En als je ontbijt aanbiedt, geef de mensen dan toch ook wat meer keuze voor hun koffie...\""
   ]
  },
  {
   "attachments": {},
   "cell_type": "markdown",
   "metadata": {},
   "source": [
    "### 4.2 Lowercasing"
   ]
  },
  {
   "cell_type": "markdown",
   "metadata": {},
   "source": [
    "De aller eerste stap is het omzetten van `review` naar kleine letters. Gelukkig is dit ingebouwd in Python! Zet de tekst in de variabele `review` om naar kleine letters (via welke methode?). Sla het resultaat op in de variabele `review_kleineletters`."
   ]
  },
  {
   "cell_type": "code",
   "execution_count": 24,
   "metadata": {},
   "outputs": [
    {
     "name": "stdout",
     "output_type": "stream",
     "text": [
      "nieuw concept in gent, maar dat kan volgens mij toch beter. de meeste cornflakes waren gewoon de basic soorten. ook wat duur voor de hoeveelheid die je krijgt, vooral met de toppings zijn ze zuinig. en als je ontbijt aanbiedt, geef de mensen dan toch ook wat meer keuze voor hun koffie...\n"
     ]
    }
   ],
   "source": [
    "# zet tekst van de review om naar tekst in kleine letters\n",
    "review_kleineletters = review.lower()\n",
    "\n",
    "\n",
    "# toon resultaat van lowercasing (er mag geen drukletter meer in de review staan)\n",
    "print(review_kleineletters)"
   ]
  },
  {
   "cell_type": "markdown",
   "metadata": {},
   "source": [
    "<div style=\"background-color:#8B0000\"> \n",
    "    Ga pas verder als bovenstaande print volgend resultaat geeft:\n",
    "</div>"
   ]
  },
  {
   "cell_type": "code",
   "execution_count": null,
   "metadata": {},
   "outputs": [],
   "source": [
    "\"nieuw concept in gent, maar dat kan volgens mij toch beter. de meeste cornflakes waren gewoon de basic soorten. ook wat duur voor de hoeveelheid die je krijgt, vooral met de toppings zijn ze zuinig. en als je ontbijt aanbiedt, geef de mensen dan toch ook wat meer keuze voor hun koffie...\""
   ]
  },
  {
   "attachments": {},
   "cell_type": "markdown",
   "metadata": {},
   "source": [
    "### 4.3 Tokenisering"
   ]
  },
  {
   "attachments": {},
   "cell_type": "markdown",
   "metadata": {},
   "source": [
    "De volgende stap is tokenisering. We zullen hier `review_kleineletters` opsplitsen in een lijst van woorden met de naam `review_tokens`."
   ]
  },
  {
   "cell_type": "markdown",
   "metadata": {},
   "source": [
    "Vooraleer we dit kunnen doen moeten we eerst alle leestekens verwijderen uit de tekst. Dit kan zeer eenvoudig via de string-methode **replace**."
   ]
  },
  {
   "cell_type": "code",
   "execution_count": 25,
   "metadata": {},
   "outputs": [
    {
     "name": "stdout",
     "output_type": "stream",
     "text": [
      "Dit is een zin Echt waar\n"
     ]
    }
   ],
   "source": [
    "zin = \"Dit is een zin. Echt waar....\"\n",
    "zin_zonderPunten = zin.replace(\".\",\"\") # Vervang alle punten in de zin door niets.\n",
    "print(zin_zonderPunten)"
   ]
  },
  {
   "cell_type": "markdown",
   "metadata": {},
   "source": [
    "Er zijn echter een hoop leestekens. Om het ons gemakkelijk te maken, halen we deze uit de module **string**."
   ]
  },
  {
   "cell_type": "code",
   "execution_count": 26,
   "metadata": {},
   "outputs": [
    {
     "name": "stdout",
     "output_type": "stream",
     "text": [
      "!\"#$%&'()*+,-./:;<=>?@[\\]^_`{|}~\n"
     ]
    }
   ],
   "source": [
    "# String met erin alle leestekens\n",
    "leestekens = string.punctuation\n",
    "print(leestekens)"
   ]
  },
  {
   "cell_type": "markdown",
   "metadata": {},
   "source": [
    "Haal alle leestekens weg uit `review_kleineletters`. Sla het resultaat op in de variabele `review_zonderLeestekens`. Gebruik hiervoor de variabele **leestekens**. "
   ]
  },
  {
   "cell_type": "code",
   "execution_count": 29,
   "metadata": {},
   "outputs": [
    {
     "name": "stdout",
     "output_type": "stream",
     "text": [
      "nieuw concept in gent maar dat kan volgens mij toch beter de meeste cornflakes waren gewoon de basic soorten ook wat duur voor de hoeveelheid die je krijgt vooral met de toppings zijn ze zuinig en als je ontbijt aanbiedt geef de mensen dan toch ook wat meer keuze voor hun koffie\n"
     ]
    }
   ],
   "source": [
    "# Overloop ieder leesteken in leestekens. \n",
    "#   Gebruik de methode replace om ieder leesteken uit review_kleineletters te halen.\n",
    "for leesteken in leestekens:\n",
    "    review_kleineletters = review_kleineletters.replace(leesteken, \"\")\n",
    "review_zonderLeestekens = review_kleineletters\n",
    "# toon resultaat (er mogen geen leestekens meer in de review staan).\n",
    "print(review_zonderLeestekens)"
   ]
  },
  {
   "cell_type": "markdown",
   "metadata": {},
   "source": [
    "Tenslotte splits alle woorden in `review_zonderLeestekens`. Sla het resultaat op in een variabele `review_tokens`. Gebruik hiervoor de string-methode **split**."
   ]
  },
  {
   "cell_type": "code",
   "execution_count": 31,
   "metadata": {},
   "outputs": [
    {
     "name": "stdout",
     "output_type": "stream",
     "text": [
      "['nieuw', 'concept', 'in', 'gent', 'maar', 'dat', 'kan', 'volgens', 'mij', 'toch', 'beter', 'de', 'meeste', 'cornflakes', 'waren', 'gewoon', 'de', 'basic', 'soorten', 'ook', 'wat', 'duur', 'voor', 'de', 'hoeveelheid', 'die', 'je', 'krijgt', 'vooral', 'met', 'de', 'toppings', 'zijn', 'ze', 'zuinig', 'en', 'als', 'je', 'ontbijt', 'aanbiedt', 'geef', 'de', 'mensen', 'dan', 'toch', 'ook', 'wat', 'meer', 'keuze', 'voor', 'hun', 'koffie']\n"
     ]
    }
   ],
   "source": [
    "# Gebruik de methode split om review_zonderLeestekens op te splitsen.\n",
    "review_tokens = review_zonderLeestekens.split(\" \")\n",
    "\n",
    "# toon resultaat (moet een lijst van losse woorden zijn).\n",
    "print(review_tokens)"
   ]
  },
  {
   "attachments": {},
   "cell_type": "markdown",
   "metadata": {},
   "source": [
    "<div style=\"background-color:#8B0000\"> \n",
    "    Ga pas verder als bovenstaande print volgend resultaat geeft:\n",
    "</div>"
   ]
  },
  {
   "cell_type": "code",
   "execution_count": null,
   "metadata": {},
   "outputs": [],
   "source": [
    "['nieuw', 'concept', 'in', 'gent', 'maar', 'dat', 'kan', 'volgens', 'mij', 'toch', 'beter', 'de', 'meeste', 'cornflakes', 'waren', 'gewoon', 'de', 'basic', 'soorten', 'ook', 'wat', 'duur', 'voor', 'de', 'hoeveelheid', 'die', 'je', 'krijgt', 'vooral', 'met', 'de', 'toppings', 'zijn', 'ze', 'zuinig', 'en', 'als', 'je', 'ontbijt', 'aanbiedt', 'geef', 'de', 'mensen', 'dan', 'toch', 'ook', 'wat', 'meer', 'keuze', 'voor', 'hun', 'koffie']"
   ]
  },
  {
   "attachments": {},
   "cell_type": "markdown",
   "metadata": {},
   "source": [
    "### 4.4 Woordsoort tagging"
   ]
  },
  {
   "cell_type": "markdown",
   "metadata": {},
   "source": [
    "Nu de woorden zijn opgesplitst moeten we ieder woord taggen. Dit wilt zeggen aangeven wat voor soort woord het is (naamwoord, werkwoord, adjectief, ...). \n",
    "\n",
    "Herinner je dat dit nodig is omdat sommige woorden meerdere soorten hebben. Bijvoorbeeld het woord lam ( NOUN 'jong schaap' <--> ADJ 'verlamd'). De **woordsoort taggen** is dus noodzakelijk om een correcte score te bekomen."
   ]
  },
  {
   "cell_type": "markdown",
   "metadata": {},
   "source": [
    "- Zoek in lexicondict.json de woordsoort(en) & score(n) van volgende woorden op. <div style=\"background-color:#008000\">\n",
    "    - 'nieuw': \"ADJ\": 0.575\n",
    "    - 'concept':  \"NOUN\": 0\n",
    "    - 'lam':    \"ADJ\": -0.6,\n",
    "                \"NOUN\": 1.0\n",
    "</div>"
   ]
  },
  {
   "attachments": {},
   "cell_type": "markdown",
   "metadata": {},
   "source": [
    "Hopelijk merk je dat het taggen van woorden geen fijn proces is. Om de review te kunnen verwerken, moet je ieder woord taggen met de correcte woordsoort. Om jullie dit werk te besparen, geeft onderstaande lijst `review_soort` de woordsoorten voor de volledige review. De **positie van de woordsoort** komt overeen met de **positie van de tokens** uit *4.3 Tokenisering*."
   ]
  },
  {
   "cell_type": "code",
   "execution_count": 32,
   "metadata": {},
   "outputs": [],
   "source": [
    "review_soort = ['ADJ', 'NOUN', 'ADP', 'PROPN', 'CCONJ', 'PRON', 'VERB', 'ADP', 'PRON', 'ADV', 'ADJ', 'DET', 'ADV', 'NOUN', 'AUX', 'ADJ', 'DET', 'ADJ', 'NOUN', 'ADV', 'DET', 'ADJ', 'ADP', 'DET', 'NOUN', 'PRON', 'PRON', 'AUX', 'ADV', 'ADP', 'DET', 'NOUN', 'AUX', 'PRON', 'ADJ', 'CCONJ', 'SCONJ', 'PRON', 'NOUN', 'AUX', 'VERB', 'DET', 'NOUN', 'ADV', 'ADV', 'ADV', 'PRON', 'DET', 'NOUN', 'ADP', 'PRON', 'NOUN']"
   ]
  },
  {
   "attachments": {},
   "cell_type": "markdown",
   "metadata": {},
   "source": [
    "### 4.5 Lemmatisering"
   ]
  },
  {
   "attachments": {},
   "cell_type": "markdown",
   "metadata": {},
   "source": [
    "Een woord opzoeken in het lexicon doe je in zijn woordenboekvorm (= lemma). Lemmatiseren is een woord terugbrengen naar zijn woordenboekvorm. Enkele voorbeelden van lemmatiseren zijn...\n",
    "- Naamwoord in enkelvoud zetten.\n",
    "- Werwoord terugbrengen naar infinitief."
   ]
  },
  {
   "attachments": {},
   "cell_type": "markdown",
   "metadata": {},
   "source": [
    "Net zoals bij *4.4 Woordsoort tagging* moet je ieder woord afgaan. Ditmaal om het te voorzien van het juiste lemma. Om jullie dit werk te besparen, kunnen jullie onderstaande lijst `review_lemmas` gebruiken.  De **positie van de lemmas** komt overeen met de **positie van de tokens** uit *4.3 Tokenisering*."
   ]
  },
  {
   "cell_type": "code",
   "execution_count": 33,
   "metadata": {},
   "outputs": [],
   "source": [
    "review_lemmas = ['nieuw', 'concept', 'in', 'gent', 'maar', 'dat', 'kunnen', 'volgens', 'mij', 'toch', 'goed', 'de', 'veel', 'cornflakes', 'zijn', 'gewoon', 'de', 'basic', 'soort', 'ook', 'wat', 'duur', 'voor', 'de', 'hoeveelheid', 'die', 'je', 'krijgen', 'vooral', 'met', 'de', 'topping', 'zijn', 'ze', 'zuinig', 'en', 'als', 'je', 'ontbijt', 'aanbieden', 'geven', 'de', 'mens', 'dan', 'toch', 'ook', 'wat', 'meer', 'keuze', 'voor', 'hun', 'koffie']"
   ]
  },
  {
   "attachments": {},
   "cell_type": "markdown",
   "metadata": {},
   "source": [
    "- Schrijf code die de eerste 10 elementen uit `review_soort` & `review_lemmas` langs elkaar print.\n",
    "    - <div style=\"background-color:#008000\"> Welke verschillen zijn er?   </div>\n",
    "\n",
    "Tip! Een woord in de ene lijst, heeft dezelfde positie in de andere lijst. De indexen komen dus overeen."
   ]
  },
  {
   "cell_type": "code",
   "execution_count": 36,
   "metadata": {},
   "outputs": [
    {
     "name": "stdout",
     "output_type": "stream",
     "text": [
      "nieuw ADJ\n",
      "concept NOUN\n",
      "in ADP\n",
      "gent PROPN\n",
      "maar CCONJ\n",
      "dat PRON\n",
      "kunnen VERB\n",
      "volgens ADP\n",
      "mij PRON\n",
      "toch ADV\n"
     ]
    }
   ],
   "source": [
    "# Print hier de eerste 10 elementen van review_tokens & review_lemmas.\n",
    "for i in range(10):\n",
    "    print(f\"{review_lemmas[i]} {review_soort[i]}\")"
   ]
  },
  {
   "attachments": {},
   "cell_type": "markdown",
   "metadata": {},
   "source": [
    "<div style=\"background-color:#8B0000\"> \n",
    "    In het volgende deel zal je de variabelen `tags` en `lemmas` gebruiken. De variabele `review_tokens` uit deel 4.3 is dus niet nodig!\n",
    "</div>"
   ]
  },
  {
   "cell_type": "markdown",
   "metadata": {},
   "source": [
    "Na het opstellen van de tokens & lemma's is de voorverwerking compleet. We kunnen nu door naar de effectieve sentimentanalyse!"
   ]
  },
  {
   "attachments": {},
   "cell_type": "markdown",
   "metadata": {},
   "source": [
    "## 5. Sentimentanalyse"
   ]
  },
  {
   "cell_type": "markdown",
   "metadata": {},
   "source": [
    "### 5.1 Variabelen klaarzetten"
   ]
  },
  {
   "cell_type": "markdown",
   "metadata": {},
   "source": [
    "Gebruik onderstaande code-blok om `lexicon` vanuit lexicondict.json in te laden."
   ]
  },
  {
   "cell_type": "code",
   "execution_count": 37,
   "metadata": {},
   "outputs": [],
   "source": [
    "# Lexicon inlezen. Deze bevindt zich in lexicondict.json.\n",
    "import json\n",
    "with open(\"lexicondict.json\", \"rb\") as file: \n",
    "    lexicon = json.load(file)"
   ]
  },
  {
   "cell_type": "markdown",
   "metadata": {},
   "source": [
    "Laad ook onderstaande lijsten opgesteld in *deel 4. Preprocessing*.  \n",
    "- `review_soort` met erin de woordsoort van ieder woord.\n",
    "- `review_lemma` met erin de lemma van ieder woord. \n",
    "\n",
    "<div style=\"background-color:#8B0000\"> \n",
    "De positie (en indexen) van elementen in de twee lijsten komen overeen. Index 2 is bijvoorbeeld NOUN concept, index 10 is dan weer ADJ goed, enzoverder...\n",
    "</div>"
   ]
  },
  {
   "cell_type": "code",
   "execution_count": 38,
   "metadata": {},
   "outputs": [],
   "source": [
    "review_soort =   ['ADJ',   'NOUN',    'ADP', 'PROPN', 'CCONJ', 'PRON', 'VERB',   'ADP',     'PRON', 'ADV',  'ADJ',  'DET', 'ADV',  'NOUN',       'AUX',  'ADJ',    'DET', 'ADJ',   'NOUN',  'ADV', 'DET', 'ADJ',  'ADP',  'DET', 'NOUN',        'PRON', 'PRON', 'AUX',     'ADV',    'ADP', 'DET', 'NOUN',    'AUX',  'PRON', 'ADJ',    'CCONJ', 'SCONJ', 'PRON', 'NOUN',    'AUX',       'VERB',  'DET', 'NOUN', 'ADV', 'ADV',  'ADV', 'PRON', 'DET',  'NOUN',  'ADP',  'PRON', 'NOUN']\n",
    "review_lemmas = ['nieuw', 'concept', 'in',  'gent',  'maar',  'dat',  'kunnen', 'volgens', 'mij',  'toch', 'goed', 'de',  'veel', 'cornflakes', 'zijn', 'gewoon', 'de',  'basic', 'soort', 'ook', 'wat', 'duur', 'voor', 'de',  'hoeveelheid', 'die',  'je',   'krijgen', 'vooral', 'met', 'de',  'topping', 'zijn', 'ze',   'zuinig', 'en',    'als',   'je',   'ontbijt', 'aanbieden', 'geven', 'de',  'mens', 'dan', 'toch', 'ook', 'wat',  'meer', 'keuze', 'voor', 'hun',  'koffie']"
   ]
  },
  {
   "cell_type": "markdown",
   "metadata": {},
   "source": [
    "### 5.2 Sentiment-analyse uitvoeren"
   ]
  },
  {
   "cell_type": "markdown",
   "metadata": {},
   "source": [
    "We zullen nu een algoritme opstellen om het sentiment van een tekst te bepalen. Dit gebeurt in verschillende kleine stappen om het overzicht te behouden."
   ]
  },
  {
   "cell_type": "markdown",
   "metadata": {},
   "source": [
    "- Overloop ieder woord in de lijst `review_lemmas`.\n",
    "    - Print langs het woord welke woordsoort het heeft (overeenkomstig element in `review_soort`)."
   ]
  },
  {
   "cell_type": "code",
   "execution_count": 40,
   "metadata": {},
   "outputs": [
    {
     "name": "stdout",
     "output_type": "stream",
     "text": [
      "nieuw - ADJ\n",
      "concept - NOUN\n",
      "in - ADP\n",
      "gent - PROPN\n",
      "maar - CCONJ\n",
      "dat - PRON\n",
      "kunnen - VERB\n",
      "volgens - ADP\n",
      "mij - PRON\n",
      "toch - ADV\n",
      "goed - ADJ\n",
      "de - DET\n",
      "veel - ADV\n",
      "cornflakes - NOUN\n",
      "zijn - AUX\n",
      "gewoon - ADJ\n",
      "de - DET\n",
      "basic - ADJ\n",
      "soort - NOUN\n",
      "ook - ADV\n",
      "wat - DET\n",
      "duur - ADJ\n",
      "voor - ADP\n",
      "de - DET\n",
      "hoeveelheid - NOUN\n",
      "die - PRON\n",
      "je - PRON\n",
      "krijgen - AUX\n",
      "vooral - ADV\n",
      "met - ADP\n",
      "de - DET\n",
      "topping - NOUN\n",
      "zijn - AUX\n",
      "ze - PRON\n",
      "zuinig - ADJ\n",
      "en - CCONJ\n",
      "als - SCONJ\n",
      "je - PRON\n",
      "ontbijt - NOUN\n",
      "aanbieden - AUX\n",
      "geven - VERB\n",
      "de - DET\n",
      "mens - NOUN\n",
      "dan - ADV\n",
      "toch - ADV\n",
      "ook - ADV\n",
      "wat - PRON\n",
      "meer - DET\n",
      "keuze - NOUN\n",
      "voor - ADP\n",
      "hun - PRON\n",
      "koffie - NOUN\n"
     ]
    }
   ],
   "source": [
    "\"\"\" VOORBEELD\n",
    "Overzicht review:\n",
    "    - nieuw - ADJ\n",
    "    - concept - NOUN\n",
    "    - in - ADP\n",
    "    ...\n",
    "\"\"\"\n",
    "for index in range(len(review_lemmas)):\n",
    "    print(f\"{review_lemmas[index]} - {review_soort[index]}\")\n",
    "# VUL AAN"
   ]
  },
  {
   "cell_type": "markdown",
   "metadata": {},
   "source": [
    "- Controleer nu ook of de combinatie van woord & woordsoort in `lexicon` staat.\n",
    "    - Indien ja, haal de sentimentscore af uit `lexicon` en print deze.\n",
    "    - Indien nee, print dat de combo niet gevonden is.\n",
    "\n",
    "<div style=\"background-color:#8B0000\"> <b> Grijp hiervoor terug naar oefen mee 3.4.</b> in <b>deel 3.3 Info ophalen uit Lexicon</b></div>"
   ]
  },
  {
   "cell_type": "code",
   "execution_count": 45,
   "metadata": {},
   "outputs": [
    {
     "name": "stdout",
     "output_type": "stream",
     "text": [
      "nieuw - ADJ: 0.575\n",
      "concept - NOUN: 0\n",
      "in komt niet voor in lexicon\n",
      "gent komt niet voor in lexicon\n",
      "maar komt niet voor in lexicon\n",
      "dat komt niet voor in lexicon\n",
      "kunnen heeft geen VERB in lexicon\n",
      "volgens komt niet voor in lexicon\n",
      "mij komt niet voor in lexicon\n",
      "toch komt niet voor in lexicon\n",
      "goed - ADJ: 0.775\n",
      "de komt niet voor in lexicon\n",
      "veel heeft geen ADV in lexicon\n",
      "cornflakes komt niet voor in lexicon\n",
      "zijn - AUX: 0.0\n",
      "gewoon - ADJ: 0.5\n",
      "de komt niet voor in lexicon\n",
      "basic komt niet voor in lexicon\n",
      "soort komt niet voor in lexicon\n",
      "ook komt niet voor in lexicon\n",
      "wat komt niet voor in lexicon\n",
      "duur - ADJ: -1.0666666666666667\n",
      "voor - ADP: 1.0\n",
      "de komt niet voor in lexicon\n",
      "hoeveelheid komt niet voor in lexicon\n",
      "die komt niet voor in lexicon\n",
      "je komt niet voor in lexicon\n",
      "krijgen heeft geen AUX in lexicon\n",
      "vooral komt niet voor in lexicon\n",
      "met komt niet voor in lexicon\n",
      "de komt niet voor in lexicon\n",
      "topping komt niet voor in lexicon\n",
      "zijn - AUX: 0.0\n",
      "ze komt niet voor in lexicon\n",
      "zuinig - ADJ: 0.0\n",
      "en komt niet voor in lexicon\n",
      "als komt niet voor in lexicon\n",
      "je komt niet voor in lexicon\n",
      "ontbijt komt niet voor in lexicon\n",
      "aanbieden heeft geen AUX in lexicon\n",
      "geven - VERB: 1.0\n",
      "de komt niet voor in lexicon\n",
      "mens - NOUN: 0.0\n",
      "dan komt niet voor in lexicon\n",
      "toch komt niet voor in lexicon\n",
      "ook komt niet voor in lexicon\n",
      "wat komt niet voor in lexicon\n",
      "meer komt niet voor in lexicon\n",
      "keuze komt niet voor in lexicon\n",
      "voor - ADP: 1.0\n",
      "hun komt niet voor in lexicon\n",
      "koffie komt niet voor in lexicon\n"
     ]
    }
   ],
   "source": [
    "\"\"\" VOORBEELD\n",
    "Overzicht review:\n",
    "    - nieuw - ADJ: 0.575\n",
    "    - concept - NOUN: 0\n",
    "    - in - ADP: combinatie bestaat niet.\n",
    "    ...\n",
    "\"\"\"\n",
    "for index, woord in enumerate(review_lemmas):\n",
    "    if woord in lexicon:\n",
    "        if review_soort[index] in lexicon[woord]:\n",
    "            print(f\"{woord} - {review_soort[index] }: {lexicon[woord][review_soort[index]]}\")\n",
    "        else:\n",
    "            print(f\"{woord} heeft geen {review_soort[index] } in lexicon\")\n",
    "    else:\n",
    "        print(f\"{woord} komt niet voor in lexicon\")\n",
    "    # VUL AAN"
   ]
  },
  {
   "cell_type": "markdown",
   "metadata": {},
   "source": [
    "- Tenslotte, indien een sentimentscore gevonden was. Tel het resultaat op bij variabele `sentiment_score`. Na ieder woord te overlopen, print de uiteindelijke behaalde score."
   ]
  },
  {
   "cell_type": "markdown",
   "metadata": {},
   "source": [
    "<div style=\"background-color:#8B0000\"> Na deze stap heb je de sentimentscore van de review bepaald!</div>"
   ]
  },
  {
   "cell_type": "code",
   "execution_count": 47,
   "metadata": {},
   "outputs": [
    {
     "name": "stdout",
     "output_type": "stream",
     "text": [
      "3.783333333333333\n"
     ]
    }
   ],
   "source": [
    "\"\"\" VOORBEELD\n",
    "Overzicht review:\n",
    "    - nieuw - ADJ: 0.575\n",
    "    - concept - NOUN: 0\n",
    "    - in - ADP: combinatie bestaat niet.\n",
    "    ...\n",
    "De sentimentscore van de tekst is *BEPAAL ZELF*\n",
    "\"\"\"\n",
    "\n",
    "sentiment_score = 0\n",
    "\n",
    "for index, woord in enumerate(review_lemmas):\n",
    "    if woord in lexicon:\n",
    "        if review_soort[index] in lexicon[woord]:\n",
    "            sentiment_score += lexicon[woord][review_soort[index]]\n",
    "print(sentiment_score)\n",
    "# VUL VERDER AAN"
   ]
  },
  {
   "cell_type": "markdown",
   "metadata": {},
   "source": [
    "- Beantwoord volgende vragen: <div style=\"background-color:#008000\"> \n",
    "    - Welke sentimentscore is behaald?   3.7833...\n",
    "    - Vindt de AI deze review positief of negatief?  positief\n",
    "    - Lees de review na (zie hieronder). Was de AI correct (indien nee, hoe komt dit)?   nee, de review is deels sarcastisch\n",
    "</div>"
   ]
  },
  {
   "cell_type": "code",
   "execution_count": null,
   "metadata": {},
   "outputs": [],
   "source": [
    "review = \"Nieuw concept in Gent, maar dat kan volgens mij toch beter. De meeste cornflakes waren gewoon de basic soorten. Ook wat duur voor de hoeveelheid die je krijgt, vooral met de toppings zijn ze zuinig. En als je ontbijt aanbiedt, geef de mensen dan toch ook wat meer keuze voor hun koffie...\""
   ]
  },
  {
   "cell_type": "markdown",
   "metadata": {},
   "source": [
    "## Slotvraag"
   ]
  },
  {
   "attachments": {},
   "cell_type": "markdown",
   "metadata": {},
   "source": [
    "We blikken even terug op deze pagina. Volgende zaken zijn gezien:\n",
    "- Lexicon inladen\n",
    "- preprocessing (van review):\n",
    "    - lowercasing\n",
    "    - tokenisering\n",
    "    - woordsoort taggen\n",
    "    - lemma bepalen\n",
    "- Sentimentanalyse uitvoeren\n",
    "\n",
    "Welke van deze zaken kan reeds automatisch gebeuren. Welke van deze zaken moesten manueel opgesteld worden?\n",
    "<div style=\"background-color:#008000\">\n",
    "Automatisch:    een sedimentscore voorzien\n",
    "<br>Manueel:    het lexicon  \n",
    "</div>\n",
    "\n",
    "De manuele zaken zijn in dit geval gegeven. Deze zelf doen zou te veel tijd kosten, het is dan ook nog niet praktisch om andere reviews te verwerken. In het volgende deel **3_ML_sentiment.ipynb**, zien we daarom hoe ook deze zaken te automatiseren!"
   ]
  },
  {
   "attachments": {},
   "cell_type": "markdown",
   "metadata": {},
   "source": [
    "#\n",
    "  <a href=\"https://www.aiopschool.be/chatbot/\"> \n",
    "        <img src=\"../_afbeeldingen/bannerugentdwengo.png\" alt=\"Dwengo\" style =\"display: block; margin-left: auto; margin-right: auto; margin-bottom: 30px; width:20%\"/>\n",
    "    </a>\n",
    "\n",
    "Deze Notebook is gebaseerd op: Notebook Chatbot, zie <a href=\"http://www.aiopschool.be\">AI Op School</a>, van S. Pletinck , F. wyffels & N. Gesquière is in licentie gegeven volgens een <a href=\"http://creativecommons.org/licenses/by-nc-sa/4.0/\">Creative Commons Naamsvermelding-NietCommercieel-GelijkDelen 4.0 Internationaal-licentie</a>. "
   ]
  }
 ],
 "metadata": {
  "kernelspec": {
   "display_name": "venv_AI",
   "language": "python",
   "name": "python3"
  },
  "language_info": {
   "codemirror_mode": {
    "name": "ipython",
    "version": 3
   },
   "file_extension": ".py",
   "mimetype": "text/x-python",
   "name": "python",
   "nbconvert_exporter": "python",
   "pygments_lexer": "ipython3",
   "version": "3.12.0"
  }
 },
 "nbformat": 4,
 "nbformat_minor": 4
}
