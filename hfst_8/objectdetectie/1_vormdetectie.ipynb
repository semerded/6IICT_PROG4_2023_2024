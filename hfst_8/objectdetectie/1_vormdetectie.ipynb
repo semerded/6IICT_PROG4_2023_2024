{
 "cells": [
  {
   "attachments": {},
   "cell_type": "markdown",
   "id": "695ca872",
   "metadata": {},
   "source": [
    "<div style=\"margin-bottom:-35px;\">\n",
    "    <font color=#FFFFFF markdown=\"1\">\n",
    "        <h1> <center> Gebaseerd op een cursus van:</center> </h1> \n",
    "    </font>\n",
    "    <a href=\"https://www.aiopschool.be/chatbot/\"> \n",
    "        <img src=\"../_afbeeldingen/bannerugentdwengo.png\" alt=\"Dwengo\" style =\"display: block; margin-left: auto; margin-right: auto; margin-bottom: 30px; width:20%\"/>\n",
    "    </a>\n",
    "</div>"
   ]
  },
  {
   "cell_type": "markdown",
   "id": "bbc6c87e",
   "metadata": {},
   "source": [
    "# Toepassing: Vormdetectie"
   ]
  },
  {
   "cell_type": "markdown",
   "id": "4e069ddb",
   "metadata": {},
   "source": [
    "<div style=\"background-color:#8B8000\">\n",
    "Hoewel objectdetectiesystemen tegenwoordig al op veel plaatsen gebruikt worden in de maatschappij, zijn er toch nog heel wat verbeteringen mogelijk. In deze Notebook kom je we wat meer te weten over de basiswerking van een objectdetectiesysteem. Meer specifiek kijken we hiervoor naar het detecteren van vormen.\n",
    "</div>"
   ]
  },
  {
   "cell_type": "markdown",
   "id": "36e1ae1d",
   "metadata": {},
   "source": [
    "## 1. Algemene info"
   ]
  },
  {
   "cell_type": "markdown",
   "id": "48cc8627",
   "metadata": {},
   "source": [
    "### 1.1 Modules installeren"
   ]
  },
  {
   "cell_type": "markdown",
   "id": "f7ce80a4",
   "metadata": {},
   "source": [
    "Voer onderstaande code-cel uit. Deze bevat de modules noodzakelijk voor deze notebook. Dit is een eenmalige actie."
   ]
  },
  {
   "cell_type": "markdown",
   "id": "35de5acf",
   "metadata": {},
   "source": [
    "<div style=\"background-color:#8B0000\"> \n",
    "Controleert eerst dat deze notebook gebruik maakt van een venv. Vraag indien nodig aan de leerkracht om dit te controleren.</div>"
   ]
  },
  {
   "cell_type": "code",
   "execution_count": null,
   "id": "ee72e604",
   "metadata": {},
   "outputs": [],
   "source": [
    "# installeren van module opencv\n",
    "%pip install opencv-python\n",
    "# installeren van module numpy\n",
    "%pip install numpy\n",
    "# installeren van module matplotlib\n",
    "%pip install matplotlib"
   ]
  },
  {
   "cell_type": "markdown",
   "id": "8515d4e2",
   "metadata": {},
   "source": [
    "<div style=\"background-color:#000065\"> \n",
    "<p>Je zal gebruikmaken van opencv. OpenCV-Python is een module ontworpen om computervisieproblemen op te lossen. Deze bevat reeds voorgeprogrammeerde functies die kunnen gebruikt worden voor objectverwerking, -verdeling, -detectie, -herkenning, ...\n",
    "\n",
    "Hiernaast installeer je ook numpy en matplotlib. Numpy is een module die een scala aan wiskundige en wetenschappelijke functies aanbied. Matplotlib is een module bedoeld om grafieken op te stellen. We zullen deze laatste gebruiken om verwerkte afbeeldingen in de Notebook te tonen.\n",
    "</div>"
   ]
  },
  {
   "cell_type": "markdown",
   "id": "39605445",
   "metadata": {},
   "source": [
    "### 1.2 Wat is objectdetectie?"
   ]
  },
  {
   "cell_type": "markdown",
   "id": "601f7e6c",
   "metadata": {},
   "source": [
    "De definitie van objectdetectie is als volgt:\n",
    "\n",
    "> Een computervisietechniek met als doel objecten op een afbeelding of video te lokaliseren en a.d.h.v. een classificatietechniek te identificeren. \n"
   ]
  },
  {
   "cell_type": "markdown",
   "id": "20e8b94b",
   "metadata": {},
   "source": [
    "Deze techniek wordt bijvoorbeeld toegepast door de politie bij het oplossen van een misdrijf. Een computersysteem kan namelijk veel sneller werken dan een mens. Toch is het niet zo eenvoudig voor een computer om objecten op een afbeelding te herkennen. Dit komt doordat de computer op een andere manier naar een afbeelding kijkt...\n",
    "\n",
    "Om de moeilijkheid van objectdetectie duidelijk te maken. Zullen we in deze notebook een eenvoudige toepassing bekijken. Namelijk het detecteren van vormen op een afbeelding. Dit via een `regelgebaseerde (AI) techniek`. "
   ]
  },
  {
   "cell_type": "markdown",
   "id": "84437ac8",
   "metadata": {},
   "source": [
    "## 2. Hoe 'ziet' de computer?"
   ]
  },
  {
   "cell_type": "markdown",
   "id": "355d6fa4",
   "metadata": {},
   "source": [
    "### 2.1 Theoretische uitleg"
   ]
  },
  {
   "cell_type": "markdown",
   "id": "186dd2ac",
   "metadata": {},
   "source": [
    "Een computer werkt binair. Een computer zal dus geen afbeelding te zien krijgen zoals wij die zien, maar wel allemaal getallen (zie onderstaande afbeeldingen). Dit werkt als volgt: Een afbeelding bestaat uit pixels. Iedere pixel heeft een bepaalde kleur (R,G,B); die kan worden voorgesteld door een reeks getallen. \n",
    "\n",
    "De computer ziet dus eigenlijk geen afbeelding maar een lange reeks aan getallen. Iedere 3 bytes aan getallen stelt een pixel voor. Doordat een computer dus met getallen werkt, zal het moeilijker zijn voor een computer om een voorwerp te herkennen dan voor de mens."
   ]
  },
  {
   "cell_type": "markdown",
   "id": "aa945618",
   "metadata": {},
   "source": [
    "<div style=\"background-color:#000065\">\n",
    "    Een computer ziet enkel een digitale (binaire) representatie van een afbeelding. De betekenis van wat er te zien is, ontgaat de computer.\n",
    "</div>"
   ]
  },
  {
   "cell_type": "markdown",
   "id": "438b7b6b",
   "metadata": {},
   "source": [
    "<table style=\"margin-left: auto;  margin-right: auto;\"><tr>\n",
    "<td><figure>\n",
    "  <img src=\"../_afbeeldingen/beeldcomputer.jpg\" alt=\"Trulli\" style =\"display: block; margin-left: auto; margin-right: auto; width:100%\"/>\n",
    "   <center>\"Zien\": Mens vs Computer</center> \n",
    "    </figure></td>\n",
    "<td><figure>\n",
    "  <img src=\"../_afbeeldingen/watcomputerziet.png\" alt=\"Trulli\" style =\"display: block; margin-left: auto; margin-right: auto; width:100%\">\n",
    "  <center>\"Zien\": Mens vs Computer</center>\n",
    "</figure></td>\n",
    "</tr></table>"
   ]
  },
  {
   "cell_type": "markdown",
   "id": "c2ed0ef4",
   "metadata": {},
   "source": [
    "### 2.2 Beperkingen van computervisie"
   ]
  },
  {
   "attachments": {},
   "cell_type": "markdown",
   "id": "51a5bac4",
   "metadata": {},
   "source": [
    "#### Oefen mee 2.1"
   ]
  },
  {
   "attachments": {},
   "cell_type": "markdown",
   "id": "a199c481",
   "metadata": {},
   "source": [
    "- Welk objecten zie je op onderstaande onscherpe afbeeldingen? <div style=\"background-color:#008000\">\n",
    "    - Afbeelding 1:   \n",
    "    - Afbeelding 2:    \n",
    "</div>"
   ]
  },
  {
   "cell_type": "markdown",
   "id": "ac63c6fb",
   "metadata": {},
   "source": [
    "<table style=\"margin-left: auto;  margin-right: auto;\"><tr>\n",
    "<td><figure>\n",
    "  <img src=\"../_afbeeldingen/wazigeafbeelding1.jpg\" alt=\"Trulli\" style =\"display: block; margin-left: auto; margin-right: auto; margin-bottom: 10px; width:70%\">\n",
    "   <center>Afbeelding 1</center> \n",
    "    </figure></td>\n",
    "<td><figure>\n",
    "  <img src=\"../_afbeeldingen/wazigeafbeelding2.jpg\" alt=\"Trulli\" style =\"display: block; margin-left: auto; margin-right: auto; margin-bottom: 10px; width:70%\">\n",
    "  <center>Afbeelding 2</center>\n",
    "</figure></td>\n",
    "</tr></table>"
   ]
  },
  {
   "cell_type": "markdown",
   "id": "13cb7efa",
   "metadata": {},
   "source": [
    "Als we beide afbeeldingen zouden verscherpen, is dezelfde auto twee keer te zien. Op de tweede afbeelding is de auto echter 90 graden gedraaid. Waarom identificeer je het object op de tweede afbeelding niet als een rechtstaande auto? Misschien omdat je de link legt met de straat & gebouwen die zichtbaar zijn op de figuur? "
   ]
  },
  {
   "attachments": {},
   "cell_type": "markdown",
   "id": "1b02e0e6",
   "metadata": {},
   "source": [
    "<div style=\"background-color:#000065\">\n",
    "Terwijl het voor een mens vanzelfsprekend is om objecten te linken aan de omgeving er rond, is dit voor een computer/algoritme veel complexer. Hierin bevindt zich dus grote moeilijkheid bij het detecteren en identificeren van objecten.  \n",
    "</div>"
   ]
  },
  {
   "cell_type": "markdown",
   "id": "84f0462c",
   "metadata": {},
   "source": [
    "#### Oefen mee 2.2"
   ]
  },
  {
   "cell_type": "markdown",
   "id": "a5fe04e3",
   "metadata": {},
   "source": [
    "- Bekijk onderstaande afbeelding.\n",
    "    - <div style=\"background-color:#008000\"> Hoeveel honden zie je?    </div>    "
   ]
  },
  {
   "cell_type": "markdown",
   "id": "c97eee63",
   "metadata": {},
   "source": [
    "  <img src=\"../_afbeeldingen/meerderehonden.png\" alt=\"Trulli\" style =\"display: block; margin-left: auto; margin-right: auto; width:40%\"/>"
   ]
  },
  {
   "cell_type": "markdown",
   "id": "cbb1a72e",
   "metadata": {},
   "source": [
    "Het tellen is niet zo eenvoudig. Dit omdat de honden willekeurig op de afbeelding verspreidt staan. Computers krijgen vaak met afbeeldingen te maken die niet optimaal zijn. Dit kan ook omwille van andere redenen zoals belichting, resolutie, schaal, andere objecten/achtergrond afbeelding, ..."
   ]
  },
  {
   "cell_type": "markdown",
   "id": "12795af1",
   "metadata": {},
   "source": [
    "<div style=\"background-color:#000065\">\n",
    "Hiernaast is er nog een niet te onderschatten aspect. Namelijk dat al deze honden er verschillend uitzien. Hondenrassen verschillen qua grootte, vorm, kleur, ... . Echter zijn het wel allemaal honden. Een model dat alle verschillende rassen als hond herkent, moet ook met afbeeldingen van alle rassen getraind zijn. Dan nog kan het af en toe misgaan. Zou het model onderstaande afbeelding als hond of als kat zien?\n",
    "</div>"
   ]
  },
  {
   "cell_type": "markdown",
   "id": "ac654c9e",
   "metadata": {},
   "source": [
    "  <img src=\"../_afbeeldingen/hondkatoranje.png\" alt=\"Trulli\" style =\"display: block; margin-left: auto; margin-right: auto; width:20%\"/>"
   ]
  },
  {
   "cell_type": "markdown",
   "id": "96c1748b",
   "metadata": {},
   "source": [
    "## 3. Afbeelding inladen & analyseren"
   ]
  },
  {
   "cell_type": "markdown",
   "id": "09f89dff",
   "metadata": {},
   "source": [
    "### 3.1 Modules importeren & variabelen/functies klaarzetten "
   ]
  },
  {
   "cell_type": "markdown",
   "id": "1d69aa03",
   "metadata": {},
   "source": [
    "Importeer de module `opencv` & `matplotlib`."
   ]
  },
  {
   "cell_type": "code",
   "execution_count": 1,
   "id": "ee8ba7ca",
   "metadata": {},
   "outputs": [],
   "source": [
    "import cv2\n",
    "from matplotlib import pyplot as plt"
   ]
  },
  {
   "cell_type": "markdown",
   "id": "188360ea",
   "metadata": {},
   "source": [
    "Voer hierna onderstaande cel uit om de functie `plt_imshow` aan te maken. Deze functie toont de (verwerkte) afbeelding met `matplotlib`."
   ]
  },
  {
   "cell_type": "code",
   "execution_count": 2,
   "id": "e4a19ab4",
   "metadata": {},
   "outputs": [],
   "source": [
    "#functie om afbeelding weer te geven\n",
    "def plt_imshow(titel, afbeelding):\n",
    "    plt.imshow(afbeelding, cmap='Greys_r')\n",
    "    plt.title(titel)\n",
    "    plt.grid(False)\n",
    "    plt.show()"
   ]
  },
  {
   "cell_type": "markdown",
   "id": "76d384bc",
   "metadata": {},
   "source": [
    "### 3.2 Afbeelding analyseren"
   ]
  },
  {
   "cell_type": "markdown",
   "id": "f1fcfe69",
   "metadata": {},
   "source": [
    "We zullen in deze notebook vormen detecteren op een afbeelding. Het doel is om alle vormen op afbeelding `vormen.png` te herkennen. Na de afbeelding in te laden, kan je deze tonen via de functie **plt_imshow**."
   ]
  },
  {
   "cell_type": "code",
   "execution_count": null,
   "id": "156163dc",
   "metadata": {},
   "outputs": [],
   "source": [
    "# Afbeelding inladen.\n",
    "afbeelding = cv2.imread(r\"../_afbeeldingen/vormen.png\")\n",
    "afbeelding = cv2.cvtColor(afbeelding, cv2.COLOR_BGR2RGB)\n",
    "\n",
    "# Afbeelding tonen.\n",
    "plt_imshow(\"Vormen\", afbeelding)"
   ]
  },
  {
   "cell_type": "markdown",
   "id": "b8c10cd2",
   "metadata": {},
   "source": [
    "<div style=\"background-color:#8B0000\"> \n",
    "Links van de code-cel staan drie puntjes. Selecteer hier de optie <b>'clear cell outputs'</b> om de afbeelding te verwijderen. Probeer dit eens!\n",
    "</div>"
   ]
  },
  {
   "cell_type": "markdown",
   "id": "12cd3190",
   "metadata": {},
   "source": [
    "#### Oefen mee 3.1"
   ]
  },
  {
   "cell_type": "markdown",
   "id": "621f8730",
   "metadata": {},
   "source": [
    "-  Beantwoord volgende vragen over de afbeeldingen `vormen.png`: <div style=\"background-color:#008000\">\n",
    "    - Welke wiskundige vormen herken je?   \n",
    "    - Hoe herken je deze vormen? Met andere woorden, waar let je op?   \n",
    "    - Kan je dit omvormen naar een eigenschap (vb. het ... bepaalt de vorm)?\n",
    "</div>"
   ]
  },
  {
   "cell_type": "markdown",
   "id": "861d091a",
   "metadata": {},
   "source": [
    "## 4. Algoritme voor vormdetectie"
   ]
  },
  {
   "cell_type": "markdown",
   "id": "315219cc",
   "metadata": {},
   "source": [
    "### 4.1 Modules importeren & variabelen/functies klaarzetten "
   ]
  },
  {
   "cell_type": "markdown",
   "id": "9c45e315",
   "metadata": {},
   "source": [
    "Importeer de module `opencv` & `matplotlib`."
   ]
  },
  {
   "cell_type": "code",
   "execution_count": 4,
   "id": "a7869ea1",
   "metadata": {},
   "outputs": [],
   "source": [
    "import cv2\n",
    "from matplotlib import pyplot as plt"
   ]
  },
  {
   "cell_type": "markdown",
   "id": "939bfb59",
   "metadata": {},
   "source": [
    "Voer hierna onderstaande cel uit om de functie `plt_imshow` aan te maken. Deze functie leest een afbeelding in via `opencv` en toont de afbeelding met `matplotlib`."
   ]
  },
  {
   "cell_type": "code",
   "execution_count": 5,
   "id": "832a04fc",
   "metadata": {},
   "outputs": [],
   "source": [
    "#functie om afbeelding weer te geven\n",
    "def plt_imshow(titel, afbeelding):\n",
    "    plt.imshow(afbeelding, cmap='Greys_r')\n",
    "    plt.title(titel)\n",
    "    plt.grid(False)\n",
    "    plt.show()"
   ]
  },
  {
   "cell_type": "markdown",
   "id": "6d9fa5bb",
   "metadata": {},
   "source": [
    "Om het algoritme te ontwikkelen, zal afbeelding `driehoek.jpg` als voorbeeld dienen. controleer of je deze kan inladen. "
   ]
  },
  {
   "cell_type": "code",
   "execution_count": null,
   "id": "3792dd53",
   "metadata": {},
   "outputs": [],
   "source": [
    "# Afbeelding inladen.\n",
    "driehoek = cv2.imread(r\"../_afbeeldingen/driehoek.jpg\")\n",
    "driehoek = cv2.cvtColor(driehoek, cv2.COLOR_BGR2RGB)\n",
    "\n",
    "# Afbeelding tonen.\n",
    "plt_imshow(\"Vormen\",driehoek)"
   ]
  },
  {
   "cell_type": "markdown",
   "id": "00e76984",
   "metadata": {},
   "source": [
    "### 4.2 Hoe werkt het algoritme?"
   ]
  },
  {
   "cell_type": "markdown",
   "id": "92dc5260",
   "metadata": {},
   "source": [
    "Net zoals jij in *oefen mee 3.1* deed. Moet het algoritme eigenschappen gebruiken om de vormen op de afbeelding te herkennen. Wij denken hier niet zo diep meer bij na, maar het is doordat we bepaalde eigenschappen hebben aangeleerd dat het herkennen van objecten zo vlot verloopt. Zo herkennen we bovenstaande vormen aan de hand van het aantal hoeken, aan het aantal evenwijdige zijden, ... . Wij kunnen deze eigenschappen makkelijk zien op het eerste zicht. Een computer kan echter enkel de getallen achter de afbeelding 'zien' (*deel 2.1 'theoretische uitleg'*). \n",
    "\n",
    "Wij moeten het algoritme dus aangeven hoe het een bepaalde figuur kan herkennen. Dit door te zeggen op welke eigenschap het moet letten. We kunnen het voor deze implementatie simpel houden. **Het aantal zijden bepaalt de vorm. Een driehoek heeft 3 zijden, een vierhoek 4, enz...**. Een `regelgebaseerde implementatie (AI)` volstaat om een dergelijk algoritme te ontwikkelen.\n",
    "\n",
    "<div style=\"background-color:#8B0000\"> \n",
    "Merk wel op dat deze manier van werken redelijk dom is... er bestaan meerdere vormen met bvb. 4 zijden. Het algoritme zal dus enkel werken voor deze specifieke afbeelding.\n",
    "</div>"
   ]
  },
  {
   "cell_type": "markdown",
   "id": "eb51e1da",
   "metadata": {},
   "source": [
    "### 4.3 Afbeelding converteren naar grijswaarden"
   ]
  },
  {
   "attachments": {},
   "cell_type": "markdown",
   "id": "3603be25",
   "metadata": {},
   "source": [
    "Iedere pixel op een afbeelding bestaat uit 3 getallen tussen 0 en 255 (**RGB**), 3 bytes per pixel met andere woorden. Dit grootte aantal getallen verwerken kan zeer belastend zijn. Om de processor te sparen kan de computer de afbeelding eerst omzetten naar een `grijswaardenafbeelding`. Waarbij iedere pixel slechts uit 1 getal tussen 0 en 255 bestaat, dus slechts 1 byte per pixel. \n",
    "\n",
    "Door de pixelwaardes om te zetten naar grijswaarden, is het verschil tussen achtergrond en voorgrond ook duidelijker. In dit geval is de achtergrond wit (hogere pixelwaarde); de vormen zijn grijs/zwart (lagere pixelwaarde)."
   ]
  },
  {
   "cell_type": "markdown",
   "id": "b98d7744",
   "metadata": {},
   "source": [
    "#### Oefen mee 4.1"
   ]
  },
  {
   "cell_type": "markdown",
   "id": "64401446",
   "metadata": {},
   "source": [
    "Laten we het verschil tussen achter- & voorgrond aantonen via de afbeelding `driehoek.jpg`. Voer hiervoor onderstaand code-blok uit. Deze code vormt de afbeelding om naar grijswaarden. Vervolgens toont het de verwerkte afbeelding, alsook de pixel-waarden van de afbeelding.\n",
    "\n",
    "- Beantwoord volgende vragen: <div style=\"background-color:#008000\">\n",
    "    - Welke pixel-waarde(n) heeft de achtergrond?  \n",
    "    - Welke pixel-waarde(n) heeft de driehoek?   \n",
    "</div>"
   ]
  },
  {
   "cell_type": "code",
   "execution_count": null,
   "id": "2b0a16ef",
   "metadata": {},
   "outputs": [],
   "source": [
    "# Afbeelding inladen (met grijswaarden).\n",
    "driehoek = cv2.imread(r\"../_afbeeldingen/driehoek.jpg\")\n",
    "driehoek_grijs = cv2.cvtColor(driehoek, cv2.COLOR_BGR2GRAY)\n",
    "\n",
    "# Afbeelding & pixelwaarden tonen.\n",
    "plt_imshow(\"grijsafbeelding\", driehoek_grijs)\n",
    "print(driehoek_grijs)"
   ]
  },
  {
   "cell_type": "markdown",
   "id": "84534fc0",
   "metadata": {},
   "source": [
    "#### Oefen mee 4.2"
   ]
  },
  {
   "cell_type": "markdown",
   "id": "17b53085",
   "metadata": {},
   "source": [
    "Vorm zelf de afbeelding `vormen.png` om naar grijswaarden. Baseer je hiervoor op de code uit **oefen mee 4.1**. Toon zowel de omgevormde afbeelding als de nieuwe pixelwaarden."
   ]
  },
  {
   "cell_type": "markdown",
   "id": "7c4511e9",
   "metadata": {},
   "source": [
    "<div style=\"background-color:#8B0000\"> \n",
    "De lijst met pixel-waarden wordt ingekort door Notebook. Al deze waarden tonen zou teveel ruimte innemen.\n",
    "</div>\n"
   ]
  },
  {
   "cell_type": "code",
   "execution_count": null,
   "id": "616569c0",
   "metadata": {},
   "outputs": [],
   "source": [
    "# pad naar vormen.png: r\"../_afbeeldingen/vormen.png\""
   ]
  },
  {
   "attachments": {},
   "cell_type": "markdown",
   "id": "53bac317",
   "metadata": {},
   "source": [
    "<div style=\"background-color:#000065\"> \n",
    "Het elimineren van de kleur is in het geval van vormdetectie geen probleem. In andere gevallen kan dit wel nadelig zijn. Het is dus belangrijk om op voorhand hierover na te denken. Bij objectherkenning geven kleuren je veel extra informatie. Deze weggooien zal het algoritme slechter doen werken.\n",
    "</div>"
   ]
  },
  {
   "cell_type": "markdown",
   "id": "8e025a65",
   "metadata": {},
   "source": [
    "### 4.4 Drempelwaarde instellen"
   ]
  },
  {
   "cell_type": "markdown",
   "id": "4df480f4",
   "metadata": {},
   "source": [
    "Het verschil tussen achter- & voorgrond is voor ons duidelijk. Voor de computer is dit echter nog niet het geval. Er mag geen onzekerheid zijn voor de computer. Merk echter op dat de pixels aan de rand van de driehoek lichter van kleur zijn...\n",
    "\n",
    "We moeten ervoor zorgen dat alle pixels op de achtergrond wit zijn, en alle van de driehoek zwart. We zullen hiervoor een `drempelwaarde (of threshold)` instellen via de functie **threshold**.\n",
    "- Alle pixels onder deze drempel krijgen een nieuwe waarde 0 (**zwart**). \n",
    "- Alle pixels boven deze drempel krijgen een nieuwe waarde 255 (**wit**)."
   ]
  },
  {
   "cell_type": "markdown",
   "id": "27c67cd5",
   "metadata": {},
   "source": [
    "#### Oefen mee 4.3"
   ]
  },
  {
   "cell_type": "markdown",
   "id": "73eb71e7",
   "metadata": {},
   "source": [
    "Run de code hieronder, je ziet nu in de matrix duidelijk de driehoek staan. Alle pixels van de driehoek hebben namelijk als waarde 0 (**zwart**). De achtergrond is volledig 255 (**wit**)\n",
    "\n",
    "- Zal de driehoek groter of kleiner worden als ... (eerst antwoorden, dan controleren) <div style=\"background-color:#008000\"> \n",
    "    - een drempelwaarde van 75 is ingesteld:  \n",
    "    - een drempelwaarde van 230 is ingesteld:   \n",
    "- Stel de drempelwaarde terug in op 127.\n",
    "</div>"
   ]
  },
  {
   "cell_type": "code",
   "execution_count": null,
   "id": "e7b09091",
   "metadata": {},
   "outputs": [],
   "source": [
    "# Afbeelding inladen (met grijswaarden).\n",
    "driehoek = cv2.imread(r\"../_afbeeldingen/driehoek.jpg\")\n",
    "driehoek_grijs = cv2.cvtColor(driehoek, cv2.COLOR_BGR2GRAY)\n",
    "\n",
    "# Drempel gebruiken om driehoek & achtergrond volledig te scheiden.\n",
    "# Alle pixels kleiner dan 127 worden 0, groter dan 127 worden 255.\n",
    "_, driehoek_drempel = cv2.threshold(driehoek_grijs, 127, 255, cv2.THRESH_BINARY)\n",
    "\n",
    "# Afbeelding & pixelwaarden tonen.\n",
    "plt_imshow(\"grijsafbeelding met drempel\", driehoek_drempel)\n",
    "print(driehoek_drempel)"
   ]
  },
  {
   "attachments": {},
   "cell_type": "markdown",
   "id": "4fc6689e",
   "metadata": {},
   "source": [
    "#### Oefen mee 4.4"
   ]
  },
  {
   "cell_type": "markdown",
   "id": "13f99cfd",
   "metadata": {},
   "source": [
    "Schrijf nu zelf een stukje code die de afbeelding `vormen.png` omzet naar grijswaarden en er vervolgens een drempelwaarde op toepast. Maak hiervoor gebruik van de voorgaande codeblokken.\n",
    "\n",
    "<div style=\"background-color:#8B0000\"> \n",
    "De matrix met pixel-waarden kan niet volledig geprint worden. Baseer je dus op de afbeelding om een correcte drempelwaarde in te stellen.\n",
    "</div>"
   ]
  },
  {
   "cell_type": "code",
   "execution_count": null,
   "id": "3d3be416",
   "metadata": {},
   "outputs": [],
   "source": [
    "# pad naar vormen.png: r\"../_afbeeldingen/vormen.png\""
   ]
  },
  {
   "attachments": {},
   "cell_type": "markdown",
   "id": "e3cc0db4",
   "metadata": {},
   "source": [
    "### 4.5 Contouren uit afbeelding halen"
   ]
  },
  {
   "cell_type": "markdown",
   "id": "2eedd30f",
   "metadata": {},
   "source": [
    "In de voorgaande stap hebben we de voorgrond (de vormen) duidelijk gescheiden van de achtergrond. De computer kan nu de contour (= rand) van iedere vorm op de afbeelding bepalen. Hiervoor wordt de functie `findcontours` gebruikt."
   ]
  },
  {
   "cell_type": "markdown",
   "id": "0f915406",
   "metadata": {},
   "source": [
    "#### Oefen mee 4.5"
   ]
  },
  {
   "cell_type": "markdown",
   "id": "b5c33be6",
   "metadata": {},
   "source": [
    "Onderstaande code zoekt de contouren in de verwerkte `driehoek.jpg`. Onderaan wordt het aantal gevonden contouren geprint.\n",
    "\n",
    "- Maak de TODO in de code af.\n",
    "- Het programma vindt 2 contouren.  <div style=\"background-color:#008000\"> \n",
    "    - Welke zijn dit?   \n",
    "</div>\n",
    "\n",
    "- Pas de code aan zodat deze de contouren van `vormen.png` bepaald. Doe dit in de tweede code-cel! <div style=\"background-color:#008000\"> \n",
    "    Hoeveel zijn dit er?   \n",
    "</div>"
   ]
  },
  {
   "cell_type": "code",
   "execution_count": null,
   "id": "00e1c055",
   "metadata": {},
   "outputs": [],
   "source": [
    "# TODO: stel driehoek_drempel op. Gebruik hiervoor code uit de vorige oefen mee.\n",
    "\n",
    "\n",
    "# Bepaal contouren van (verwerkte) afbeelding.\n",
    "contouren, _ = cv2.findContours(driehoek_drempel, cv2.RETR_TREE, cv2.CHAIN_APPROX_SIMPLE)  \n",
    "# Print aantal gevonden contouren.\n",
    "print(f\"Aantal contouren: {len(contouren)}\")\n",
    "print(contouren)"
   ]
  },
  {
   "cell_type": "code",
   "execution_count": null,
   "id": "a4669a28",
   "metadata": {},
   "outputs": [],
   "source": [
    "# TODO: detecteer hier het aantal contouren op afbeeldingen 'vormen.png'.\n",
    "# pad naar vormen.png: r\"../_afbeeldingen/vormen.png\"\n"
   ]
  },
  {
   "cell_type": "markdown",
   "id": "d750d67b",
   "metadata": {},
   "source": [
    "### 4.6 Vormen bepalen (via aantal zijden)"
   ]
  },
  {
   "attachments": {},
   "cell_type": "markdown",
   "id": "98aff73f",
   "metadata": {},
   "source": [
    "Tot slot kan functie `approxPolyDP` het aantal zijden van een contour bepalen. Via dit aantal zijden bepalen we de vorm van de contour."
   ]
  },
  {
   "cell_type": "markdown",
   "id": "8e1ff1c0",
   "metadata": {},
   "source": [
    "#### Oefen mee 4.6"
   ]
  },
  {
   "cell_type": "markdown",
   "id": "6b8ce4f5",
   "metadata": {},
   "source": [
    "Gebruik onderstaande code om de vormen in `driehoek.jpg` & `vormen.png` te printen.\n",
    "\n",
    "<div style=\"background-color:#8B0000\"> \n",
    "Herinner je dat in notebooks ingeladen code onthouden blijft. Voer de code van *oefen mee 4.5* uit. Hiermee laad je de contouren in. Voer hierna onderstaande blok uit. Deze print de gevonden vormen op de afbeelding.\n",
    "</div>\n",
    "\n",
    "- Het algoritme zal de driehoek in `driehoek.jpg` classificeren als een vijfhoek. <div style=\"background-color:#008000\"> \n",
    "    - Hoe komt dit? \n",
    "</div> "
   ]
  },
  {
   "cell_type": "code",
   "execution_count": 56,
   "id": "2a8772f1",
   "metadata": {},
   "outputs": [
    {
     "name": "stdout",
     "output_type": "stream",
     "text": [
      "Aantal zijden van vorm 1: 4\n",
      "Er staat een vierhoek op de afbeelding!\n",
      "\n",
      "Aantal zijden van vorm 1: 6\n",
      "Er staat een zeshoek op de afbeelding!\n",
      "\n",
      "Aantal zijden van vorm 1: 16\n",
      "Er staat een cirkel op de afbeelding!\n",
      "\n",
      "Aantal zijden van vorm 1: 3\n",
      "Er staat een driehoek op de afbeelding!\n",
      "\n"
     ]
    }
   ],
   "source": [
    "# Zet verschillende vormen klaar.\n",
    "soort_vorm = {0:\"cirkel\", 3: \"driehoek\", 4: \"vierhoek\", 5: \"vijfhoek\", 6: \"zeshoek\"}\n",
    "# Overloop alle contouren.\n",
    "for index, contour in enumerate(contouren): # TODO: zorg ervoor dat variabele contouren gekend is\n",
    "\n",
    "    # Sla eerste contour over (zie oefen mee 4.5 voor reden).\n",
    "    if index == 0: \n",
    "        continue\n",
    "\n",
    "    # Bepaal aantal zijden.\n",
    "    zijden = len(cv2.approxPolyDP(contour, 0.01 * cv2.arcLength(contour, True), True))\n",
    "    # Bepaal en print vorm.\n",
    "    gevonden_vorm = soort_vorm.get(zijden, \"cirkel\")\n",
    "    print(f\"Aantal zijden van vorm 1: {zijden}\")\n",
    "    print(f\"Er staat een {gevonden_vorm} op de afbeelding!\\n\")"
   ]
  },
  {
   "cell_type": "markdown",
   "id": "0319b8cc",
   "metadata": {},
   "source": [
    "## Slotresultaat"
   ]
  },
  {
   "cell_type": "markdown",
   "id": "cba8b59e",
   "metadata": {},
   "source": [
    "Het is een ding om de gevonden vormen te printen. Het is natuurlijk leuker om deze visueel te tonen. Voer onderstaande 3 code-blokken uit. De functie `bepaal_vormen` zal op basis van de gevonden contouren, de afbeelding aanpassen. Dit door kaders rond de contouren te tekenen & labels met de vormen toe te voegen."
   ]
  },
  {
   "cell_type": "code",
   "execution_count": 4,
   "id": "70701714",
   "metadata": {},
   "outputs": [],
   "source": [
    "import cv2\n",
    "from matplotlib import pyplot as plt"
   ]
  },
  {
   "cell_type": "code",
   "execution_count": 40,
   "id": "0d0e7a4f",
   "metadata": {},
   "outputs": [],
   "source": [
    "# Functie om afbeelding weer te geven.\n",
    "def plt_imshow(titel, afbeelding):\n",
    "    plt.imshow(afbeelding, cmap='Greys_r')\n",
    "    plt.title(titel)\n",
    "    plt.grid(False)\n",
    "    plt.show()\n",
    "\n",
    "# Functie om vormen te bepalen & toe te voegen aan de afbeelding.\n",
    "def bepaal_vormen(afbeelding, contouren):\n",
    "    # Zet verschillende vormen klaar.\n",
    "    soort_vorm = {0:\"cirkel\", 3: \"driehoek\", 4: \"vierhoek\", 5: \"vijfhoek\", 6: \"zeshoek\"}\n",
    "    # Overloop alle contouren.\n",
    "    for index, contour in enumerate(contouren):\n",
    "    \n",
    "        # Sla eerste contour over (zie oefen mee 4.5 voor reden).\n",
    "        if index == 0: \n",
    "            continue\n",
    "    \n",
    "        # Bepaal aantal zijden.\n",
    "        zijden = cv2.approxPolyDP(contour, 0.01 * cv2.arcLength(contour, True), True)\n",
    "        \n",
    "        # Teken vorm rond contour.\n",
    "        cv2.drawContours(afbeelding, [contour],-1, (0, 255, 0), 5)\n",
    "    \n",
    "        # zoekt centrum van contour (voor plakken van label).\n",
    "        M = cv2.moments(contour)\n",
    "        x = int(M[\"m10\"]/M[\"m00\"])-35\n",
    "        y = int(M[\"m01\"]/M[\"m00\"])\n",
    "\n",
    "        # Bepaal soort vorm op basis van aantal zijden.\n",
    "        gevonden_vorm = soort_vorm.get(len(zijden), \"cirkel\")\n",
    "\n",
    "        # zet correcte label op centrum van de vorm\n",
    "        cv2.putText(afbeelding, gevonden_vorm, (x, y), cv2.FONT_HERSHEY_SIMPLEX, 0.5, (0, 0, 0), 2)\n",
    "        \n",
    "    return afbeelding "
   ]
  },
  {
   "cell_type": "code",
   "execution_count": 57,
   "id": "2d2d8658",
   "metadata": {},
   "outputs": [
    {
     "data": {
      "image/png": "[encoded data removed]",
      "text/plain": [
       "<Figure size 640x480 with 1 Axes>"
      ]
     },
     "metadata": {},
     "output_type": "display_data"
    }
   ],
   "source": [
    "# Afbeelding inladen (met grijswaarden).\n",
    "vormen = cv2.imread(r\"../_afbeeldingen/vormen.png\")\n",
    "vormen_grijs = cv2.cvtColor(vormen, cv2.COLOR_BGR2GRAY)\n",
    "\n",
    "# Drempel gebruiken om driehoek & achtergrond volledig te scheiden.\n",
    "# Alle pixels kleiner dan 127 worden 0, groter dan 127 worden 255.\n",
    "_, vormen_drempel = cv2.threshold(vormen_grijs, 127, 255, cv2.THRESH_BINARY)\n",
    "\n",
    "contouren, _ = cv2.findContours(vormen_drempel, cv2.RETR_TREE, cv2.CHAIN_APPROX_SIMPLE)  \n",
    "vormen_resultaat = bepaal_vormen(vormen, contouren) # !!! Merk op: voegt gevonden vormen toe aan originele afbeelding !!! \n",
    "\n",
    "plt_imshow(\"Vormen gevonden\", vormen_resultaat)"
   ]
  },
  {
   "cell_type": "markdown",
   "id": "72c4331f",
   "metadata": {},
   "source": [
    "<div style=\"background-color:#8B8000\"> \n",
    "Probeer bovenstaande code om te vormen zodat deze <b>driehoek.jpg</b> gebruikt (Tip! wijzig het pad). Het resultaat zal er niet fantastisch uit zien. Hoe kan dit komen? \n",
    "</div>"
   ]
  },
  {
   "attachments": {},
   "cell_type": "markdown",
   "id": "749c5e6b",
   "metadata": {},
   "source": [
    "#\n",
    "  <a href=\"https://www.aiopschool.be/chatbot/\"> \n",
    "        <img src=\"../_afbeeldingen/bannerugentdwengo.png\" alt=\"Dwengo\" style =\"display: block; margin-left: auto; margin-right: auto; margin-bottom: 30px; width:20%\"/>\n",
    "    </a>\n",
    "\n",
    "Deze Notebook is gebaseerd op: Notebook AI in de Landbouw, zie <a href=\"http://www.aiopschool.be\">AI Op School</a>, van S. Pletinck , F. wyffels & N. Gesquière is in licentie gegeven volgens een <a href=\"http://creativecommons.org/licenses/by-nc-sa/4.0/\">Creative Commons Naamsvermelding-NietCommercieel-GelijkDelen 4.0 Internationaal-licentie</a>. "
   ]
  }
 ],
 "metadata": {
  "kernelspec": {
   "display_name": "prog4",
   "language": "python",
   "name": "prog4"
  },
  "language_info": {
   "codemirror_mode": {
    "name": "ipython",
    "version": 3
   },
   "file_extension": ".py",
   "mimetype": "text/x-python",
   "name": "python",
   "nbconvert_exporter": "python",
   "pygments_lexer": "ipython3",
   "version": "3.11.4"
  }
 },
 "nbformat": 4,
 "nbformat_minor": 5
}
