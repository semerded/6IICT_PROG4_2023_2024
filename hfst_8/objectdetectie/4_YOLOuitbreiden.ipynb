{
 "cells": [
  {
   "cell_type": "markdown",
   "metadata": {},
   "source": [
    "<div style=\"margin-bottom:-35px;\">\n",
    "    <font color=#FFFFFF markdown=\"1\">\n",
    "        <h1> <center> Gebaseerd op een cursus van:</center> </h1> \n",
    "    </font>\n",
    "    <a href=\"https://www.aiopschool.be/chatbot/\"> \n",
    "        <img src=\"../_afbeeldingen/bannerugentdwengo.png\" alt=\"Dwengo\" style =\"display: block; margin-left: auto; margin-right: auto; margin-bottom: 30px; width:20%\"/>\n",
    "    </a>\n",
    "</div>"
   ]
  },
  {
   "cell_type": "markdown",
   "metadata": {},
   "source": [
    "# Toepassing: YOLO-model uitbreiden"
   ]
  },
  {
   "cell_type": "markdown",
   "metadata": {},
   "source": [
    "## 1. Algemene info"
   ]
  },
  {
   "cell_type": "markdown",
   "metadata": {},
   "source": [
    "### 1.1 Modules installeren"
   ]
  },
  {
   "cell_type": "markdown",
   "metadata": {},
   "source": [
    "Voer onderstaande code-cel uit. Deze bevat de modules noodzakelijk voor deze notebook. Dit is een eenmalige actie."
   ]
  },
  {
   "cell_type": "markdown",
   "metadata": {},
   "source": [
    "<div style=\"background-color:#8B0000\"> \n",
    "Controleert eerst dat deze notebook gebruik maakt van een venv. Vraag indien nodig aan de leerkracht om dit te controleren.</div>"
   ]
  },
  {
   "cell_type": "code",
   "execution_count": null,
   "metadata": {},
   "outputs": [],
   "source": [
    "# installeren van module opencv\n",
    "%pip install opencv-python\n",
    "# installeren van module matplotlib\n",
    "%pip install matplotlib"
   ]
  },
  {
   "cell_type": "markdown",
   "metadata": {},
   "source": [
    "<div style=\"background-color:#000065\"> \n",
    "Tijdens deze notebook zal je gebruik maken van twee modules. OpenCV-Python maakt het mogelijk om afbeelding/video te laden & verwerken. Via matplotlib tonen we afbeeldingen in de notebook.\n",
    "</div>"
   ]
  },
  {
   "cell_type": "markdown",
   "metadata": {},
   "source": [
    "### 1.2 Waarom YOLO-model uitbreiden?"
   ]
  },
  {
   "cell_type": "markdown",
   "metadata": {},
   "source": [
    "<div style=\"background-color:#8B8000\">\n",
    "Er zijn twee redenen om het YOLO-model uit te breiden...\n",
    "  <ul> \n",
    "    <li>Een nieuw object toevoegen om te detecteren.</li> \n",
    "    <li>De detectie-accuraatheid van een bestaand object verhogen voor jouw situatie.</li>\n",
    "  </ul>\n",
    "</div>\n",
    "\n",
    "Een eigen dataset opstellen kan door zelf veel verschillende foto's te nemen... Maar honderden (laat staan duizenden) foto's zelf maken is veel werk. Je kan ook een kleiner aantal foto's maken en deze manipuleren.  Door de afbeelding te transformeren, bijvoorbeeld door uitrekking, bijsnijden of het gebruik van een filter, ontstaan er heel wat nieuwe inputafbeeldingen. Onderzoek heeft aangetoond dat deze vervormde afbeeldingen net zo nuttig zijn voor het trainen als echte afbeelding. Onderstaand diagram toont dit proces. In deze notebook verdiep je je in deze materie. <br><br>\n",
    "<figure>\n",
    "  <img src=\"../_afbeeldingen/filters.jpg\" alt=\"Trulli\" style =\"display: block; margin-left: auto; margin-right: auto; margin-bottom: 30px; width:50%\"/>\n",
    "    <br>\n",
    "</figure>\n"
   ]
  },
  {
   "cell_type": "markdown",
   "metadata": {},
   "source": [
    "## 2. Afbeeldingen manipuleren"
   ]
  },
  {
   "cell_type": "markdown",
   "metadata": {},
   "source": [
    "### 2.1 Modules importeren & functies/variabelen klaarzetten "
   ]
  },
  {
   "cell_type": "markdown",
   "metadata": {},
   "source": [
    "Importeer de modules `cv2` & `matplotlib`."
   ]
  },
  {
   "cell_type": "code",
   "execution_count": null,
   "metadata": {},
   "outputs": [],
   "source": [
    "import cv2\n",
    "from matplotlib import pyplot as plt"
   ]
  },
  {
   "cell_type": "markdown",
   "metadata": {},
   "source": [
    "Tenslotte Voer je onderstaande cel uit om de functie `plt_imshow` aan te maken. Deze functie toont de (verwerkte) afbeelding met `matplotlib`.\n",
    "<div style=\"background-color:#8B8000\"> \n",
    "Merk op dat deze functie reeds gebruikt is in notebook <b>1_vormdetectie.ipynb</b>.\n",
    "</div>"
   ]
  },
  {
   "cell_type": "code",
   "execution_count": null,
   "metadata": {},
   "outputs": [],
   "source": [
    "# Functie om afbeelding weer te geven.\n",
    "def plt_imshow(titel, afbeelding):\n",
    "    plt.imshow(afbeelding, cmap='Greys_r')\n",
    "    plt.title(titel)\n",
    "    plt.grid(False)\n",
    "    plt.show()"
   ]
  },
  {
   "cell_type": "markdown",
   "metadata": {},
   "source": [
    "We zullen tijdens deze notebook de afbeelding van een tomaat manipuleren. Voer onderstaande code-cel uit om de originele afbeelding in te laden."
   ]
  },
  {
   "cell_type": "code",
   "execution_count": null,
   "metadata": {},
   "outputs": [],
   "source": [
    "# Let op het pad!\n",
    "tomaat = cv2.imread(\"../_afbeeldingen/tomaat.jpg\")\n",
    "tomaat = cv2.cvtColor(tomaat, cv2.COLOR_BGR2RGB)\n",
    "\n",
    "plt_imshow(\"Originele afbeelding\", tomaat)"
   ]
  },
  {
   "cell_type": "markdown",
   "metadata": {},
   "source": [
    "### 2.2 Afbeelding roteren"
   ]
  },
  {
   "cell_type": "markdown",
   "metadata": {},
   "source": [
    "Je zou misschien verwachten dat `machine learning` (en dus ook `deep learning` ) gemakkelijk twee identieke afbeeldingen kan onderscheiden. Ook al zijn ze gedraaid ten opzichte van de andere. Dit is echter niet zo! Herinner je dat een computer een afbeelding ziet als een hoop pixels. Door een foto te roteren, verandert de volgorde van de pixels. De computer ziet dus als het ware een compleet nieuwe afbeelding.\n",
    "\n",
    "Het model moet tomaten herkennen die in alle hoeken geroteerd zijn. Dit aangezien op een transportband de tomaten in alle richtingen kunnen liggen. Het is mogelijk om een hoop foto's te nemen van een tomaat onder verschillende hoeken. Via cv2 is dit echter heel wat makkelijker."
   ]
  },
  {
   "cell_type": "code",
   "execution_count": null,
   "metadata": {},
   "outputs": [],
   "source": [
    "tomaat_rot = cv2.rotate(tomaat, cv2.ROTATE_90_CLOCKWISE)\n",
    "plt_imshow(\"Gedraaide afbeelding\", tomaat_rot)"
   ]
  },
  {
   "cell_type": "markdown",
   "metadata": {},
   "source": [
    "#### Oefen mee 2.1"
   ]
  },
  {
   "cell_type": "markdown",
   "metadata": {},
   "source": [
    "Roteer de afbeelding op de volgende manieren (en toon deze afbeelding):\n",
    "- 180 graden.\n",
    "- 90 graden (tegen de klok in)."
   ]
  },
  {
   "cell_type": "markdown",
   "metadata": {},
   "source": [
    "<div style=\"background-color:#8B0000\"> \n",
    "Overschrijf de variabele <b>tomaat</b> NIET. Je hebt deze nog nodig voor volgende oefen mee. Maak bijvoorbeeld een variabele <b>tomaat_rot180</b> aan.\n",
    "</div>"
   ]
  },
  {
   "cell_type": "code",
   "execution_count": null,
   "metadata": {},
   "outputs": [],
   "source": [
    "# Roteer tomaat 180° & tegen de klok in 90°."
   ]
  },
  {
   "cell_type": "markdown",
   "metadata": {},
   "source": [
    "### 2.3 Afbeelding spiegelen"
   ]
  },
  {
   "cell_type": "markdown",
   "metadata": {},
   "source": [
    "Net zoals geroteerde foto's door `deep learning` niet herkend worden. Zal het spiegelen van foto's ook een **\"compleet nieuwe\"** beeld geven voor het algoritme."
   ]
  },
  {
   "cell_type": "code",
   "execution_count": null,
   "metadata": {},
   "outputs": [],
   "source": [
    "# 1 = horizontaal spiegelen\n",
    "flippedtomaat = cv2.flip(tomaat, 1)\n",
    "plt_imshow(\"Horizontaal gespiegeld\", flippedtomaat)"
   ]
  },
  {
   "cell_type": "code",
   "execution_count": null,
   "metadata": {},
   "outputs": [],
   "source": [
    "# 0 = verticaal spiegelen\n",
    "flippedtomaat2 = cv2.flip(tomaat, 0)\n",
    "plt_imshow(\"Verticaal gespiegeld\", flippedtomaat2)"
   ]
  },
  {
   "cell_type": "markdown",
   "metadata": {},
   "source": [
    "#### Oefen mee 2.2"
   ]
  },
  {
   "cell_type": "markdown",
   "metadata": {},
   "source": [
    "spiegel de foto zowel horizontaal als verticaal (en toon deze afbeelding).\n",
    "<div style=\"background-color:#8B0000\"> \n",
    "Overschrijf de variabele <b>tomaat</b> NIET. Je hebt deze nog nodig voor volgende oefen mee. Maak bijvoorbeeld een variabele <b>tomaat_flipped</b> aan.\n",
    "</div>"
   ]
  },
  {
   "cell_type": "code",
   "execution_count": null,
   "metadata": {},
   "outputs": [],
   "source": [
    "# Spiegel verticaal en horizontaal (zoek zelf op hoe OF denk logisch na)."
   ]
  },
  {
   "cell_type": "markdown",
   "metadata": {},
   "source": [
    "### 2.4 Afbeelding bijsnijden"
   ]
  },
  {
   "cell_type": "markdown",
   "metadata": {},
   "source": [
    "Ook het bijsnijden van de afbeelding heeft een effect. Zo leert het model dat de afbeelding niet altijd mooi in het midden ligt of volledig zichtbaar moet zijn. Bijvoorbeeld wanneer de tomaten nog maar net op de transportband liggen."
   ]
  },
  {
   "cell_type": "code",
   "execution_count": null,
   "metadata": {},
   "outputs": [],
   "source": [
    "# Bijsnijden van afbeelding\n",
    "# neemt foto van y tot y+h en x tot x+w\n",
    "y = 0\n",
    "x = 0\n",
    "h = 3000\n",
    "w = 2000\n",
    "tomaat_crop = tomaat[y:y+h, x:x+w]\n",
    "plt_imshow(\"Bijgesneden afbeelding\", tomaat_crop)"
   ]
  },
  {
   "cell_type": "markdown",
   "metadata": {},
   "source": [
    "#### Oefen mee 2.3\n",
    "- Bijsnijden kan ook negatieve gevolgen hebben voor de training van het model.  <div style=\"background-color:#008000\">\n",
    "    - Hoe komt dit?\n",
    "</div>\n",
    "\n",
    "- Schrijf een stukje code dat dit probleem uitlegt met behulp van de foto *tomaat*: \n",
    "\n",
    "<div style=\"background-color:#8B0000\"> \n",
    "Overschrijf de variabele <b>tomaat</b> NIET. Je hebt deze nog nodig voor volgende oefen mee. Maak bijvoorbeeld een variabele <b>tomaat_crop</b> aan.\n",
    "</div>"
   ]
  },
  {
   "cell_type": "code",
   "execution_count": null,
   "metadata": {},
   "outputs": [],
   "source": [
    "# Programmeer voorbeeld van probleem met bijsnijden"
   ]
  },
  {
   "cell_type": "markdown",
   "metadata": {},
   "source": [
    "### 2.5 Filters"
   ]
  },
  {
   "cell_type": "markdown",
   "metadata": {},
   "source": [
    "Naast deze basis-aanpassingen kan je ook filters aanbrengen. Dit is net hetzelfde als bij Instagram: een foto kan er heel anders uitzien met een andere filter. Er zijn standaard filters beschikbaar in `cv2`. Maar je kan ook je eigen opstellen (zie **Filter 4**)."
   ]
  },
  {
   "cell_type": "code",
   "execution_count": null,
   "metadata": {},
   "outputs": [],
   "source": [
    "# Zet foto om naar HSV-domein, blijf wel RGB-waarden gebruiken.\n",
    "tomaat_filter1 = cv2.cvtColor(tomaat, cv2.COLOR_RGB2HSV)  \n",
    "# Zet foto om naar grijs-domein, op basis van gemiddelde RGB-waarde.\n",
    "tomaat_filter2 = cv2.cvtColor(tomaat, cv2.COLOR_RGB2GRAY)\n",
    "# Zet foto om naar LAB-domein, blijf wel RGB-waarden gebruiken.   \n",
    "tomaat_filter3 = cv2.cvtColor(tomaat, cv2.COLOR_RGB2LAB)\n",
    "plt_imshow(\"Filter 1\", tomaat_filter1) \n",
    "plt_imshow(\"Filter 2\", tomaat_filter2)\n",
    "plt_imshow(\"Filter 3\", tomaat_filter3)\n",
    "\n",
    "r, g, b = cv2.split(tomaat)\n",
    "tomaat_filter4 = cv2.merge([g, r, b]) # Wissel de rood en groen waarden van de foto om.\n",
    "plt_imshow(\"Filter 4\", tomaat_filter4)"
   ]
  },
  {
   "cell_type": "markdown",
   "metadata": {},
   "source": [
    "#### Oefen mee 2.4"
   ]
  },
  {
   "cell_type": "markdown",
   "metadata": {},
   "source": [
    "- Waarom zou het gebruik van filters interessant kunnen zijn bij de trainingsset van het algoritme? <div style=\"background-color:#008000\">\n",
    "    - Antwoord: \n",
    "</div>\n",
    "\n",
    "- Zorg ervoor dat de tomaat een blauwe filter krijgt (en toon deze afbeelding).\n",
    "\n",
    "<div style=\"background-color:#8B0000\"> \n",
    "Overschrijf de variabele <b>tomaat</b> NIET. Je hebt deze nog nodig voor volgende oefen mee. Maak bijvoorbeeld een variabele <b>tomaat_blue</b> aan.\n",
    "</div>"
   ]
  },
  {
   "cell_type": "code",
   "execution_count": null,
   "metadata": {},
   "outputs": [],
   "source": [
    "# Voeg een filter toe zodat de tomaat er blauw uitziet (in plaats van rood)."
   ]
  },
  {
   "cell_type": "markdown",
   "metadata": {},
   "source": [
    "### 2.6 Afbeelding wazig maken (speciale filter)"
   ]
  },
  {
   "cell_type": "markdown",
   "metadata": {},
   "source": [
    "Om ervoor te zorgen dat het algoritme ook in niet ideale omstandigheden werkt, kan je een filter toepassen die de afbeelding wazig maakt. Zo zorg je ervoor dat een object ook gedetecteerd wordt als het beeld niet optimaal is. Er zijn verschillende redenen waarom dit handig is.\n",
    "\n",
    " - De tomaten bewegen over de transportband. Deze beweging kan tot wazige beelden leiden.\n",
    " - Ook als de transportband in een andere ruimte wordt geplaatst waar de lichtinval een beetje anders is, moet het algoritme zijn werk kunnen doen. \n",
    " \n",
    "`cv2` bezit een aantal manieren om afbeeldingen wazig te maken (dit zijn eigenlijk ook een soort filters). De meest eenvoudige is **blur**. "
   ]
  },
  {
   "cell_type": "code",
   "execution_count": null,
   "metadata": {},
   "outputs": [],
   "source": [
    "# Maak afbeelding wazig (tweede argument bepaald hoe wazig).\n",
    "tomaten_wazig = cv2.blur(tomaat, (35,35))\n",
    "plt_imshow(\"Geblurde afbeelding\", tomaten_wazig)"
   ]
  },
  {
   "cell_type": "markdown",
   "metadata": {},
   "source": [
    "#### Oefen mee 2.5"
   ]
  },
  {
   "cell_type": "markdown",
   "metadata": {},
   "source": [
    "- Wijzig het tweede argument in bovenstaande code. Hoe verandert de filter bij... <div style=\"background-color:#008000\">\n",
    "    - (0,0):\n",
    "    - (200,200):\n",
    "    - (200,0):\n",
    "    - (0,200):\n",
    "</div>"
   ]
  },
  {
   "cell_type": "markdown",
   "metadata": {},
   "source": [
    "## 3. Afbeeldingen overlopen"
   ]
  },
  {
   "cell_type": "markdown",
   "metadata": {},
   "source": [
    "In dit deel bekijken we hoe automatisch alle afbeeldingen in een folder te overlopen & opslaan. Dit zodat we een script kunnen opstellen om de gemaakte 10 foto's eenvoudig te manipuleren."
   ]
  },
  {
   "cell_type": "markdown",
   "metadata": {},
   "source": [
    "### 3.1 Modules inladen"
   ]
  },
  {
   "cell_type": "markdown",
   "metadata": {},
   "source": [
    "Importeer de modules `cv2` & `os`."
   ]
  },
  {
   "cell_type": "code",
   "execution_count": null,
   "metadata": {},
   "outputs": [],
   "source": [
    "import cv2\n",
    "import os"
   ]
  },
  {
   "cell_type": "markdown",
   "metadata": {},
   "source": [
    "### 3.2 Afbeelding opslaan"
   ]
  },
  {
   "cell_type": "markdown",
   "metadata": {},
   "source": [
    "Na een afbeelding te manipuleren, willen we deze natuurlijk ook opslaan (hoe kunnen we anders het model ermee trainen). Dit kan via de `cv2` functie `imwrite`."
   ]
  },
  {
   "cell_type": "code",
   "execution_count": null,
   "metadata": {},
   "outputs": [],
   "source": [
    "# Inlezen afbeelding\n",
    "tomaat = cv2.imread(r\"../_afbeeldingen/tomaat.jpg\")\n",
    "\n",
    "# Roteren afbeelding\n",
    "tomaat_rot = cv2.rotate(tomaat, cv2.ROTATE_180)\n",
    "\n",
    "# Opslaan van geroteerde afbeelding in tomaat_rot180.jpg (Geef een unieke filename!)\n",
    "cv2.imwrite(filename='tomaat_rot180.jpg', img=tomaat_rot)"
   ]
  },
  {
   "cell_type": "markdown",
   "metadata": {},
   "source": [
    "De foto **tomaat_rot180.jpg** is nu aangemaakt op de locatie van de notebook. Je kan het pad (van de parameter **filename**) echter uitbreiden om deze op een andere locatie te zetten. Dit werkt hetzelfde als CSV- en JSON-bestanden. "
   ]
  },
  {
   "cell_type": "markdown",
   "metadata": {},
   "source": [
    "#### Oefen mee 3.1\n"
   ]
  },
  {
   "cell_type": "markdown",
   "metadata": {},
   "source": [
    "- Vul onderstaand code-blok aan. Sla en gemanipuleerde versie van `tomaat.jpg` op in de map `YOLOdataset`."
   ]
  },
  {
   "cell_type": "code",
   "execution_count": null,
   "metadata": {},
   "outputs": [],
   "source": [
    "# Inlezen afbeelding\n",
    "tomaat = cv2.imread(r\"../_afbeeldingen/tomaat.jpg\")\n",
    "\n",
    "# Sla een gemanipuleerde versie van tomaat.jpg op in submap _YOLOdataset.\n",
    "\n"
   ]
  },
  {
   "cell_type": "markdown",
   "metadata": {},
   "source": [
    "### 3.3 Alle afbeeldingen in een folder overlopen"
   ]
  },
  {
   "cell_type": "markdown",
   "metadata": {},
   "source": [
    "We willen liefst alle bestanden in een keer manipuleren en opslaan. Alle afbeeldingen uit een folder halen kan als volgt."
   ]
  },
  {
   "cell_type": "code",
   "execution_count": null,
   "metadata": {},
   "outputs": [],
   "source": [
    "# Inladen alle bestanden in deze folder.\n",
    "folder_pad    = r\"../_afbeeldingen\"\n",
    "folder_inhoud = os.listdir(folder_pad) \n",
    "\n",
    "# Overloop alle afbeeldingen in folder.\n",
    "teller = 0\n",
    "for index, bestand in enumerate(folder_inhoud):\n",
    "    if (\".png\" in bestand) or (\".jpg\" in bestand): # We werken enkel met png- of jpg-bestanden.\n",
    "        teller = teller + 1\n",
    "        print(f\"Bestand {teller}: {bestand}\")"
   ]
  },
  {
   "cell_type": "markdown",
   "metadata": {},
   "source": [
    "#### Oefen mee 3.2"
   ]
  },
  {
   "cell_type": "markdown",
   "metadata": {},
   "source": [
    "- Overloop in bovesntaande cel alle afbeeldingen in de map `YOLOdataset`."
   ]
  },
  {
   "cell_type": "markdown",
   "metadata": {},
   "source": [
    "### 3.4 Alle afbeeldingen in een folder verwerken/opslaan"
   ]
  },
  {
   "cell_type": "markdown",
   "metadata": {},
   "source": [
    "De volgende stap is natuurlijk om iedere afbeelding in de map te verwerken..."
   ]
  },
  {
   "cell_type": "markdown",
   "metadata": {},
   "source": [
    "#### Oefen mee 3.3"
   ]
  },
  {
   "cell_type": "markdown",
   "metadata": {},
   "source": [
    "Vertrek van onderstaande code.\n",
    "\n",
    "- Overloop iedere afbeelding in `YOLOdataset` door gebruik te maken van <b>os.listdir</b>.\n",
    "    1. Roteer iedere afbeelding 270° (90° tegen de klok in) en sla op als *naam_rot_extensie*.\n",
    "    2. Spiegel iedere afbeelding verticaal en sla op als *naam_flip_extensie*.\n",
    "    3. Filter iedere afbeelding met blur en sla op als *naam_blur_extensie*.\n",
    "\n",
    "- Als voorbeeld voor test_afb_1.png. Na het uitvoeren van de code moeten volgende bestanden ook in `YOLOdataset` staan.\n",
    "    - *test_afb1_rot_.png*\n",
    "    - *test_afb1_flip_.png*\n",
    "    - *test_afb1_blur_.png*"
   ]
  },
  {
   "cell_type": "code",
   "execution_count": null,
   "metadata": {},
   "outputs": [],
   "source": [
    "# Inladen alle bestanden in deze folder.\n",
    "folder_pad    = r\"_YOLOdataset\"\n",
    "folder_inhoud = os.listdir(folder_pad) \n",
    "\n",
    "# Overloop alle afbeeldingen in folder.\n",
    "for index, bestand in enumerate(folder_inhoud):\n",
    "    if (\".png\" in bestand) or (\".jpg\" in bestand): # We werken enkel met png- of jpg-bestanden.\n",
    "        \n",
    "        # Inladen afbeelding\n",
    "        bestand_pad    = f\"{folder_pad}/{bestand}\"\n",
    "        naam, extensie = os.path.splitext(bestand)\n",
    "        afbeelding     = cv2.imread(bestand_pad) \n",
    "\n",
    "        # Roteer afbeelding + opslaan.\n",
    "\n",
    "        # Spiegel afbeelding + opslaan.\n",
    "\n",
    "        # Filter afbeelding (liefst wazig maken) + opslaan.\n",
    "\n"
   ]
  },
  {
   "cell_type": "markdown",
   "metadata": {},
   "source": [
    "## 4. Eigen dataset uitbreiden"
   ]
  },
  {
   "cell_type": "markdown",
   "metadata": {},
   "source": [
    "Vooraleer verder te gaan. Voer volgende stappen uit.\n",
    "<ul>\n",
    "    <li>Maak de map <b>YOLOdataset</b> volledig leeg.</li>\n",
    "    <li>Zet alle afbeeldingen van *gekozen_object* in deze map.</li>\n",
    "    <li>Wijzig de namen van alle afbeeldingen naar: *gekozen_object*_*naamleerling*_*nummer*.</li>\n",
    "    <li>Maak in de map <b>YOLOdataset</b> ook een submap <b>verwerkt</b> aan.</li>\n",
    "</ul>"
   ]
  },
  {
   "cell_type": "markdown",
   "metadata": {},
   "source": [
    "<div style=\"background-color:#8B0000\"> \n",
    "Vooraleer verder te gaan, vraag na of de namen van deze afbeeldingen correct zijn.\n",
    "</div>"
   ]
  },
  {
   "cell_type": "markdown",
   "metadata": {},
   "source": [
    "Neem de code uit `oefen mee 3.3` hier onder over. Breng volgende wijzingen aan.\n",
    "- Overloop alle afbeeldingen in de map **YOLOdataset**.\n",
    "- Pas aan op welke manier de foto's verwerkt worden. dit zodat niet iedereen op dezelfde wijze afbeeldingen roteert/spiegelt/filtert. Meer specifiek betekent dit...\n",
    "    - Wijzig hoeveel de afbeelding roteert.\n",
    "    - Wijzig hoe afbeelding spiegelt.\n",
    "    - Wijzig de filter (liefst spelen met hoe wazig de afbeelding wordt gemaakt).\n",
    "- Sla alle verwerkte afbeeldingen op in de submap **verwerkt**.\n",
    "\n",
    "\n",
    "Controleer of de afbeeldingen in de submap **verwerkt** correct zijn gemanipuleerd. Indien dit het geval is, mag je deze naar de hoofdmap **YOLOdataset** verplaatsen. "
   ]
  },
  {
   "cell_type": "markdown",
   "metadata": {},
   "source": [
    "<div style=\"background-color:#8B0000\"> \n",
    "Op het einde van dit deel moet je voor iedere originele afbeelding, drie verwerkte afbeeldingen hebben. Een geroteerd, een gespiegeld en een gefilterd (liefst blur). Vraag na of de bekomen afbeeldingen in orde zijn!\n",
    "</div>"
   ]
  },
  {
   "cell_type": "code",
   "execution_count": null,
   "metadata": {},
   "outputs": [],
   "source": [
    "# Plaats hier code uit oefen mee 3.3 en wijzig per instructies."
   ]
  },
  {
   "cell_type": "markdown",
   "metadata": {},
   "source": [
    "<div style=\"background-color:#8B8000\"> \n",
    "Je bent nu klaar voor de volgende stap. Het labellen! \n",
    "</div>"
   ]
  },
  {
   "cell_type": "markdown",
   "metadata": {},
   "source": [
    "#\n",
    "  <a href=\"https://www.aiopschool.be/chatbot/\"> \n",
    "        <img src=\"../_afbeeldingen/bannerugentdwengo.png\" alt=\"Dwengo\" style =\"display: block; margin-left: auto; margin-right: auto; margin-bottom: 30px; width:20%\"/>\n",
    "    </a>\n",
    "\n",
    "Deze Notebook is gebaseerd op: Notebook AI in de Landbouw, zie <a href=\"http://www.aiopschool.be\">AI Op School</a>, van S. Pletinck , F. wyffels & N. Gesquière is in licentie gegeven volgens een <a href=\"http://creativecommons.org/licenses/by-nc-sa/4.0/\">Creative Commons Naamsvermelding-NietCommercieel-GelijkDelen 4.0 Internationaal-licentie</a>. "
   ]
  }
 ],
 "metadata": {
  "kernelspec": {
   "display_name": "prog4",
   "language": "python",
   "name": "prog4"
  },
  "language_info": {
   "codemirror_mode": {
    "name": "ipython",
    "version": 3
   },
   "file_extension": ".py",
   "mimetype": "text/x-python",
   "name": "python",
   "nbconvert_exporter": "python",
   "pygments_lexer": "ipython3",
   "version": "3.11.4"
  }
 },
 "nbformat": 4,
 "nbformat_minor": 2
}
