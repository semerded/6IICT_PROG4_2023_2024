{
 "cells": [
  {
   "attachments": {},
   "cell_type": "markdown",
   "metadata": {},
   "source": [
    "<div style=\"margin-bottom:-35px;\">\n",
    "    <font color=#FFFFFF markdown=\"1\">\n",
    "        <h1> <center> Gebaseerd op een cursus van:</center> </h1> \n",
    "    </font>\n",
    "    <a href=\"https://www.aiopschool.be/chatbot/\"> \n",
    "        <img src=\"../_afbeeldingen/bannerugentdwengo.png\" alt=\"Dwengo\" style =\"display: block; margin-left: auto; margin-right: auto; margin-bottom: 30px; width:20%\"/>\n",
    "    </a>\n",
    "</div>"
   ]
  },
  {
   "cell_type": "markdown",
   "metadata": {},
   "source": [
    "# Toepassing: Real-Time Objectdetectie"
   ]
  },
  {
   "attachments": {},
   "cell_type": "markdown",
   "metadata": {},
   "source": [
    "<div style=\"background-color:#8B8000\">\n",
    "In deze Notebook probeer je YOLO in het echt uit. Er wordt ook (opnieuw) gewezen op het belang van goede trainingsdata. \n",
    "</div>"
   ]
  },
  {
   "attachments": {},
   "cell_type": "markdown",
   "metadata": {},
   "source": [
    "## 1. Belang van een goede dataset"
   ]
  },
  {
   "attachments": {},
   "cell_type": "markdown",
   "metadata": {},
   "source": [
    "Er is altijd een `dataset` (trainingsdata) nodig waarop het model getraind wordt. Deze dataset is essentieel voor een goed werkend model; het model haalt uit de datatset info om objecten te herkennen. De dataset moet dus nauwkeurig samengesteld worden, want een `ongevarieerde dataset kan leiden tot fouten bij het herkennen van de objecten.`"
   ]
  },
  {
   "attachments": {},
   "cell_type": "markdown",
   "metadata": {},
   "source": [
    "<div style=\"background-color:#8B8000\">\n",
    "Zo werd er een model getraind dat een wolf van een husky kon onderscheiden.\n",
    "Hoewel wolven en huskies op elkaar lijken, leek het algoritme toch een 90 % nauwkeurigheid te hebben. Tot er een foto van een wolf met sneeuw op de achtergrond werd gebruikt en het algoritme hem classificeerde als husky. Al snel werd duidelijk dat het algoritme zo een goede resultaten haalde, omdat het zich baseerde op de achtergrond. Er werd dus een <b>sneeuwdetector</b> gemaakt in de plaats van een <b>husky versus wolf detector</b>.<br><br>\n",
    "    <figure>\n",
    "  <img src=\"../_afbeeldingen/wolfhusky.jpg\" style =\"display: block; margin-left: auto; margin-right: auto; margin-bottom: 30px; width:60%\"/>\n",
    "    </figure>\n",
    "\n",
    "Om zulke fouten te vermijden heb je een gevarieerde dataset nodig. Waar objecten op zoveel mogelijk verschillende plaatsen en achtergronden voorkomen. Bij de training van het YOLO-model werden al heel wat van die gevarieerde datasets gebruikt. Toch is YOLO verre van perfect (zoals gezien in de vorige Notebook).\n",
    "</div>"
   ]
  },
  {
   "cell_type": "markdown",
   "metadata": {},
   "source": [
    "## 2. Camera gebruiken"
   ]
  },
  {
   "cell_type": "markdown",
   "metadata": {},
   "source": [
    "Je zal met een camera objecten in beeld brengen en deze objecten laten detecteren en classificeren met behulp van het YOLO-algoritme. Je kan hiervoor de webcam van je laptop gebruiken of de camera van een smartphone."
   ]
  },
  {
   "cell_type": "markdown",
   "metadata": {},
   "source": [
    "### 2.1 Laptopcamera"
   ]
  },
  {
   "cell_type": "markdown",
   "metadata": {},
   "source": [
    "Hiervoor hoef je niets te installeren. Ga verder naar <b>3. Objectherkenning van foto</b></a>."
   ]
  },
  {
   "cell_type": "markdown",
   "metadata": {},
   "source": [
    "### 2.2 Smartphonecamera"
   ]
  },
  {
   "cell_type": "markdown",
   "metadata": {},
   "source": [
    "Je kan gebruikmaken van de camera op je smartphone via de app `droidcam`. Volg deze stappen.\n",
    "- Installeer eerst de app op de smartphone via de appstore. \n",
    "- Installer vervolgens [droidcam client](https://droidcam-client.en.uptodown.com/windows/download) op de computer.\n",
    "\n"
   ]
  },
  {
   "cell_type": "markdown",
   "metadata": {},
   "source": [
    "Na beide zaken te installeren, open je `droidcam` op zowel je smartphone als computer. Op de computer krijg je volgend scherm te zien.\n",
    "<figure>\n",
    "  <img src=\"../_afbeeldingen/droidcam.jpg\" style =\"display: block; margin-left: auto; margin-right: auto; margin-bottom: 30px; width:15%\">\n",
    "</figure>\n",
    "\n",
    "Vul <b>IP en poort</b> in (zie smartphone app) en klik op 'Start'. De camera van je smartphone is nu zichtbaar op de computer."
   ]
  },
  {
   "cell_type": "markdown",
   "metadata": {},
   "source": [
    "<div style=\"background-color:#8B0000\"> \n",
    "Om de smartphone en laptop te verbinden, moeten de twee op hetzelfde (WIFI-)netwerk zijn aangesloten. Vraag hulp indien het verbinden niet lukt.\n",
    "</div>"
   ]
  },
  {
   "cell_type": "markdown",
   "metadata": {},
   "source": [
    "## 3. Objectherkenning van foto"
   ]
  },
  {
   "cell_type": "markdown",
   "metadata": {},
   "source": [
    "In dit deel gebruiken we de camera om foto's te trekken. Vervolgens gebruiken we YOLO om deze foto's te analyseren."
   ]
  },
  {
   "cell_type": "markdown",
   "metadata": {},
   "source": [
    "### 3.1 Modules importeren"
   ]
  },
  {
   "cell_type": "markdown",
   "metadata": {},
   "source": [
    "We importeren een aantal zaken uit de bijgeleverde bestanden `camera.py` & `detectie.py`.\n",
    "<div style=\"background-color:#8B0000\"> \n",
    "Wil je een project maken waarvoor een camera nodig is? Dan kan je je laten inspireren door de code in <b>camera.py</b>.\n",
    "</div>"
   ]
  },
  {
   "cell_type": "code",
   "execution_count": null,
   "metadata": {},
   "outputs": [],
   "source": [
    "from camera import getCamera_src, getCamera_foto\n",
    "from detectie import detect_foto"
   ]
  },
  {
   "cell_type": "markdown",
   "metadata": {},
   "source": [
    "### 3.2 Foto nemen met camera"
   ]
  },
  {
   "attachments": {},
   "cell_type": "markdown",
   "metadata": {},
   "source": [
    "Voer onderstaande functie `get_camera_src` uit. De nummers duiden de camera's aan die op de laptop gedetecteerd zijn."
   ]
  },
  {
   "cell_type": "code",
   "execution_count": null,
   "metadata": {},
   "outputs": [],
   "source": [
    "print(getCamera_src())"
   ]
  },
  {
   "attachments": {},
   "cell_type": "markdown",
   "metadata": {},
   "source": [
    "Voer de functie `getCamera_foto` in onderstaande code-blok uit, om een camera-src naar keuze te openen.\n",
    "- Druk op `s`: om een foto op te slaan in een bestand **foto.jpg**.\n",
    "- Druk op `q`: om de functie te stoppen.\n",
    "\n",
    "<div style=\"background-color:#8B0000\"> \n",
    "Kies een camera-nummer uit de bovenaan bekomen lijst. Gebruik je de laptopcamera? Dan is het waarschijnlijk 0.\n",
    "</div>\n",
    "\n",
    "Ga verder naar `deel 3.3` wanneer je een goede foto hebt."
   ]
  },
  {
   "cell_type": "code",
   "execution_count": null,
   "metadata": {},
   "outputs": [],
   "source": [
    "getCamera_foto(0)"
   ]
  },
  {
   "cell_type": "markdown",
   "metadata": {},
   "source": [
    "### 3.3 Objecten detecteren op afbeelding"
   ]
  },
  {
   "cell_type": "markdown",
   "metadata": {},
   "source": [
    "Voer de functie `detect_foto` uit om objecten op de meegegeven foto te detecteren. De functie heeft 3 argumenten.\n",
    "1. Pad naar de genomen foto.\n",
    "2. Te gebruiken YOLO-model.\n",
    "3. De accuraatheid die een gedetecteerde object minstens moet hebben."
   ]
  },
  {
   "cell_type": "code",
   "execution_count": null,
   "metadata": {},
   "outputs": [],
   "source": [
    "detect_foto(\"foto.jpg\", \"yolov8m.pt\", 0.6)"
   ]
  },
  {
   "cell_type": "markdown",
   "metadata": {},
   "source": [
    "#### Oefen mee 3.1"
   ]
  },
  {
   "cell_type": "markdown",
   "metadata": {},
   "source": [
    "Neem foto's van jezelf en enkele onderdelen van het lokaal. Probeer volgende experimenten.\n",
    "- Zet de accuraatheid zeer laag, en zeer hoog.\n",
    "- Maak een stapel van verschillende objecten (VB. inhoud pennenzak).\n",
    "- Verstop objecten gedeeltelijk achter andere zaken."
   ]
  },
  {
   "cell_type": "markdown",
   "metadata": {},
   "source": [
    "<div style=\"background-color:#8B0000\"> \n",
    "Herinner je dat het YOLO-model slechts bepaalde objecten kan herkennen. Hieronder is een overzicht te vinden.\n",
    "</div>\n",
    "<br>\n",
    "<div style=\"float: left; width: 15%\"> \n",
    "    <ul>\n",
    "        <li>persoon</li>\n",
    "        <li>fiets</li>\n",
    "        <li>auto</li>\n",
    "        <li>motor</li>\n",
    "        <li>vliegtuig</li>\n",
    "        <li>bus</li>\n",
    "        <li>trein</li>\n",
    "        <li>vrachtwagen</li>\n",
    "        <li>boot</li>\n",
    "        <li>plant</li>\n",
    "        <li>bed</li>\n",
    "        <li>eettafel</li>\n",
    "        <li>toaster</li>\n",
    "        <li>tandenborstel</li>\n",
    "    </ul>\n",
    "</div>\n",
    "<div style=\"float: left; width: 15%;\">\n",
    "    <ul>\n",
    "        <li>vogel</li>\n",
    "        <li>kat</li>\n",
    "        <li>hond</li>\n",
    "        <li>paard</li>\n",
    "        <li>schaap</li>\n",
    "        <li>koe</li>\n",
    "        <li>olifant</li>\n",
    "        <li>beer</li>\n",
    "        <li>zebra</li>\n",
    "        <li>giraf</li>\n",
    "        <li>vaas</li>\n",
    "        <li>schaar</li>\n",
    "        <li>wasbak</li>\n",
    "        <li>teddybeer</li>\n",
    "    </ul>\n",
    "</div>\n",
    "<div style=\"float: left; width: 15%;\">\n",
    "    <ul>\n",
    "        <li>stoplicht</li>\n",
    "        <li>brandkraan</li>\n",
    "        <li>stopbord</li>\n",
    "        <li>parkeermeter</li>\n",
    "        <li>bank</li>\n",
    "        <li>rugzak</li>\n",
    "        <li>paraplu</li>\n",
    "        <li>handtas</li>\n",
    "        <li>das</li>\n",
    "        <li>koffer</li>\n",
    "        <li>frisbee</li>\n",
    "        <li>ski's</li>\n",
    "        <li>koelkast</li>\n",
    "    </ul>\n",
    "</div>\n",
    "<div style=\"float: right; width: 25%;\">\n",
    "    <ul>\n",
    "        <li>snowboard</li>\n",
    "        <li>sportbal</li>\n",
    "        <li>kite</li>\n",
    "        <li>baseballbat</li>\n",
    "        <li>baseballhandschoen</li>\n",
    "        <li>skateboard</li>\n",
    "        <li>surfboard</li>\n",
    "        <li>tennisracket</li>\n",
    "        <li>fles</li>\n",
    "        <li>wijnglas</li>\n",
    "        <li>hotdog</li>\n",
    "        <li>pizza</li>\n",
    "        <li>boek</li>\n",
    "    </ul>\n",
    "</div>\n",
    "<div style=\"float: right; width: 15%;\">\n",
    "    <ul>\n",
    "        <li>glas</li>\n",
    "        <li>vork</li>\n",
    "        <li>mes</li>\n",
    "        <li>lepel</li>\n",
    "        <li>kom</li>\n",
    "        <li>banaan</li>\n",
    "        <li>appel</li>\n",
    "        <li>sandwich</li>\n",
    "        <li>appelsien</li>\n",
    "        <li>broccoli</li>\n",
    "        <li>wortel</li>\n",
    "        <li>donut</li>\n",
    "        <li>klok</li>\n",
    "    </ul>\n",
    "</div>\n",
    "<div style=\"float: right; width: 15%;\">\n",
    "    <ul>\n",
    "        <li>cake</li>\n",
    "        <li>stoel</li>\n",
    "        <li>sofa</li>\n",
    "        <li>toilet</li>\n",
    "        <li>tvmonitor</li>\n",
    "        <li>laptop</li>\n",
    "        <li>muis</li>\n",
    "        <li>afstandbediening</li>\n",
    "        <li>toetsenbord</li>\n",
    "        <li>gsm</li>\n",
    "        <li>microgolfoven</li>\n",
    "        <li>oven</li>\n",
    "        <li>haardroger</li>\n",
    "    </ul>\n",
    "</div>\n",
    "</div>"
   ]
  },
  {
   "attachments": {},
   "cell_type": "markdown",
   "metadata": {},
   "source": [
    "<div style=\"background-color:#000065\"> \n",
    "Er zijn verschillende redenen waarom een object niet goed gedetecteerd kan worden. De lichtinval is bv. belangrijk: als de foto over- of onderbelicht is, kan het model minder goed werken. <br>\n",
    "\n",
    "Je weet reeds dat de computer een afbeelding ziet als een raster van pixels. Als de belichting anders is, zullen deze pixels niet dezelfde kleurwaarde hebben als deze van de **dataset**, waardoor het algoritme problemen ondervindt. \n",
    "\n",
    "Zoals je hebt gezien in de inleiding, kan de achtergrond ook een grote rol spelen. \n",
    "\n",
    "Er kunnen dus heel wat problemen ontstaan zijn bij het detecteren van een foto. Dit benadrukt dus nogmaals de noodzaak van een **uitgebreide en gevarieerde dataset**. \n",
    "</div>"
   ]
  },
  {
   "attachments": {},
   "cell_type": "markdown",
   "metadata": {},
   "source": [
    "## 4. Objectherkenning in real-time"
   ]
  },
  {
   "cell_type": "markdown",
   "metadata": {},
   "source": [
    "Het is natuurlijk ook mogelijk om het nemen van een foto over te slaan. We streamen de camera in real-time naar het YOLO-model."
   ]
  },
  {
   "cell_type": "markdown",
   "metadata": {},
   "source": [
    "### 4.1 Modules importeren"
   ]
  },
  {
   "cell_type": "markdown",
   "metadata": {},
   "source": [
    "We importeren een aantal zaken uit de bijgeleverde bestanden `camera.py` & `detectie.py`.\n",
    "<div style=\"background-color:#8B0000\"> \n",
    "Wil je een project maken waarvoor een camera nodig is? Dan kan je je laten inspireren door de code in <b>camera.py</b>.\n",
    "</div>"
   ]
  },
  {
   "cell_type": "code",
   "execution_count": null,
   "metadata": {},
   "outputs": [],
   "source": [
    "from camera import getCamera_src\n",
    "from detectie import detect_realtime"
   ]
  },
  {
   "cell_type": "markdown",
   "metadata": {},
   "source": [
    "### 4.2 Camera-src selecteren en streamen"
   ]
  },
  {
   "cell_type": "markdown",
   "metadata": {},
   "source": [
    "Voer onderstaande functie `get_camera_src` uit. De nummers duiden de camera's aan die op de laptop gedetecteerd zijn."
   ]
  },
  {
   "cell_type": "code",
   "execution_count": null,
   "metadata": {},
   "outputs": [],
   "source": [
    "print(getCamera_src())"
   ]
  },
  {
   "cell_type": "markdown",
   "metadata": {},
   "source": [
    "Voer de functie `detect_realtime` uit om de camera naar het model te streamen. De functie heeft 3 argumenten.\n",
    "1. Source van te streamen camera (laptop is typisch 0).\n",
    "2. Te gebruiken YOLO-model.\n",
    "3. De accuraatheid die het gedetecteerde object minstens moet hebben.\n",
    "\n",
    "<div style=\"background-color:#8B0000\"> \n",
    "Druk op <b>'q'</b> om het streamen te stoppen.\n",
    "</div>"
   ]
  },
  {
   "cell_type": "code",
   "execution_count": null,
   "metadata": {},
   "outputs": [],
   "source": [
    "detect_realtime(0, \"yolov8m.pt\", 0.6)"
   ]
  },
  {
   "cell_type": "markdown",
   "metadata": {},
   "source": [
    "### 4.3 Framerate van real-time streamen"
   ]
  },
  {
   "attachments": {},
   "cell_type": "markdown",
   "metadata": {},
   "source": [
    "Je zal merken dat realtime niet erg snel (bij mij rond de 3 FPS). De reden hiervoor is dat YOLO de frames moet verwerken met de CPU van de computer. CPU's zijn hier eigenlijk niet voor geschikt, we zouden een GPU (Graphical Processing Unit) moeten gebruiken."
   ]
  },
  {
   "cell_type": "markdown",
   "metadata": {},
   "source": [
    "Er is echter nog een andere oplossing om een hogere FPS te halen. Momenteel zijn we model `yolov8m.pt` aan het gebruiken. Niemand heeft echter gezegd dat dit het enige YOLOv8 model is. Er zijn [5 modellen](https://github.com/ultralytics/ultralytics) verkrijgbaar!\n",
    "\n",
    "<img src=\"../_afbeeldingen/yolo_modellen.png\" alt=\"Dwengo\" style =\"display: block; margin-left: auto; margin-right: auto; margin-bottom: 30px; width:50%\"/>"
   ]
  },
  {
   "cell_type": "markdown",
   "metadata": {},
   "source": [
    "De belangrijkst kolommen zijn mAP (accuraatheid) & Speed cpu (snelheid). Over het algemeen geldt: 'hoe accurater een model, hoe trager het is'. \n",
    "- `yolov8m.pt` houdt de accuraatheid & snelheid in balans. \n",
    "- `yolov8n.pt` wisselt accuraatheid in om een hoge(re) snelheid te bekomen.\n",
    "- `yolov8x.pt` iets accurater dan de m-variant, maar verliest hierdoor een hoop snelheid.\n"
   ]
  },
  {
   "attachments": {},
   "cell_type": "markdown",
   "metadata": {},
   "source": [
    "#### Oefen mee 4.1\n",
    "- Hoeveel FPS behalen volgende modellen (Opgelet! `yolov8x.pt` inladen kan even duren). <div style=\"background-color:#008000\">\n",
    "    - yolov8m.pt: \n",
    "    - yolov8n.pt: \n",
    "    - yolov8x.pt: \n",
    "</div>\n",
    "\n",
    "- Leg een aantal verschillende voorwerpen op tafel. Probeer alle modellen uit. <div style=\"background-color:#008000\">\n",
    "    - Welke geeft volgens jou de beste resultaten (+ reden):\n",
    "    - Welke zou jij het liefst gebruiken (+ reden):\n",
    "</div>\n",
    "\n",
    "<div style=\"background-color:#8B0000\"> \n",
    "Druk op <b>'q'</b> om het streamen te stoppen.\n",
    "</div>"
   ]
  },
  {
   "cell_type": "code",
   "execution_count": null,
   "metadata": {},
   "outputs": [],
   "source": [
    "# Kies correcte camera-SRC & wissel van YOLO-model (model n is momenteel geselecteerd).\n",
    "# Het YOLO-model wordt automatisch gedownload als het nog niet op de laptop staat.\n",
    "detect_realtime(0, \"yolov8n.pt\", 0.6)"
   ]
  },
  {
   "attachments": {},
   "cell_type": "markdown",
   "metadata": {},
   "source": [
    "#\n",
    "  <a href=\"https://www.aiopschool.be/chatbot/\"> \n",
    "        <img src=\"../_afbeeldingen/bannerugentdwengo.png\" alt=\"Dwengo\" style =\"display: block; margin-left: auto; margin-right: auto; margin-bottom: 30px; width:20%\"/>\n",
    "    </a>\n",
    "\n",
    "Deze Notebook is gebaseerd op: Notebook AI in de Landbouw, zie <a href=\"http://www.aiopschool.be\">AI Op School</a>, van S. Pletinck , F. wyffels & N. Gesquière is in licentie gegeven volgens een <a href=\"http://creativecommons.org/licenses/by-nc-sa/4.0/\">Creative Commons Naamsvermelding-NietCommercieel-GelijkDelen 4.0 Internationaal-licentie</a>. "
   ]
  }
 ],
 "metadata": {
  "kernelspec": {
   "display_name": "prog4",
   "language": "python",
   "name": "prog4"
  },
  "language_info": {
   "codemirror_mode": {
    "name": "ipython",
    "version": 3
   },
   "file_extension": ".py",
   "mimetype": "text/x-python",
   "name": "python",
   "nbconvert_exporter": "python",
   "pygments_lexer": "ipython3",
   "version": "3.11.4"
  }
 },
 "nbformat": 4,
 "nbformat_minor": 4
}
