{
 "cells": [
  {
   "attachments": {},
   "cell_type": "markdown",
   "metadata": {},
   "source": [
    "# Werken met Jupyter Notebook"
   ]
  },
  {
   "attachments": {},
   "cell_type": "markdown",
   "metadata": {},
   "source": [
    "<div style=\"background-color:#8B8000\">\n",
    "Welkom in jullie eerste Jupyter Notebook!\n",
    "In deze notebook wordt uit de doeken gedaan wat notebooks zijn en hoe je ze kunt gebruiken. \n",
    "Het wordt aangeraden om een donker VS Code thema te gebruiken.\n",
    "</div>"
   ]
  },
  {
   "attachments": {},
   "cell_type": "markdown",
   "metadata": {},
   "source": [
    "## 1. Jupyter Notebook"
   ]
  },
  {
   "attachments": {},
   "cell_type": "markdown",
   "metadata": {},
   "source": [
    "Jupyter Notebook is een opensource-applicatie waarin je *notebooks* kan creëren, gebruiken en bewerken. Notebooks zijn **digitale documenten** die zowel uitvoerbare code bevatten, als tekst, afbeeldingen, filmpjes en hyperlinks. Eigenlijk kan je Notebooks beschouwen als een soort OneNote, waar je de code meteen bij kan uitvoeren. Het is dus ideaal voor lessen (eindelijk klaar met constant wisselen tussen VS Code & OneNote). \n",
    "\n",
    "Hiernaast is het ook binnen bedrijven een handige tool. Je kan de Notebook op een server zetten. Iedereen kan dan de scripts erin bekijken, wijzigen, en uitvoeren. Op deze manier kan de organisatie gemakkelijk een hoop kleinere scripts (inclusief uitleg) beheren.\n"
   ]
  },
  {
   "attachments": {},
   "cell_type": "markdown",
   "metadata": {},
   "source": [
    "## 2. Kaders en Kleuren"
   ]
  },
  {
   "attachments": {},
   "cell_type": "markdown",
   "metadata": {},
   "source": [
    "In de komende Notebooks worden **groene, gele, blauwe en rode kaders** gebruikt."
   ]
  },
  {
   "attachments": {},
   "cell_type": "markdown",
   "metadata": {},
   "source": [
    "<div style=\"background-color:#008000\">\n",
    "De groene kaders bevatten vragen van de Notebook. Je moet in deze cellen een antwoord op de vraag formuleren.\n",
    "</div>"
   ]
  },
  {
   "attachments": {},
   "cell_type": "markdown",
   "metadata": {},
   "source": [
    "<div style=\"background-color:#8B8000\"> \n",
    "De gele kaders geven uitleg over de Notebook en randinformatie m.b.t. de inhoud van de notebook.\n",
    "</div>"
   ]
  },
  {
   "attachments": {},
   "cell_type": "markdown",
   "metadata": {},
   "source": [
    "<div style=\"background-color:#000065\"> \n",
    "De blauwe kaders bevatten theorie over computerwetenschappen, alsook andere theorie die je op dat moment behandelt.\n",
    "</div>"
   ]
  },
  {
   "attachments": {},
   "cell_type": "markdown",
   "metadata": {},
   "source": [
    "<div style=\"background-color:#8B0000\"> \n",
    "De rode kaders geven tips en waarschuwen. Kortom zaken waar je zeker op moet letten.\n",
    "</div>"
   ]
  },
  {
   "attachments": {},
   "cell_type": "markdown",
   "metadata": {},
   "source": [
    "## 3. Werken met Notebooks"
   ]
  },
  {
   "attachments": {},
   "cell_type": "markdown",
   "metadata": {},
   "source": [
    "### 3.1 Soorten cellen"
   ]
  },
  {
   "attachments": {},
   "cell_type": "markdown",
   "metadata": {},
   "source": [
    "In de Notebooks vind je twee soorten cellen terug: *Markdown-cellen* en *code-cellen*.\n",
    "-  Een **Markdown-cel** komt overeen met een vak waarin je tekst kan schrijven, maar ook hyperlinks en afbeeldingen kunt invoegen. Dit veld en alle voorgaande velden zijn dus **Markdown-cellen**.\n",
    "-  Een **code-cel** dient om code in te geven. Je herkent een code-cel aan de grijze rand en de `[ ]` links ervan. Eens de code is uitgevoerd, staat er een getal tussen de `[ ]`. Het getal geeft aan wanneer deze code-cel is uitgevoerd.\n",
    "\n",
    "Als je over een bepaald deel van de Notebook staat, verschijnt links een grijze lijn. Dit duidt de grootte van de cel aan. Klik eenmaal op een cel, en deze lijn wordt blauw."
   ]
  },
  {
   "cell_type": "code",
   "execution_count": null,
   "metadata": {},
   "outputs": [],
   "source": [
    "# Dit is dus een code-cel."
   ]
  },
  {
   "cell_type": "markdown",
   "metadata": {},
   "source": [
    "#### Oefen mee 3.1"
   ]
  },
  {
   "attachments": {},
   "cell_type": "markdown",
   "metadata": {},
   "source": [
    "Dubbelkik --> **hier** <--. De achterliggende instructies van deze Markdown-cel worden zichtbaar, evenals de contour van de cel. Keer terug naar de meer leesbare weergave door op **Ctrl + Enter** te drukken of op het 'vinkje' rechts in de werkbalk. Merk ook op dat de afbeelding 'vinkje' is ingevoerd via HTML. <img src=\"_afbeeldingen/run.jpg\" alt=\"Banner\" style =\"display: block; margin-left: auto; margin-right: auto; width: 10%\"/>"
   ]
  },
  {
   "attachments": {},
   "cell_type": "markdown",
   "metadata": {},
   "source": [
    "<div style=\"background-color:#8B8000\">\n",
    "Soms wordt in de Notebook gevraagd om een antwoord te formuleren bij een opdracht. Dat gebeurt steeds in een Markdown-cel.\n",
    "Je dubbelklikt dan op de cel en voert het antwoord in. Met 'Ctrl + Enter' of 'het vinkje' keer je terug naar de normale versie van de cel.\n",
    "</div>"
   ]
  },
  {
   "attachments": {},
   "cell_type": "markdown",
   "metadata": {},
   "source": [
    "#### Oefen mee 3.2"
   ]
  },
  {
   "attachments": {},
   "cell_type": "markdown",
   "metadata": {},
   "source": [
    "Hover met de muis in het midden-onderaan van deze cel (ook midden-bovenaan werkt). Onderstaand venster zal verschijnen. Je kan hiermee nieuwe cellen toevoegen.\n",
    "<img src=\"_afbeeldingen/celtoevoegen.jpg\" alt=\"Banner\" style =\"display: block; margin-left: auto; margin-right: auto; width: 25%\"/>"
   ]
  },
  {
   "attachments": {},
   "cell_type": "markdown",
   "metadata": {},
   "source": [
    "Voer volgende instructies uit:\n",
    "- Voeg een \"code-cel\" toe **boven deze cel**.\n",
    "- De aangemaakte cel is een code-cel. Verander het in een Markdown-cel door erin te klikken en rechtsonderaan **Code** te veranderen naar **Markdown**. \n",
    "- Verplaats de nieuwe cel nu onder deze cel. Dit door de cel links vast te pakken en te slepen.\n",
    "- Dubbelklik tenslotte op de verplaatste cel. Schrijf erin \"oefen mee 3.2 klaar\"."
   ]
  },
  {
   "cell_type": "markdown",
   "metadata": {},
   "source": [
    "#### Oefen mee 3.3"
   ]
  },
  {
   "attachments": {},
   "cell_type": "markdown",
   "metadata": {},
   "source": [
    "Voer volgende instructies uit:\n",
    "- Klik in de code-cel hieronder. \n",
    "- Druk op 'Ctrl + Enter' of op 'Play'-pijl links in de werkbalk om de code-cel uit te voeren. Let op het getal dat zal verschijnen tussen de `[ ]`.\n",
    "\n",
    "De uitvoer verschijnt onder de cel."
   ]
  },
  {
   "cell_type": "markdown",
   "metadata": {},
   "source": [
    "<div style=\"background-color:#8B0000\"> \n",
    "Mogelijks vraagt Notebook je om een 'Kernel' te kiezen. Dit is simpelweg de versie van Python die je wilt gebruiken. Selecteer je globale Python. Druk vervolgens op 'Install' om Jupyter te installeren. Dit installeren duurt een minuut, hierna kan je verder met de oefen mee.</div>"
   ]
  },
  {
   "cell_type": "code",
   "execution_count": null,
   "metadata": {},
   "outputs": [],
   "source": [
    "print(\"Welkom bij Jupyter Notebooks!\")"
   ]
  },
  {
   "cell_type": "markdown",
   "metadata": {},
   "source": [
    "#### Oefen mee 3.4"
   ]
  },
  {
   "attachments": {},
   "cell_type": "markdown",
   "metadata": {},
   "source": [
    "Als je op een cel klikt, verschijnen er rechts een aantal knoppen. Klik op de drie puntjes \"...\" . Je kan hier een cel knippen, kopiëren, plakken, enz."
   ]
  },
  {
   "cell_type": "markdown",
   "metadata": {},
   "source": [
    "<div style=\"background-color:#8B0000\"> \n",
    "Knippen, kopiëren en plakken kan ook door een cel te selecteren en X, C en V te gebruiken. Opgelet! De ctrl-toets is niet nodig."
   ]
  },
  {
   "cell_type": "markdown",
   "metadata": {},
   "source": [
    "Voer volgende instructies uit:\n",
    "- Gebruik de knip-knop en plak-knop om onderstaande afbeelding boven deze cel te verplaatsen."
   ]
  },
  {
   "cell_type": "markdown",
   "metadata": {},
   "source": [
    "</div> <div><img src=\"_afbeeldingen/knipcopypaste.jpg\" alt=\"Banner\" style =\"display: block; margin-left: auto; margin-right: auto; width: 50%\"/></div>"
   ]
  },
  {
   "cell_type": "markdown",
   "metadata": {},
   "source": [
    "#### Oefen mee 3.5"
   ]
  },
  {
   "cell_type": "markdown",
   "metadata": {},
   "source": [
    "Je merkt dat notebooks best lang kunnen worden. Daarom is er de mogelijkheid om onderdelen toe te klappen. Hover over de cel met 'Oefen mee 3.4'. Er staat een pijltje. Als je hierop klikt, sluit de oefening zich. Je kan dan dit ook gebruiken om grotere delen code te sluiten. Om terug te openen, druk je nogmaals op de pijl.\n",
    "\n",
    "Voer volgende instructies uit:\n",
    "- Sluit deel '1. Jupyter Notebook'\n",
    "- Sluit deel '2. Kaders en Kleuren'.\n",
    "- Sluit deel '3.1 Soorten cellen' (ga hierna door naar deel 3.2)."
   ]
  },
  {
   "attachments": {},
   "cell_type": "markdown",
   "metadata": {},
   "source": [
    "### 3.2 Notebook als een programma"
   ]
  },
  {
   "attachments": {},
   "cell_type": "markdown",
   "metadata": {},
   "source": [
    "Toen je in **oefen mee 3.3** de code-cel uitvoerde, verscheen er tussen de `[ ]` een cijfer. Het cijfer duidt aan als hoeveelste \"regel\" de code is uitgevoerd."
   ]
  },
  {
   "attachments": {},
   "cell_type": "markdown",
   "metadata": {},
   "source": [
    "<div style=\"background-color:#8B0000\"> \n",
    "Een Notebook onthoudt als het ware in welke volgorde code is uitgevoerd. Ongeacht waar deze code-cellen zich bevinden in de Notebook.\n",
    "<div>"
   ]
  },
  {
   "cell_type": "markdown",
   "metadata": {},
   "source": [
    "#### Oefen mee 3.6"
   ]
  },
  {
   "attachments": {},
   "cell_type": "markdown",
   "metadata": {},
   "source": [
    "**Let tijdens deze opdracht goed op de cijfers tussen de** `[ ]` <br>\n",
    "\n",
    "Onderaan staan twee codeblokken. Voer eerst de bovenste uit. Dit geeft een **foutmelding** omdat de variabele x nog niet bestaat. <br>\n",
    "\n",
    "Voer nu eerst de onderste uit en vervolgens de bovenste. De Notebook weet nu wel wat variabele x is. Het is namelijk in een voorgaande \"regel\" (getal tussen de `[ ]`) gedeclareerd."
   ]
  },
  {
   "cell_type": "code",
   "execution_count": 1,
   "metadata": {},
   "outputs": [
    {
     "ename": "NameError",
     "evalue": "name 'x' is not defined",
     "output_type": "error",
     "traceback": [
      "\u001b[1;31m---------------------------------------------------------------------------\u001b[0m",
      "\u001b[1;31mNameError\u001b[0m                                 Traceback (most recent call last)",
      "Cell \u001b[1;32mIn[1], line 1\u001b[0m\n\u001b[1;32m----> 1\u001b[0m \u001b[38;5;28mprint\u001b[39m(\u001b[43mx\u001b[49m)\n",
      "\u001b[1;31mNameError\u001b[0m: name 'x' is not defined"
     ]
    }
   ],
   "source": [
    "print(x)"
   ]
  },
  {
   "cell_type": "code",
   "execution_count": null,
   "metadata": {},
   "outputs": [],
   "source": [
    "x = 10"
   ]
  },
  {
   "cell_type": "markdown",
   "metadata": {},
   "source": [
    "#### Oefen mee 3.7"
   ]
  },
  {
   "attachments": {},
   "cell_type": "markdown",
   "metadata": {},
   "source": [
    "**Let tijdens deze opdracht goed op de cijfers tussen de** `[ ]` <br>\n",
    "\n",
    "- Onderaan staan twee codeblokken. Voer eerst de bovenste uit. Vervolgens het onderste. \n",
    "    - <div style=\"background-color:#008000\"> Wat print dit?       10         </div>\n",
    "- Verander de waarde van y in het bovenste blok naar 10 **zonder** dit bovenste blok opnieuw uit te voeren. Voer nu het onderste blok uit. \n",
    "    - <div style=\"background-color:#008000\"> Wat print dit?       het originele getal         </div>\n",
    "- Voer nu eerst het bovenste blok uit en vervolgens het onderste blok. \n",
    "    - <div style=\"background-color:#008000\"> Wat print dit?       nu print hij het nieuwe variable         </div>\n",
    "\n",
    "Het moet opvallen dat code-blokken aanpasbaar zijn. Maar enkel na het uitvoeren neemt Notebook de wijziging over."
   ]
  },
  {
   "cell_type": "code",
   "execution_count": 5,
   "metadata": {},
   "outputs": [],
   "source": [
    "y = 20"
   ]
  },
  {
   "cell_type": "code",
   "execution_count": 6,
   "metadata": {},
   "outputs": [
    {
     "name": "stdout",
     "output_type": "stream",
     "text": [
      "20\n"
     ]
    }
   ],
   "source": [
    "print(y)"
   ]
  },
  {
   "attachments": {},
   "cell_type": "markdown",
   "metadata": {},
   "source": [
    "### 3.3 Gebruik van venv in Notebook"
   ]
  },
  {
   "attachments": {},
   "cell_type": "markdown",
   "metadata": {},
   "source": [
    "Kijk rechtsboven in VS Code. Je ziet hier de interpreter die Notebook momenteel gebruikt (bvb globale Python versie 3.10.5).\n",
    "\n",
    "<img src=\"_afbeeldingen/interpreter.jpg\" alt=\"Banner\" style =\"display: block; margin-left: auto; margin-right: auto; width: 20%\"/> \n",
    "\n",
    "Jupyter Notebook gebruikt nu de globale Python Interpreter. Dit is een probleem. Als we via Notebook modules installeren, worden deze dus ook globaal toegevoegd. In dit hoofdstuk zullen we veel (en grote) modules installeren. We bewaren deze dus best in een aparte virtual environment. Laten we kijken hoe deze in te stellen."
   ]
  },
  {
   "attachments": {},
   "cell_type": "markdown",
   "metadata": {},
   "source": [
    "#### STAP 1: aanmaken venv (optioneel)"
   ]
  },
  {
   "cell_type": "markdown",
   "metadata": {},
   "source": [
    "Maak een venv aan. Kies meteen een logische locatie. Verplaatsen van de venv kan leiden tot foutmeldingen. Ik vind het persoonlijk het eenvoudigst om een map op het bureaublad te voorzien waarin alle venv staan. Als je reeds een venv hebt die je wilt gebruiken, sla je deze stap over."
   ]
  },
  {
   "attachments": {},
   "cell_type": "markdown",
   "metadata": {},
   "source": [
    "---\n",
    "```bash\n",
    "# IN CMD: ga naar waar je de venv wilt aanmaken. Bvb een map venv op het bureaublad.\n",
    "C:\\Users\\Hendrik.Clijsters> cd C:/Users/Hendrik.Clijsters/Desktop/venv\n",
    "\n",
    "# IN CMD: maak venv met naam 'voorbeeld_venv' aan.\n",
    "C:/Users/Hendrik.Clijsters/Desktop/venv> python -m venv voorbeeld_venv\n",
    "```\n",
    "---"
   ]
  },
  {
   "attachments": {},
   "cell_type": "markdown",
   "metadata": {},
   "source": [
    "#### STAP 2: installeer ipykernel in venv (optioneel)"
   ]
  },
  {
   "cell_type": "markdown",
   "metadata": {},
   "source": [
    "activeer de venv, installeer er vervolgens de module ipykernel in."
   ]
  },
  {
   "attachments": {},
   "cell_type": "markdown",
   "metadata": {},
   "source": [
    "---\n",
    "```bash\n",
    "# IN CMD: activeren van de gemaakt venv.\n",
    "C:/Users/Hendrik.Clijsters/Desktop/venv> voorbeeld_venv\\Scripts\\activate\n",
    "\n",
    "# Ga pas verder als de venv links van het pad verschijnt.\n",
    "# IN CMD: installeer de module ipykernel in de venv (dit duurt even).\n",
    "(voorbeeld_venv) C:/.../venv> pip install ipykernel \n",
    "```\n",
    "---"
   ]
  },
  {
   "attachments": {},
   "cell_type": "markdown",
   "metadata": {},
   "source": [
    "#### STAP 3: voeg kernel toe aan interpreter"
   ]
  },
  {
   "cell_type": "markdown",
   "metadata": {},
   "source": [
    "Voeg een kernel toe aan deze venv. Dit is hetgeen Jupyter Notebook zal gebruiken om te communiceren met de venv."
   ]
  },
  {
   "attachments": {},
   "cell_type": "markdown",
   "metadata": {},
   "source": [
    "---\n",
    "```bash\n",
    "# IN CMD: activeren van de gemaakt venv.\n",
    "C:/Users/Hendrik.Clijsters/Desktop/venv> voorbeeld_venv\\Scripts\\activate\n",
    "\n",
    "# Controleer dat de venv geactiveerd is, vooraleer deze stap uit te voeren\n",
    "# IN CMD: voeg venv toe aan Notebook als kernel.\n",
    "(voorbeeld_venv) C:/.../venv> ipython kernel install --user --name=prog4\n",
    "```\n",
    "---"
   ]
  },
  {
   "cell_type": "markdown",
   "metadata": {},
   "source": [
    "Herstart VS Code en klik rechtsboven op de kernel. Selecteer vervolgens 'Jupyter Kernel'. Je zal zien dat er een extra optie bij is gekomen. Gebruik deze vanaf nu voor iedere Notebook. Zo zit je in een afgesloten omgeving.\n",
    "\n",
    "<img src=\"_afbeeldingen/kernel.png\" alt=\"Banner\" style =\"display: block; margin-left: auto; margin-right: auto; width: 60%\"/> "
   ]
  },
  {
   "cell_type": "markdown",
   "metadata": {},
   "source": [
    "<div style=\"background-color:#8B8000\"> \n",
    "<b>Goed gedaan!</b> Je hebt zojuist je eerste notebook doorlopen.\n",
    "</div>"
   ]
  }
 ],
 "metadata": {
  "kernelspec": {
   "display_name": "prog4",
   "language": "python",
   "name": "prog4"
  },
  "language_info": {
   "codemirror_mode": {
    "name": "ipython",
    "version": 3
   },
   "file_extension": ".py",
   "mimetype": "text/x-python",
   "name": "python",
   "nbconvert_exporter": "python",
   "pygments_lexer": "ipython3",
   "version": "3.12.0"
  }
 },
 "nbformat": 4,
 "nbformat_minor": 4
}
